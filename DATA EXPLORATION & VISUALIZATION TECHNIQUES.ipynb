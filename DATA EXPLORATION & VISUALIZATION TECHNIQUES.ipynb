{
  "cells": [
    {
      "cell_type": "markdown",
      "metadata": {
        "id": "view-in-github",
        "colab_type": "text"
      },
      "source": [
        "<a href=\"https://colab.research.google.com/github/shamiraty/ANOMALIES-DETECTION-AND-TREATMENT/blob/main/DATA%20EXPLORATION%20%26%20VISUALIZATION%20TECHNIQUES.ipynb\" target=\"_parent\"><img src=\"https://colab.research.google.com/assets/colab-badge.svg\" alt=\"Open In Colab\"/></a>"
      ]
    },
    {
      "cell_type": "markdown",
      "source": [],
      "metadata": {
        "id": "nJdFB8tBFLc-"
      },
      "id": "nJdFB8tBFLc-"
    },
    {
      "cell_type": "markdown",
      "source": [
        "# **DATA EXPLORATION & VISUALIZATION TECHNIQUES**\n",
        "# **DATA CLEANING**\n",
        "# **ANOMALIES DETECTION AND TREATMENT**\n",
        "\n",
        "---\n",
        "\n",
        "## 🔆 **Applied Domains**\n",
        "\n",
        "1. Statistics\n",
        "2. Healthcare and Medicine\n",
        "3. Finance and Economics\n",
        "4. Marketing and Customer Analytics\n",
        "5. Environmental Science\n",
        "6. Education Research\n",
        "7. Operational Research\n",
        "8. Government and Public Policy\n",
        "9. Psychology and Behavioral Sciences\n",
        "10. Engineering and Technology\n",
        "11. Supply Chain and Logistics\n",
        "12. Sports Analytics\n",
        "13. Information Systems\n",
        "14. Project Management\n",
        "\n",
        "---\n",
        "\n",
        "## 🔆 **Contact Information**\n",
        "\n",
        "> WhatsApp\n",
        "- +255675839840\n",
        "- +255656848274\n",
        "\n",
        "> YouTube\n",
        "[YouTube Channel](https://www.youtube.com/channel/UCjepDdFYKzVHFiOhsiVVffQ)\n",
        "\n",
        "> Telegram\n",
        "- +255656848274\n",
        "- +255738144353\n",
        "\n",
        "> PlayStore\n",
        "[PlayStore Developer Page](https://play.google.com/store/apps/dev?id=7334720987169992827&hl=en_US&pli=1)\n",
        "\n",
        "> GitHub\n",
        "[GitHub Profile](https://github.com/shamiraty/)\n",
        "<hr>\n"
      ],
      "metadata": {
        "id": "wdWVWVAcGVm9"
      },
      "id": "wdWVWVAcGVm9"
    },
    {
      "cell_type": "markdown",
      "source": [
        "# **IMPORT DEPENDENCIES**"
      ],
      "metadata": {
        "id": "tafT_q9TUcAL"
      },
      "id": "tafT_q9TUcAL"
    },
    {
      "cell_type": "code",
      "execution_count": 47,
      "id": "9e15bf7a-31cd-4b46-9145-c98ea92e8007",
      "metadata": {
        "id": "9e15bf7a-31cd-4b46-9145-c98ea92e8007"
      },
      "outputs": [],
      "source": [
        "import pandas as pd\n",
        "import plotly.graph_objects as go\n",
        "import numpy as np\n",
        "from scipy.stats import norm, zscore\n",
        "from sklearn.neighbors import LocalOutlierFactor\n",
        "from sklearn.ensemble import IsolationForest\n",
        "import plotly.express as px\n",
        "from sklearn.impute import SimpleImputer"
      ]
    },
    {
      "cell_type": "markdown",
      "id": "b6553798-22fd-47bd-b496-93df5553af1e",
      "metadata": {
        "id": "b6553798-22fd-47bd-b496-93df5553af1e"
      },
      "source": [
        " # **SECTION A**\n",
        "\n",
        "# **NULL COLUMNS DETECTION AND TREATMENT TECHNIQUES**"
      ]
    },
    {
      "cell_type": "markdown",
      "id": "6ac7ccf9-5e96-42ab-a0f0-046ef3a251ea",
      "metadata": {
        "id": "6ac7ccf9-5e96-42ab-a0f0-046ef3a251ea"
      },
      "source": [
        ">  # **1. LOAD DATASET**"
      ]
    },
    {
      "cell_type": "code",
      "execution_count": null,
      "id": "9674d816-225a-4319-865a-1cba5ddd3be1",
      "metadata": {
        "id": "9674d816-225a-4319-865a-1cba5ddd3be1"
      },
      "outputs": [],
      "source": [
        "# Load dataset\n",
        "df = pd.read_csv('datasets2.csv')\n",
        "print(df)"
      ]
    },
    {
      "cell_type": "markdown",
      "id": "318c1429-4983-48b9-a7fb-c2354cd59cd4",
      "metadata": {
        "id": "318c1429-4983-48b9-a7fb-c2354cd59cd4"
      },
      "source": [
        "> # **1. FREQUENCY /PERCENT  OF CLEAN AND NULL VALUES**"
      ]
    },
    {
      "cell_type": "code",
      "execution_count": 49,
      "id": "6a8d6498-002a-4634-a0d8-1d385ce3ac6b",
      "metadata": {
        "colab": {
          "base_uri": "https://localhost:8080/",
          "height": 542
        },
        "id": "6a8d6498-002a-4634-a0d8-1d385ce3ac6b",
        "outputId": "2133ac46-c964-4958-f4e1-12336433181b"
      },
      "outputs": [
        {
          "output_type": "display_data",
          "data": {
            "text/html": [
              "<html>\n",
              "<head><meta charset=\"utf-8\" /></head>\n",
              "<body>\n",
              "    <div>            <script src=\"https://cdnjs.cloudflare.com/ajax/libs/mathjax/2.7.5/MathJax.js?config=TeX-AMS-MML_SVG\"></script><script type=\"text/javascript\">if (window.MathJax && window.MathJax.Hub && window.MathJax.Hub.Config) {window.MathJax.Hub.Config({SVG: {font: \"STIX-Web\"}});}</script>                <script type=\"text/javascript\">window.PlotlyConfig = {MathJaxConfig: 'local'};</script>\n",
              "        <script charset=\"utf-8\" src=\"https://cdn.plot.ly/plotly-2.24.1.min.js\"></script>                <div id=\"23ccb9ba-2271-432b-9bab-902373c489df\" class=\"plotly-graph-div\" style=\"height:525px; width:100%;\"></div>            <script type=\"text/javascript\">                                    window.PLOTLYENV=window.PLOTLYENV || {};                                    if (document.getElementById(\"23ccb9ba-2271-432b-9bab-902373c489df\")) {                    Plotly.newPlot(                        \"23ccb9ba-2271-432b-9bab-902373c489df\",                        [{\"alignmentgroup\":\"True\",\"customdata\":[[4.2]],\"hovertemplate\":\"Data Type=%{x}\\u003cbr\\u003eCount=%{y}\\u003cbr\\u003ePercentage (%)=%{customdata[0]:.2f%}\\u003cextra\\u003e\\u003c\\u002fextra\\u003e\",\"legendgroup\":\"Null\",\"marker\":{\"color\":\"#636efa\",\"pattern\":{\"shape\":\"\"}},\"name\":\"Null\",\"offsetgroup\":\"Null\",\"orientation\":\"v\",\"showlegend\":true,\"text\":[4.2],\"textposition\":\"auto\",\"x\":[\"Null\"],\"xaxis\":\"x\",\"y\":[42],\"yaxis\":\"y\",\"type\":\"bar\"},{\"alignmentgroup\":\"True\",\"customdata\":[[95.8]],\"hovertemplate\":\"Data Type=%{x}\\u003cbr\\u003eCount=%{y}\\u003cbr\\u003ePercentage (%)=%{customdata[0]:.2f%}\\u003cextra\\u003e\\u003c\\u002fextra\\u003e\",\"legendgroup\":\"Clean\",\"marker\":{\"color\":\"#EF553B\",\"pattern\":{\"shape\":\"\"}},\"name\":\"Clean\",\"offsetgroup\":\"Clean\",\"orientation\":\"v\",\"showlegend\":true,\"text\":[95.8],\"textposition\":\"auto\",\"x\":[\"Clean\"],\"xaxis\":\"x\",\"y\":[958],\"yaxis\":\"y\",\"type\":\"bar\"}],                        {\"template\":{\"data\":{\"histogram2dcontour\":[{\"type\":\"histogram2dcontour\",\"colorbar\":{\"outlinewidth\":0,\"ticks\":\"\"},\"colorscale\":[[0.0,\"#0d0887\"],[0.1111111111111111,\"#46039f\"],[0.2222222222222222,\"#7201a8\"],[0.3333333333333333,\"#9c179e\"],[0.4444444444444444,\"#bd3786\"],[0.5555555555555556,\"#d8576b\"],[0.6666666666666666,\"#ed7953\"],[0.7777777777777778,\"#fb9f3a\"],[0.8888888888888888,\"#fdca26\"],[1.0,\"#f0f921\"]]}],\"choropleth\":[{\"type\":\"choropleth\",\"colorbar\":{\"outlinewidth\":0,\"ticks\":\"\"}}],\"histogram2d\":[{\"type\":\"histogram2d\",\"colorbar\":{\"outlinewidth\":0,\"ticks\":\"\"},\"colorscale\":[[0.0,\"#0d0887\"],[0.1111111111111111,\"#46039f\"],[0.2222222222222222,\"#7201a8\"],[0.3333333333333333,\"#9c179e\"],[0.4444444444444444,\"#bd3786\"],[0.5555555555555556,\"#d8576b\"],[0.6666666666666666,\"#ed7953\"],[0.7777777777777778,\"#fb9f3a\"],[0.8888888888888888,\"#fdca26\"],[1.0,\"#f0f921\"]]}],\"heatmap\":[{\"type\":\"heatmap\",\"colorbar\":{\"outlinewidth\":0,\"ticks\":\"\"},\"colorscale\":[[0.0,\"#0d0887\"],[0.1111111111111111,\"#46039f\"],[0.2222222222222222,\"#7201a8\"],[0.3333333333333333,\"#9c179e\"],[0.4444444444444444,\"#bd3786\"],[0.5555555555555556,\"#d8576b\"],[0.6666666666666666,\"#ed7953\"],[0.7777777777777778,\"#fb9f3a\"],[0.8888888888888888,\"#fdca26\"],[1.0,\"#f0f921\"]]}],\"heatmapgl\":[{\"type\":\"heatmapgl\",\"colorbar\":{\"outlinewidth\":0,\"ticks\":\"\"},\"colorscale\":[[0.0,\"#0d0887\"],[0.1111111111111111,\"#46039f\"],[0.2222222222222222,\"#7201a8\"],[0.3333333333333333,\"#9c179e\"],[0.4444444444444444,\"#bd3786\"],[0.5555555555555556,\"#d8576b\"],[0.6666666666666666,\"#ed7953\"],[0.7777777777777778,\"#fb9f3a\"],[0.8888888888888888,\"#fdca26\"],[1.0,\"#f0f921\"]]}],\"contourcarpet\":[{\"type\":\"contourcarpet\",\"colorbar\":{\"outlinewidth\":0,\"ticks\":\"\"}}],\"contour\":[{\"type\":\"contour\",\"colorbar\":{\"outlinewidth\":0,\"ticks\":\"\"},\"colorscale\":[[0.0,\"#0d0887\"],[0.1111111111111111,\"#46039f\"],[0.2222222222222222,\"#7201a8\"],[0.3333333333333333,\"#9c179e\"],[0.4444444444444444,\"#bd3786\"],[0.5555555555555556,\"#d8576b\"],[0.6666666666666666,\"#ed7953\"],[0.7777777777777778,\"#fb9f3a\"],[0.8888888888888888,\"#fdca26\"],[1.0,\"#f0f921\"]]}],\"surface\":[{\"type\":\"surface\",\"colorbar\":{\"outlinewidth\":0,\"ticks\":\"\"},\"colorscale\":[[0.0,\"#0d0887\"],[0.1111111111111111,\"#46039f\"],[0.2222222222222222,\"#7201a8\"],[0.3333333333333333,\"#9c179e\"],[0.4444444444444444,\"#bd3786\"],[0.5555555555555556,\"#d8576b\"],[0.6666666666666666,\"#ed7953\"],[0.7777777777777778,\"#fb9f3a\"],[0.8888888888888888,\"#fdca26\"],[1.0,\"#f0f921\"]]}],\"mesh3d\":[{\"type\":\"mesh3d\",\"colorbar\":{\"outlinewidth\":0,\"ticks\":\"\"}}],\"scatter\":[{\"fillpattern\":{\"fillmode\":\"overlay\",\"size\":10,\"solidity\":0.2},\"type\":\"scatter\"}],\"parcoords\":[{\"type\":\"parcoords\",\"line\":{\"colorbar\":{\"outlinewidth\":0,\"ticks\":\"\"}}}],\"scatterpolargl\":[{\"type\":\"scatterpolargl\",\"marker\":{\"colorbar\":{\"outlinewidth\":0,\"ticks\":\"\"}}}],\"bar\":[{\"error_x\":{\"color\":\"#2a3f5f\"},\"error_y\":{\"color\":\"#2a3f5f\"},\"marker\":{\"line\":{\"color\":\"#E5ECF6\",\"width\":0.5},\"pattern\":{\"fillmode\":\"overlay\",\"size\":10,\"solidity\":0.2}},\"type\":\"bar\"}],\"scattergeo\":[{\"type\":\"scattergeo\",\"marker\":{\"colorbar\":{\"outlinewidth\":0,\"ticks\":\"\"}}}],\"scatterpolar\":[{\"type\":\"scatterpolar\",\"marker\":{\"colorbar\":{\"outlinewidth\":0,\"ticks\":\"\"}}}],\"histogram\":[{\"marker\":{\"pattern\":{\"fillmode\":\"overlay\",\"size\":10,\"solidity\":0.2}},\"type\":\"histogram\"}],\"scattergl\":[{\"type\":\"scattergl\",\"marker\":{\"colorbar\":{\"outlinewidth\":0,\"ticks\":\"\"}}}],\"scatter3d\":[{\"type\":\"scatter3d\",\"line\":{\"colorbar\":{\"outlinewidth\":0,\"ticks\":\"\"}},\"marker\":{\"colorbar\":{\"outlinewidth\":0,\"ticks\":\"\"}}}],\"scattermapbox\":[{\"type\":\"scattermapbox\",\"marker\":{\"colorbar\":{\"outlinewidth\":0,\"ticks\":\"\"}}}],\"scatterternary\":[{\"type\":\"scatterternary\",\"marker\":{\"colorbar\":{\"outlinewidth\":0,\"ticks\":\"\"}}}],\"scattercarpet\":[{\"type\":\"scattercarpet\",\"marker\":{\"colorbar\":{\"outlinewidth\":0,\"ticks\":\"\"}}}],\"carpet\":[{\"aaxis\":{\"endlinecolor\":\"#2a3f5f\",\"gridcolor\":\"white\",\"linecolor\":\"white\",\"minorgridcolor\":\"white\",\"startlinecolor\":\"#2a3f5f\"},\"baxis\":{\"endlinecolor\":\"#2a3f5f\",\"gridcolor\":\"white\",\"linecolor\":\"white\",\"minorgridcolor\":\"white\",\"startlinecolor\":\"#2a3f5f\"},\"type\":\"carpet\"}],\"table\":[{\"cells\":{\"fill\":{\"color\":\"#EBF0F8\"},\"line\":{\"color\":\"white\"}},\"header\":{\"fill\":{\"color\":\"#C8D4E3\"},\"line\":{\"color\":\"white\"}},\"type\":\"table\"}],\"barpolar\":[{\"marker\":{\"line\":{\"color\":\"#E5ECF6\",\"width\":0.5},\"pattern\":{\"fillmode\":\"overlay\",\"size\":10,\"solidity\":0.2}},\"type\":\"barpolar\"}],\"pie\":[{\"automargin\":true,\"type\":\"pie\"}]},\"layout\":{\"autotypenumbers\":\"strict\",\"colorway\":[\"#636efa\",\"#EF553B\",\"#00cc96\",\"#ab63fa\",\"#FFA15A\",\"#19d3f3\",\"#FF6692\",\"#B6E880\",\"#FF97FF\",\"#FECB52\"],\"font\":{\"color\":\"#2a3f5f\"},\"hovermode\":\"closest\",\"hoverlabel\":{\"align\":\"left\"},\"paper_bgcolor\":\"white\",\"plot_bgcolor\":\"#E5ECF6\",\"polar\":{\"bgcolor\":\"#E5ECF6\",\"angularaxis\":{\"gridcolor\":\"white\",\"linecolor\":\"white\",\"ticks\":\"\"},\"radialaxis\":{\"gridcolor\":\"white\",\"linecolor\":\"white\",\"ticks\":\"\"}},\"ternary\":{\"bgcolor\":\"#E5ECF6\",\"aaxis\":{\"gridcolor\":\"white\",\"linecolor\":\"white\",\"ticks\":\"\"},\"baxis\":{\"gridcolor\":\"white\",\"linecolor\":\"white\",\"ticks\":\"\"},\"caxis\":{\"gridcolor\":\"white\",\"linecolor\":\"white\",\"ticks\":\"\"}},\"coloraxis\":{\"colorbar\":{\"outlinewidth\":0,\"ticks\":\"\"}},\"colorscale\":{\"sequential\":[[0.0,\"#0d0887\"],[0.1111111111111111,\"#46039f\"],[0.2222222222222222,\"#7201a8\"],[0.3333333333333333,\"#9c179e\"],[0.4444444444444444,\"#bd3786\"],[0.5555555555555556,\"#d8576b\"],[0.6666666666666666,\"#ed7953\"],[0.7777777777777778,\"#fb9f3a\"],[0.8888888888888888,\"#fdca26\"],[1.0,\"#f0f921\"]],\"sequentialminus\":[[0.0,\"#0d0887\"],[0.1111111111111111,\"#46039f\"],[0.2222222222222222,\"#7201a8\"],[0.3333333333333333,\"#9c179e\"],[0.4444444444444444,\"#bd3786\"],[0.5555555555555556,\"#d8576b\"],[0.6666666666666666,\"#ed7953\"],[0.7777777777777778,\"#fb9f3a\"],[0.8888888888888888,\"#fdca26\"],[1.0,\"#f0f921\"]],\"diverging\":[[0,\"#8e0152\"],[0.1,\"#c51b7d\"],[0.2,\"#de77ae\"],[0.3,\"#f1b6da\"],[0.4,\"#fde0ef\"],[0.5,\"#f7f7f7\"],[0.6,\"#e6f5d0\"],[0.7,\"#b8e186\"],[0.8,\"#7fbc41\"],[0.9,\"#4d9221\"],[1,\"#276419\"]]},\"xaxis\":{\"gridcolor\":\"white\",\"linecolor\":\"white\",\"ticks\":\"\",\"title\":{\"standoff\":15},\"zerolinecolor\":\"white\",\"automargin\":true,\"zerolinewidth\":2},\"yaxis\":{\"gridcolor\":\"white\",\"linecolor\":\"white\",\"ticks\":\"\",\"title\":{\"standoff\":15},\"zerolinecolor\":\"white\",\"automargin\":true,\"zerolinewidth\":2},\"scene\":{\"xaxis\":{\"backgroundcolor\":\"#E5ECF6\",\"gridcolor\":\"white\",\"linecolor\":\"white\",\"showbackground\":true,\"ticks\":\"\",\"zerolinecolor\":\"white\",\"gridwidth\":2},\"yaxis\":{\"backgroundcolor\":\"#E5ECF6\",\"gridcolor\":\"white\",\"linecolor\":\"white\",\"showbackground\":true,\"ticks\":\"\",\"zerolinecolor\":\"white\",\"gridwidth\":2},\"zaxis\":{\"backgroundcolor\":\"#E5ECF6\",\"gridcolor\":\"white\",\"linecolor\":\"white\",\"showbackground\":true,\"ticks\":\"\",\"zerolinecolor\":\"white\",\"gridwidth\":2}},\"shapedefaults\":{\"line\":{\"color\":\"#2a3f5f\"}},\"annotationdefaults\":{\"arrowcolor\":\"#2a3f5f\",\"arrowhead\":0,\"arrowwidth\":1},\"geo\":{\"bgcolor\":\"white\",\"landcolor\":\"#E5ECF6\",\"subunitcolor\":\"white\",\"showland\":true,\"showlakes\":true,\"lakecolor\":\"white\"},\"title\":{\"x\":0.05},\"mapbox\":{\"style\":\"light\"}}},\"xaxis\":{\"anchor\":\"y\",\"domain\":[0.0,1.0],\"title\":{\"text\":\"\"},\"categoryorder\":\"array\",\"categoryarray\":[\"Null\",\"Clean\"],\"showgrid\":true,\"gridwidth\":1,\"gridcolor\":\"skyblue\"},\"yaxis\":{\"anchor\":\"x\",\"domain\":[0.0,1.0],\"title\":{\"text\":\"Count\"},\"showgrid\":true,\"gridwidth\":1,\"gridcolor\":\"skyblue\"},\"legend\":{\"title\":{\"text\":\"Data Type\"},\"tracegroupgap\":0},\"title\":{\"text\":\"Frequency and Percentage of Null and Clean Data in Age Column\"},\"barmode\":\"relative\",\"plot_bgcolor\":\"rgba(0,0,0,0)\"},                        {\"responsive\": true}                    ).then(function(){\n",
              "                            \n",
              "var gd = document.getElementById('23ccb9ba-2271-432b-9bab-902373c489df');\n",
              "var x = new MutationObserver(function (mutations, observer) {{\n",
              "        var display = window.getComputedStyle(gd).display;\n",
              "        if (!display || display === 'none') {{\n",
              "            console.log([gd, 'removed!']);\n",
              "            Plotly.purge(gd);\n",
              "            observer.disconnect();\n",
              "        }}\n",
              "}});\n",
              "\n",
              "// Listen for the removal of the full notebook cells\n",
              "var notebookContainer = gd.closest('#notebook-container');\n",
              "if (notebookContainer) {{\n",
              "    x.observe(notebookContainer, {childList: true});\n",
              "}}\n",
              "\n",
              "// Listen for the clearing of the current output cell\n",
              "var outputEl = gd.closest('.output');\n",
              "if (outputEl) {{\n",
              "    x.observe(outputEl, {childList: true});\n",
              "}}\n",
              "\n",
              "                        })                };                            </script>        </div>\n",
              "</body>\n",
              "</html>"
            ]
          },
          "metadata": {}
        }
      ],
      "source": [
        "# Calculate null counts and clean data counts\n",
        "null_counts = df['age'].isnull().sum()\n",
        "clean_data_counts = df['age'].notnull().sum()\n",
        "\n",
        "# Calculate percentages\n",
        "total_count = len(df)\n",
        "percent_null = (null_counts / total_count) * 100\n",
        "percent_clean = (clean_data_counts / total_count) * 100\n",
        "\n",
        "# Create a DataFrame for visualization\n",
        "data = {\n",
        "    'Type': ['Null', 'Clean'],\n",
        "    'Count': [null_counts, clean_data_counts],\n",
        "    'Percentage': [percent_null, percent_clean]\n",
        "}\n",
        "df_visualize = pd.DataFrame(data)\n",
        "\n",
        "# Create a bar plot figure\n",
        "fig = px.bar(df_visualize, x='Type', y='Count', text='Percentage',\n",
        "             labels={'Type': 'Data Type', 'Count': 'Count', 'Percentage': 'Percentage (%)'},\n",
        "             title='Frequency and Percentage of Null and Clean Data in Age Column',\n",
        "             color='Type',\n",
        "             hover_data={'Percentage': ':.2f%'})\n",
        "\n",
        "# Update layout for customization\n",
        "fig.update_layout(\n",
        "    xaxis_title='',\n",
        "    yaxis_title='Count',\n",
        "    plot_bgcolor='rgba(0,0,0,0)',  # Remove background color\n",
        "    xaxis=dict(showgrid=True, gridwidth=1, gridcolor='skyblue'),  # Add x-axis gridlines\n",
        "    yaxis=dict(showgrid=True, gridwidth=1, gridcolor='skyblue'),  # Add y-axis gridlines\n",
        ")\n",
        "fig.show()\n"
      ]
    },
    {
      "cell_type": "markdown",
      "id": "fdceefcc-18a3-4a74-9220-ac87434daa02",
      "metadata": {
        "id": "fdceefcc-18a3-4a74-9220-ac87434daa02"
      },
      "source": [
        "> # **2. SIMPLE BAR GRAPH TO VISUALIZE NULL FIELDS**"
      ]
    },
    {
      "cell_type": "code",
      "execution_count": 50,
      "id": "508a31b2-e168-49f9-a97a-0f4f6412150b",
      "metadata": {
        "colab": {
          "base_uri": "https://localhost:8080/",
          "height": 542
        },
        "id": "508a31b2-e168-49f9-a97a-0f4f6412150b",
        "outputId": "54053c80-e25f-4697-c463-a0cbc6d06c82"
      },
      "outputs": [
        {
          "output_type": "display_data",
          "data": {
            "text/html": [
              "<html>\n",
              "<head><meta charset=\"utf-8\" /></head>\n",
              "<body>\n",
              "    <div>            <script src=\"https://cdnjs.cloudflare.com/ajax/libs/mathjax/2.7.5/MathJax.js?config=TeX-AMS-MML_SVG\"></script><script type=\"text/javascript\">if (window.MathJax && window.MathJax.Hub && window.MathJax.Hub.Config) {window.MathJax.Hub.Config({SVG: {font: \"STIX-Web\"}});}</script>                <script type=\"text/javascript\">window.PlotlyConfig = {MathJaxConfig: 'local'};</script>\n",
              "        <script charset=\"utf-8\" src=\"https://cdn.plot.ly/plotly-2.24.1.min.js\"></script>                <div id=\"96f4c33a-4a1a-410f-afb5-a59d220f1763\" class=\"plotly-graph-div\" style=\"height:525px; width:100%;\"></div>            <script type=\"text/javascript\">                                    window.PLOTLYENV=window.PLOTLYENV || {};                                    if (document.getElementById(\"96f4c33a-4a1a-410f-afb5-a59d220f1763\")) {                    Plotly.newPlot(                        \"96f4c33a-4a1a-410f-afb5-a59d220f1763\",                        [{\"alignmentgroup\":\"True\",\"hovertemplate\":\"Columns=%{x}\\u003cbr\\u003eNull Count=%{y}\\u003cextra\\u003e\\u003c\\u002fextra\\u003e\",\"legendgroup\":\"\",\"marker\":{\"color\":\"#636efa\",\"pattern\":{\"shape\":\"\"}},\"name\":\"\",\"offsetgroup\":\"\",\"orientation\":\"v\",\"showlegend\":false,\"textposition\":\"auto\",\"x\":[\"firstname\",\"age\",\"resident\"],\"xaxis\":\"x\",\"y\":[0,42,0],\"yaxis\":\"y\",\"type\":\"bar\"}],                        {\"template\":{\"data\":{\"histogram2dcontour\":[{\"type\":\"histogram2dcontour\",\"colorbar\":{\"outlinewidth\":0,\"ticks\":\"\"},\"colorscale\":[[0.0,\"#0d0887\"],[0.1111111111111111,\"#46039f\"],[0.2222222222222222,\"#7201a8\"],[0.3333333333333333,\"#9c179e\"],[0.4444444444444444,\"#bd3786\"],[0.5555555555555556,\"#d8576b\"],[0.6666666666666666,\"#ed7953\"],[0.7777777777777778,\"#fb9f3a\"],[0.8888888888888888,\"#fdca26\"],[1.0,\"#f0f921\"]]}],\"choropleth\":[{\"type\":\"choropleth\",\"colorbar\":{\"outlinewidth\":0,\"ticks\":\"\"}}],\"histogram2d\":[{\"type\":\"histogram2d\",\"colorbar\":{\"outlinewidth\":0,\"ticks\":\"\"},\"colorscale\":[[0.0,\"#0d0887\"],[0.1111111111111111,\"#46039f\"],[0.2222222222222222,\"#7201a8\"],[0.3333333333333333,\"#9c179e\"],[0.4444444444444444,\"#bd3786\"],[0.5555555555555556,\"#d8576b\"],[0.6666666666666666,\"#ed7953\"],[0.7777777777777778,\"#fb9f3a\"],[0.8888888888888888,\"#fdca26\"],[1.0,\"#f0f921\"]]}],\"heatmap\":[{\"type\":\"heatmap\",\"colorbar\":{\"outlinewidth\":0,\"ticks\":\"\"},\"colorscale\":[[0.0,\"#0d0887\"],[0.1111111111111111,\"#46039f\"],[0.2222222222222222,\"#7201a8\"],[0.3333333333333333,\"#9c179e\"],[0.4444444444444444,\"#bd3786\"],[0.5555555555555556,\"#d8576b\"],[0.6666666666666666,\"#ed7953\"],[0.7777777777777778,\"#fb9f3a\"],[0.8888888888888888,\"#fdca26\"],[1.0,\"#f0f921\"]]}],\"heatmapgl\":[{\"type\":\"heatmapgl\",\"colorbar\":{\"outlinewidth\":0,\"ticks\":\"\"},\"colorscale\":[[0.0,\"#0d0887\"],[0.1111111111111111,\"#46039f\"],[0.2222222222222222,\"#7201a8\"],[0.3333333333333333,\"#9c179e\"],[0.4444444444444444,\"#bd3786\"],[0.5555555555555556,\"#d8576b\"],[0.6666666666666666,\"#ed7953\"],[0.7777777777777778,\"#fb9f3a\"],[0.8888888888888888,\"#fdca26\"],[1.0,\"#f0f921\"]]}],\"contourcarpet\":[{\"type\":\"contourcarpet\",\"colorbar\":{\"outlinewidth\":0,\"ticks\":\"\"}}],\"contour\":[{\"type\":\"contour\",\"colorbar\":{\"outlinewidth\":0,\"ticks\":\"\"},\"colorscale\":[[0.0,\"#0d0887\"],[0.1111111111111111,\"#46039f\"],[0.2222222222222222,\"#7201a8\"],[0.3333333333333333,\"#9c179e\"],[0.4444444444444444,\"#bd3786\"],[0.5555555555555556,\"#d8576b\"],[0.6666666666666666,\"#ed7953\"],[0.7777777777777778,\"#fb9f3a\"],[0.8888888888888888,\"#fdca26\"],[1.0,\"#f0f921\"]]}],\"surface\":[{\"type\":\"surface\",\"colorbar\":{\"outlinewidth\":0,\"ticks\":\"\"},\"colorscale\":[[0.0,\"#0d0887\"],[0.1111111111111111,\"#46039f\"],[0.2222222222222222,\"#7201a8\"],[0.3333333333333333,\"#9c179e\"],[0.4444444444444444,\"#bd3786\"],[0.5555555555555556,\"#d8576b\"],[0.6666666666666666,\"#ed7953\"],[0.7777777777777778,\"#fb9f3a\"],[0.8888888888888888,\"#fdca26\"],[1.0,\"#f0f921\"]]}],\"mesh3d\":[{\"type\":\"mesh3d\",\"colorbar\":{\"outlinewidth\":0,\"ticks\":\"\"}}],\"scatter\":[{\"fillpattern\":{\"fillmode\":\"overlay\",\"size\":10,\"solidity\":0.2},\"type\":\"scatter\"}],\"parcoords\":[{\"type\":\"parcoords\",\"line\":{\"colorbar\":{\"outlinewidth\":0,\"ticks\":\"\"}}}],\"scatterpolargl\":[{\"type\":\"scatterpolargl\",\"marker\":{\"colorbar\":{\"outlinewidth\":0,\"ticks\":\"\"}}}],\"bar\":[{\"error_x\":{\"color\":\"#2a3f5f\"},\"error_y\":{\"color\":\"#2a3f5f\"},\"marker\":{\"line\":{\"color\":\"#E5ECF6\",\"width\":0.5},\"pattern\":{\"fillmode\":\"overlay\",\"size\":10,\"solidity\":0.2}},\"type\":\"bar\"}],\"scattergeo\":[{\"type\":\"scattergeo\",\"marker\":{\"colorbar\":{\"outlinewidth\":0,\"ticks\":\"\"}}}],\"scatterpolar\":[{\"type\":\"scatterpolar\",\"marker\":{\"colorbar\":{\"outlinewidth\":0,\"ticks\":\"\"}}}],\"histogram\":[{\"marker\":{\"pattern\":{\"fillmode\":\"overlay\",\"size\":10,\"solidity\":0.2}},\"type\":\"histogram\"}],\"scattergl\":[{\"type\":\"scattergl\",\"marker\":{\"colorbar\":{\"outlinewidth\":0,\"ticks\":\"\"}}}],\"scatter3d\":[{\"type\":\"scatter3d\",\"line\":{\"colorbar\":{\"outlinewidth\":0,\"ticks\":\"\"}},\"marker\":{\"colorbar\":{\"outlinewidth\":0,\"ticks\":\"\"}}}],\"scattermapbox\":[{\"type\":\"scattermapbox\",\"marker\":{\"colorbar\":{\"outlinewidth\":0,\"ticks\":\"\"}}}],\"scatterternary\":[{\"type\":\"scatterternary\",\"marker\":{\"colorbar\":{\"outlinewidth\":0,\"ticks\":\"\"}}}],\"scattercarpet\":[{\"type\":\"scattercarpet\",\"marker\":{\"colorbar\":{\"outlinewidth\":0,\"ticks\":\"\"}}}],\"carpet\":[{\"aaxis\":{\"endlinecolor\":\"#2a3f5f\",\"gridcolor\":\"white\",\"linecolor\":\"white\",\"minorgridcolor\":\"white\",\"startlinecolor\":\"#2a3f5f\"},\"baxis\":{\"endlinecolor\":\"#2a3f5f\",\"gridcolor\":\"white\",\"linecolor\":\"white\",\"minorgridcolor\":\"white\",\"startlinecolor\":\"#2a3f5f\"},\"type\":\"carpet\"}],\"table\":[{\"cells\":{\"fill\":{\"color\":\"#EBF0F8\"},\"line\":{\"color\":\"white\"}},\"header\":{\"fill\":{\"color\":\"#C8D4E3\"},\"line\":{\"color\":\"white\"}},\"type\":\"table\"}],\"barpolar\":[{\"marker\":{\"line\":{\"color\":\"#E5ECF6\",\"width\":0.5},\"pattern\":{\"fillmode\":\"overlay\",\"size\":10,\"solidity\":0.2}},\"type\":\"barpolar\"}],\"pie\":[{\"automargin\":true,\"type\":\"pie\"}]},\"layout\":{\"autotypenumbers\":\"strict\",\"colorway\":[\"#636efa\",\"#EF553B\",\"#00cc96\",\"#ab63fa\",\"#FFA15A\",\"#19d3f3\",\"#FF6692\",\"#B6E880\",\"#FF97FF\",\"#FECB52\"],\"font\":{\"color\":\"#2a3f5f\"},\"hovermode\":\"closest\",\"hoverlabel\":{\"align\":\"left\"},\"paper_bgcolor\":\"white\",\"plot_bgcolor\":\"#E5ECF6\",\"polar\":{\"bgcolor\":\"#E5ECF6\",\"angularaxis\":{\"gridcolor\":\"white\",\"linecolor\":\"white\",\"ticks\":\"\"},\"radialaxis\":{\"gridcolor\":\"white\",\"linecolor\":\"white\",\"ticks\":\"\"}},\"ternary\":{\"bgcolor\":\"#E5ECF6\",\"aaxis\":{\"gridcolor\":\"white\",\"linecolor\":\"white\",\"ticks\":\"\"},\"baxis\":{\"gridcolor\":\"white\",\"linecolor\":\"white\",\"ticks\":\"\"},\"caxis\":{\"gridcolor\":\"white\",\"linecolor\":\"white\",\"ticks\":\"\"}},\"coloraxis\":{\"colorbar\":{\"outlinewidth\":0,\"ticks\":\"\"}},\"colorscale\":{\"sequential\":[[0.0,\"#0d0887\"],[0.1111111111111111,\"#46039f\"],[0.2222222222222222,\"#7201a8\"],[0.3333333333333333,\"#9c179e\"],[0.4444444444444444,\"#bd3786\"],[0.5555555555555556,\"#d8576b\"],[0.6666666666666666,\"#ed7953\"],[0.7777777777777778,\"#fb9f3a\"],[0.8888888888888888,\"#fdca26\"],[1.0,\"#f0f921\"]],\"sequentialminus\":[[0.0,\"#0d0887\"],[0.1111111111111111,\"#46039f\"],[0.2222222222222222,\"#7201a8\"],[0.3333333333333333,\"#9c179e\"],[0.4444444444444444,\"#bd3786\"],[0.5555555555555556,\"#d8576b\"],[0.6666666666666666,\"#ed7953\"],[0.7777777777777778,\"#fb9f3a\"],[0.8888888888888888,\"#fdca26\"],[1.0,\"#f0f921\"]],\"diverging\":[[0,\"#8e0152\"],[0.1,\"#c51b7d\"],[0.2,\"#de77ae\"],[0.3,\"#f1b6da\"],[0.4,\"#fde0ef\"],[0.5,\"#f7f7f7\"],[0.6,\"#e6f5d0\"],[0.7,\"#b8e186\"],[0.8,\"#7fbc41\"],[0.9,\"#4d9221\"],[1,\"#276419\"]]},\"xaxis\":{\"gridcolor\":\"white\",\"linecolor\":\"white\",\"ticks\":\"\",\"title\":{\"standoff\":15},\"zerolinecolor\":\"white\",\"automargin\":true,\"zerolinewidth\":2},\"yaxis\":{\"gridcolor\":\"white\",\"linecolor\":\"white\",\"ticks\":\"\",\"title\":{\"standoff\":15},\"zerolinecolor\":\"white\",\"automargin\":true,\"zerolinewidth\":2},\"scene\":{\"xaxis\":{\"backgroundcolor\":\"#E5ECF6\",\"gridcolor\":\"white\",\"linecolor\":\"white\",\"showbackground\":true,\"ticks\":\"\",\"zerolinecolor\":\"white\",\"gridwidth\":2},\"yaxis\":{\"backgroundcolor\":\"#E5ECF6\",\"gridcolor\":\"white\",\"linecolor\":\"white\",\"showbackground\":true,\"ticks\":\"\",\"zerolinecolor\":\"white\",\"gridwidth\":2},\"zaxis\":{\"backgroundcolor\":\"#E5ECF6\",\"gridcolor\":\"white\",\"linecolor\":\"white\",\"showbackground\":true,\"ticks\":\"\",\"zerolinecolor\":\"white\",\"gridwidth\":2}},\"shapedefaults\":{\"line\":{\"color\":\"#2a3f5f\"}},\"annotationdefaults\":{\"arrowcolor\":\"#2a3f5f\",\"arrowhead\":0,\"arrowwidth\":1},\"geo\":{\"bgcolor\":\"white\",\"landcolor\":\"#E5ECF6\",\"subunitcolor\":\"white\",\"showland\":true,\"showlakes\":true,\"lakecolor\":\"white\"},\"title\":{\"x\":0.05},\"mapbox\":{\"style\":\"light\"}}},\"xaxis\":{\"anchor\":\"y\",\"domain\":[0.0,1.0],\"title\":{\"text\":\"Columns\"},\"showgrid\":true,\"gridwidth\":1,\"gridcolor\":\"green\"},\"yaxis\":{\"anchor\":\"x\",\"domain\":[0.0,1.0],\"title\":{\"text\":\"Null Count\"},\"showgrid\":true,\"gridwidth\":1,\"gridcolor\":\"green\"},\"legend\":{\"tracegroupgap\":0},\"title\":{\"text\":\"Count of Null Values by Column\"},\"barmode\":\"relative\",\"plot_bgcolor\":\"rgba(0,0,0,0)\"},                        {\"responsive\": true}                    ).then(function(){\n",
              "                            \n",
              "var gd = document.getElementById('96f4c33a-4a1a-410f-afb5-a59d220f1763');\n",
              "var x = new MutationObserver(function (mutations, observer) {{\n",
              "        var display = window.getComputedStyle(gd).display;\n",
              "        if (!display || display === 'none') {{\n",
              "            console.log([gd, 'removed!']);\n",
              "            Plotly.purge(gd);\n",
              "            observer.disconnect();\n",
              "        }}\n",
              "}});\n",
              "\n",
              "// Listen for the removal of the full notebook cells\n",
              "var notebookContainer = gd.closest('#notebook-container');\n",
              "if (notebookContainer) {{\n",
              "    x.observe(notebookContainer, {childList: true});\n",
              "}}\n",
              "\n",
              "// Listen for the clearing of the current output cell\n",
              "var outputEl = gd.closest('.output');\n",
              "if (outputEl) {{\n",
              "    x.observe(outputEl, {childList: true});\n",
              "}}\n",
              "\n",
              "                        })                };                            </script>        </div>\n",
              "</body>\n",
              "</html>"
            ]
          },
          "metadata": {}
        }
      ],
      "source": [
        "null_counts = df.isnull().sum()\n",
        "# Create bar plot figure\n",
        "fig = px.bar(\n",
        "    x=null_counts.index,\n",
        "    y=null_counts.values,\n",
        "    labels={'x': 'Columns', 'y': 'Null Count'},\n",
        "    title='Count of Null Values by Column',\n",
        ")\n",
        "fig.update_layout(\n",
        "    plot_bgcolor='rgba(0,0,0,0)',)\n",
        "# Add gridlines\n",
        "fig.update_xaxes(showgrid=True, gridwidth=1, gridcolor='green')\n",
        "fig.update_yaxes(showgrid=True, gridwidth=1, gridcolor='green')\n",
        "fig.show()"
      ]
    },
    {
      "cell_type": "markdown",
      "id": "e21be24f-3de0-41a1-8325-69168fb68c48",
      "metadata": {
        "id": "e21be24f-3de0-41a1-8325-69168fb68c48"
      },
      "source": [
        "> # **3. VISUALIZE NULL FIELD BY TABLE**"
      ]
    },
    {
      "cell_type": "code",
      "execution_count": 51,
      "id": "42ab82e3-7285-48ec-8ecc-5169156ef395",
      "metadata": {
        "colab": {
          "base_uri": "https://localhost:8080/"
        },
        "id": "42ab82e3-7285-48ec-8ecc-5169156ef395",
        "outputId": "f29e06ba-0214-45e1-ab66-305abda7a9f7"
      },
      "outputs": [
        {
          "output_type": "stream",
          "name": "stdout",
          "text": [
            "    firstname  age                resident\n",
            "1       Ayaan  NaN            Unguja North\n",
            "5    Chidinma  NaN                  Kagera\n",
            "13       Femi  NaN                  Tabora\n",
            "18     Jelani  NaN     Zanzibar Urban/West\n",
            "23   Chidinma  NaN                  Kigoma\n",
            "31      Odera  NaN                  Ruvuma\n",
            "39       Femi  NaN                 Singida\n",
            "46      Adama  NaN            Unguja North\n",
            "58      Penda  NaN                  Kagera\n",
            "72        Nia  NaN                   Geita\n",
            "79    Achieng  NaN  Zanzibar Central/South\n",
            "152     Salif  NaN                  Songwe\n",
            "183     Penda  NaN                  Tabora\n",
            "230     Kamau  NaN                  Ruvuma\n",
            "265     Ayaan  NaN  Zanzibar Central/South\n",
            "276     Adama  NaN                  Kagera\n",
            "278     Kwame  NaN                  Mwanza\n",
            "301      Dayo  NaN               Shinyanga\n",
            "311   Achieng  NaN                  Mwanza\n",
            "320      Yemi  NaN                Morogoro\n",
            "362     Salif  NaN            Unguja North\n",
            "369     Adama  NaN                   Pwani\n",
            "379     Penda  NaN             Kilimanjaro\n",
            "473    Jelani  NaN          Zanzibar North\n",
            "479   Achieng  NaN                  Ruvuma\n",
            "487       Udo  NaN                   Lindi\n",
            "491     Ebele  NaN               Shinyanga\n",
            "682    Jelani  NaN             Pemba South\n",
            "685     Penda  NaN            Unguja North\n",
            "686    Jelani  NaN                  Dodoma\n",
            "692   Afolabi  NaN                   Mbeya\n",
            "697     Odera  NaN             Kilimanjaro\n",
            "698     Kamau  NaN               Shinyanga\n",
            "705     Penda  NaN                   Geita\n",
            "929     Ayaan  NaN                 Singida\n",
            "937       Udo  NaN                  Dodoma\n",
            "971     Ayaan  NaN             Pemba South\n",
            "973   Achieng  NaN                  Mtwara\n",
            "977      Lulu  NaN                  Kagera\n",
            "990   Achieng  NaN                  Simiyu\n",
            "994       Udo  NaN                  Katavi\n",
            "995     Adama  NaN            Unguja North\n"
          ]
        }
      ],
      "source": [
        "# Before imputation (if there were missing values)\n",
        "print(df[df['age'].isnull()])"
      ]
    },
    {
      "cell_type": "markdown",
      "id": "609f9ba2-5fa5-48a5-8096-3fc74cd4ec23",
      "metadata": {
        "id": "609f9ba2-5fa5-48a5-8096-3fc74cd4ec23"
      },
      "source": [
        "> # **4. TREAT NULL FIELD BY AVERAGE MEAN**"
      ]
    },
    {
      "cell_type": "code",
      "execution_count": 52,
      "id": "e229e7aa-809d-425d-8970-76279d941e1b",
      "metadata": {
        "colab": {
          "base_uri": "https://localhost:8080/"
        },
        "id": "e229e7aa-809d-425d-8970-76279d941e1b",
        "outputId": "2f12ccaf-6602-44db-c4ba-0dc6713b6f1d"
      },
      "outputs": [
        {
          "output_type": "stream",
          "name": "stdout",
          "text": [
            "After imputation:\n",
            "Empty DataFrame\n",
            "Columns: [firstname, age, resident]\n",
            "Index: []\n",
            "First few rows after imputation:\n"
          ]
        }
      ],
      "source": [
        "# Apply imputation\n",
        "\n",
        "imputer = SimpleImputer(strategy='mean')\n",
        "\n",
        "df['age'] = imputer.fit_transform(df[['age']])\n",
        "\n",
        "# After imputation (check if there are still any missing values)\n",
        "print(\"After imputation:\")\n",
        "print(df[df['age'].isnull()])\n",
        "\n",
        "# Print the first few rows to see the imputed values\n",
        "print(\"First few rows after imputation:\")\n"
      ]
    },
    {
      "cell_type": "markdown",
      "id": "58594a4e-b8aa-4bda-9eb4-b3f9434944f7",
      "metadata": {
        "id": "58594a4e-b8aa-4bda-9eb4-b3f9434944f7"
      },
      "source": [
        "> # **5. OTHER NULL VALUE REPLACEMENT TECHNIQUES**"
      ]
    },
    {
      "cell_type": "code",
      "execution_count": 53,
      "id": "c9563f48-65a3-4f56-a4ca-4d8d19c4c0dd",
      "metadata": {
        "colab": {
          "base_uri": "https://localhost:8080/",
          "height": 206
        },
        "id": "c9563f48-65a3-4f56-a4ca-4d8d19c4c0dd",
        "outputId": "efd09bd8-9abd-4769-d54c-387716b6ffce"
      },
      "outputs": [
        {
          "output_type": "execute_result",
          "data": {
            "text/plain": [
              "  firstname        age      resident\n",
              "0      Mosi  36.000000        Dodoma\n",
              "1     Ayaan  41.890397  Unguja North\n",
              "2       Udo  21.000000        Njombe\n",
              "3      Zola  57.000000       Singida\n",
              "4  Chidinma  54.000000        Mtwara"
            ],
            "text/html": [
              "\n",
              "  <div id=\"df-8e0d2aa0-f5b4-4a7b-9cc0-00eed6a6f5fe\" class=\"colab-df-container\">\n",
              "    <div>\n",
              "<style scoped>\n",
              "    .dataframe tbody tr th:only-of-type {\n",
              "        vertical-align: middle;\n",
              "    }\n",
              "\n",
              "    .dataframe tbody tr th {\n",
              "        vertical-align: top;\n",
              "    }\n",
              "\n",
              "    .dataframe thead th {\n",
              "        text-align: right;\n",
              "    }\n",
              "</style>\n",
              "<table border=\"1\" class=\"dataframe\">\n",
              "  <thead>\n",
              "    <tr style=\"text-align: right;\">\n",
              "      <th></th>\n",
              "      <th>firstname</th>\n",
              "      <th>age</th>\n",
              "      <th>resident</th>\n",
              "    </tr>\n",
              "  </thead>\n",
              "  <tbody>\n",
              "    <tr>\n",
              "      <th>0</th>\n",
              "      <td>Mosi</td>\n",
              "      <td>36.000000</td>\n",
              "      <td>Dodoma</td>\n",
              "    </tr>\n",
              "    <tr>\n",
              "      <th>1</th>\n",
              "      <td>Ayaan</td>\n",
              "      <td>41.890397</td>\n",
              "      <td>Unguja North</td>\n",
              "    </tr>\n",
              "    <tr>\n",
              "      <th>2</th>\n",
              "      <td>Udo</td>\n",
              "      <td>21.000000</td>\n",
              "      <td>Njombe</td>\n",
              "    </tr>\n",
              "    <tr>\n",
              "      <th>3</th>\n",
              "      <td>Zola</td>\n",
              "      <td>57.000000</td>\n",
              "      <td>Singida</td>\n",
              "    </tr>\n",
              "    <tr>\n",
              "      <th>4</th>\n",
              "      <td>Chidinma</td>\n",
              "      <td>54.000000</td>\n",
              "      <td>Mtwara</td>\n",
              "    </tr>\n",
              "  </tbody>\n",
              "</table>\n",
              "</div>\n",
              "    <div class=\"colab-df-buttons\">\n",
              "\n",
              "  <div class=\"colab-df-container\">\n",
              "    <button class=\"colab-df-convert\" onclick=\"convertToInteractive('df-8e0d2aa0-f5b4-4a7b-9cc0-00eed6a6f5fe')\"\n",
              "            title=\"Convert this dataframe to an interactive table.\"\n",
              "            style=\"display:none;\">\n",
              "\n",
              "  <svg xmlns=\"http://www.w3.org/2000/svg\" height=\"24px\" viewBox=\"0 -960 960 960\">\n",
              "    <path d=\"M120-120v-720h720v720H120Zm60-500h600v-160H180v160Zm220 220h160v-160H400v160Zm0 220h160v-160H400v160ZM180-400h160v-160H180v160Zm440 0h160v-160H620v160ZM180-180h160v-160H180v160Zm440 0h160v-160H620v160Z\"/>\n",
              "  </svg>\n",
              "    </button>\n",
              "\n",
              "  <style>\n",
              "    .colab-df-container {\n",
              "      display:flex;\n",
              "      gap: 12px;\n",
              "    }\n",
              "\n",
              "    .colab-df-convert {\n",
              "      background-color: #E8F0FE;\n",
              "      border: none;\n",
              "      border-radius: 50%;\n",
              "      cursor: pointer;\n",
              "      display: none;\n",
              "      fill: #1967D2;\n",
              "      height: 32px;\n",
              "      padding: 0 0 0 0;\n",
              "      width: 32px;\n",
              "    }\n",
              "\n",
              "    .colab-df-convert:hover {\n",
              "      background-color: #E2EBFA;\n",
              "      box-shadow: 0px 1px 2px rgba(60, 64, 67, 0.3), 0px 1px 3px 1px rgba(60, 64, 67, 0.15);\n",
              "      fill: #174EA6;\n",
              "    }\n",
              "\n",
              "    .colab-df-buttons div {\n",
              "      margin-bottom: 4px;\n",
              "    }\n",
              "\n",
              "    [theme=dark] .colab-df-convert {\n",
              "      background-color: #3B4455;\n",
              "      fill: #D2E3FC;\n",
              "    }\n",
              "\n",
              "    [theme=dark] .colab-df-convert:hover {\n",
              "      background-color: #434B5C;\n",
              "      box-shadow: 0px 1px 3px 1px rgba(0, 0, 0, 0.15);\n",
              "      filter: drop-shadow(0px 1px 2px rgba(0, 0, 0, 0.3));\n",
              "      fill: #FFFFFF;\n",
              "    }\n",
              "  </style>\n",
              "\n",
              "    <script>\n",
              "      const buttonEl =\n",
              "        document.querySelector('#df-8e0d2aa0-f5b4-4a7b-9cc0-00eed6a6f5fe button.colab-df-convert');\n",
              "      buttonEl.style.display =\n",
              "        google.colab.kernel.accessAllowed ? 'block' : 'none';\n",
              "\n",
              "      async function convertToInteractive(key) {\n",
              "        const element = document.querySelector('#df-8e0d2aa0-f5b4-4a7b-9cc0-00eed6a6f5fe');\n",
              "        const dataTable =\n",
              "          await google.colab.kernel.invokeFunction('convertToInteractive',\n",
              "                                                    [key], {});\n",
              "        if (!dataTable) return;\n",
              "\n",
              "        const docLinkHtml = 'Like what you see? Visit the ' +\n",
              "          '<a target=\"_blank\" href=https://colab.research.google.com/notebooks/data_table.ipynb>data table notebook</a>'\n",
              "          + ' to learn more about interactive tables.';\n",
              "        element.innerHTML = '';\n",
              "        dataTable['output_type'] = 'display_data';\n",
              "        await google.colab.output.renderOutput(dataTable, element);\n",
              "        const docLink = document.createElement('div');\n",
              "        docLink.innerHTML = docLinkHtml;\n",
              "        element.appendChild(docLink);\n",
              "      }\n",
              "    </script>\n",
              "  </div>\n",
              "\n",
              "\n",
              "<div id=\"df-c1efa75c-33c8-4061-81cf-94f1d584b151\">\n",
              "  <button class=\"colab-df-quickchart\" onclick=\"quickchart('df-c1efa75c-33c8-4061-81cf-94f1d584b151')\"\n",
              "            title=\"Suggest charts\"\n",
              "            style=\"display:none;\">\n",
              "\n",
              "<svg xmlns=\"http://www.w3.org/2000/svg\" height=\"24px\"viewBox=\"0 0 24 24\"\n",
              "     width=\"24px\">\n",
              "    <g>\n",
              "        <path d=\"M19 3H5c-1.1 0-2 .9-2 2v14c0 1.1.9 2 2 2h14c1.1 0 2-.9 2-2V5c0-1.1-.9-2-2-2zM9 17H7v-7h2v7zm4 0h-2V7h2v10zm4 0h-2v-4h2v4z\"/>\n",
              "    </g>\n",
              "</svg>\n",
              "  </button>\n",
              "\n",
              "<style>\n",
              "  .colab-df-quickchart {\n",
              "      --bg-color: #E8F0FE;\n",
              "      --fill-color: #1967D2;\n",
              "      --hover-bg-color: #E2EBFA;\n",
              "      --hover-fill-color: #174EA6;\n",
              "      --disabled-fill-color: #AAA;\n",
              "      --disabled-bg-color: #DDD;\n",
              "  }\n",
              "\n",
              "  [theme=dark] .colab-df-quickchart {\n",
              "      --bg-color: #3B4455;\n",
              "      --fill-color: #D2E3FC;\n",
              "      --hover-bg-color: #434B5C;\n",
              "      --hover-fill-color: #FFFFFF;\n",
              "      --disabled-bg-color: #3B4455;\n",
              "      --disabled-fill-color: #666;\n",
              "  }\n",
              "\n",
              "  .colab-df-quickchart {\n",
              "    background-color: var(--bg-color);\n",
              "    border: none;\n",
              "    border-radius: 50%;\n",
              "    cursor: pointer;\n",
              "    display: none;\n",
              "    fill: var(--fill-color);\n",
              "    height: 32px;\n",
              "    padding: 0;\n",
              "    width: 32px;\n",
              "  }\n",
              "\n",
              "  .colab-df-quickchart:hover {\n",
              "    background-color: var(--hover-bg-color);\n",
              "    box-shadow: 0 1px 2px rgba(60, 64, 67, 0.3), 0 1px 3px 1px rgba(60, 64, 67, 0.15);\n",
              "    fill: var(--button-hover-fill-color);\n",
              "  }\n",
              "\n",
              "  .colab-df-quickchart-complete:disabled,\n",
              "  .colab-df-quickchart-complete:disabled:hover {\n",
              "    background-color: var(--disabled-bg-color);\n",
              "    fill: var(--disabled-fill-color);\n",
              "    box-shadow: none;\n",
              "  }\n",
              "\n",
              "  .colab-df-spinner {\n",
              "    border: 2px solid var(--fill-color);\n",
              "    border-color: transparent;\n",
              "    border-bottom-color: var(--fill-color);\n",
              "    animation:\n",
              "      spin 1s steps(1) infinite;\n",
              "  }\n",
              "\n",
              "  @keyframes spin {\n",
              "    0% {\n",
              "      border-color: transparent;\n",
              "      border-bottom-color: var(--fill-color);\n",
              "      border-left-color: var(--fill-color);\n",
              "    }\n",
              "    20% {\n",
              "      border-color: transparent;\n",
              "      border-left-color: var(--fill-color);\n",
              "      border-top-color: var(--fill-color);\n",
              "    }\n",
              "    30% {\n",
              "      border-color: transparent;\n",
              "      border-left-color: var(--fill-color);\n",
              "      border-top-color: var(--fill-color);\n",
              "      border-right-color: var(--fill-color);\n",
              "    }\n",
              "    40% {\n",
              "      border-color: transparent;\n",
              "      border-right-color: var(--fill-color);\n",
              "      border-top-color: var(--fill-color);\n",
              "    }\n",
              "    60% {\n",
              "      border-color: transparent;\n",
              "      border-right-color: var(--fill-color);\n",
              "    }\n",
              "    80% {\n",
              "      border-color: transparent;\n",
              "      border-right-color: var(--fill-color);\n",
              "      border-bottom-color: var(--fill-color);\n",
              "    }\n",
              "    90% {\n",
              "      border-color: transparent;\n",
              "      border-bottom-color: var(--fill-color);\n",
              "    }\n",
              "  }\n",
              "</style>\n",
              "\n",
              "  <script>\n",
              "    async function quickchart(key) {\n",
              "      const quickchartButtonEl =\n",
              "        document.querySelector('#' + key + ' button');\n",
              "      quickchartButtonEl.disabled = true;  // To prevent multiple clicks.\n",
              "      quickchartButtonEl.classList.add('colab-df-spinner');\n",
              "      try {\n",
              "        const charts = await google.colab.kernel.invokeFunction(\n",
              "            'suggestCharts', [key], {});\n",
              "      } catch (error) {\n",
              "        console.error('Error during call to suggestCharts:', error);\n",
              "      }\n",
              "      quickchartButtonEl.classList.remove('colab-df-spinner');\n",
              "      quickchartButtonEl.classList.add('colab-df-quickchart-complete');\n",
              "    }\n",
              "    (() => {\n",
              "      let quickchartButtonEl =\n",
              "        document.querySelector('#df-c1efa75c-33c8-4061-81cf-94f1d584b151 button');\n",
              "      quickchartButtonEl.style.display =\n",
              "        google.colab.kernel.accessAllowed ? 'block' : 'none';\n",
              "    })();\n",
              "  </script>\n",
              "</div>\n",
              "\n",
              "    </div>\n",
              "  </div>\n"
            ],
            "application/vnd.google.colaboratory.intrinsic+json": {
              "type": "dataframe",
              "variable_name": "df",
              "summary": "{\n  \"name\": \"df\",\n  \"rows\": 1000,\n  \"fields\": [\n    {\n      \"column\": \"firstname\",\n      \"properties\": {\n        \"dtype\": \"category\",\n        \"num_unique_values\": 24,\n        \"samples\": [\n          \"Jelani\",\n          \"Afolabi\",\n          \"Mosi\"\n        ],\n        \"semantic_type\": \"\",\n        \"description\": \"\"\n      }\n    },\n    {\n      \"column\": \"age\",\n      \"properties\": {\n        \"dtype\": \"number\",\n        \"std\": 13.785482624139416,\n        \"min\": 0.0,\n        \"max\": 150.0,\n        \"num_unique_values\": 52,\n        \"samples\": [\n          63.0,\n          53.0,\n          56.0\n        ],\n        \"semantic_type\": \"\",\n        \"description\": \"\"\n      }\n    },\n    {\n      \"column\": \"resident\",\n      \"properties\": {\n        \"dtype\": \"category\",\n        \"num_unique_values\": 33,\n        \"samples\": [\n          \"Unguja South\",\n          \"Geita\",\n          \"Pwani\"\n        ],\n        \"semantic_type\": \"\",\n        \"description\": \"\"\n      }\n    }\n  ]\n}"
            }
          },
          "metadata": {},
          "execution_count": 53
        }
      ],
      "source": [
        "# Mean imputation\n",
        "df['age'].fillna(df['age'].mean(), inplace=True)\n",
        "\n",
        "# Median imputation\n",
        "df['age'].fillna(df['age'].median(), inplace=True)\n",
        "\n",
        "# Mode imputation (for categorical numeric data)\n",
        "df['age'].fillna(df['age'].mode()[0], inplace=True)\n",
        "\n",
        "df.head()\n"
      ]
    },
    {
      "cell_type": "markdown",
      "id": "4057ba72-f041-4fe2-9dc9-a09b5e3db84a",
      "metadata": {
        "id": "4057ba72-f041-4fe2-9dc9-a09b5e3db84a"
      },
      "source": [
        "> Visualize Null Fields after Treatment"
      ]
    },
    {
      "cell_type": "code",
      "execution_count": 54,
      "id": "bec11fa9-1171-4cd0-9b9f-b3ea8bec8a16",
      "metadata": {
        "colab": {
          "base_uri": "https://localhost:8080/",
          "height": 542
        },
        "id": "bec11fa9-1171-4cd0-9b9f-b3ea8bec8a16",
        "outputId": "43aa9433-0593-4169-dfe6-e687e9062192"
      },
      "outputs": [
        {
          "output_type": "display_data",
          "data": {
            "text/html": [
              "<html>\n",
              "<head><meta charset=\"utf-8\" /></head>\n",
              "<body>\n",
              "    <div>            <script src=\"https://cdnjs.cloudflare.com/ajax/libs/mathjax/2.7.5/MathJax.js?config=TeX-AMS-MML_SVG\"></script><script type=\"text/javascript\">if (window.MathJax && window.MathJax.Hub && window.MathJax.Hub.Config) {window.MathJax.Hub.Config({SVG: {font: \"STIX-Web\"}});}</script>                <script type=\"text/javascript\">window.PlotlyConfig = {MathJaxConfig: 'local'};</script>\n",
              "        <script charset=\"utf-8\" src=\"https://cdn.plot.ly/plotly-2.24.1.min.js\"></script>                <div id=\"c02fe069-1398-4226-a30f-146d56f4cb90\" class=\"plotly-graph-div\" style=\"height:525px; width:100%;\"></div>            <script type=\"text/javascript\">                                    window.PLOTLYENV=window.PLOTLYENV || {};                                    if (document.getElementById(\"c02fe069-1398-4226-a30f-146d56f4cb90\")) {                    Plotly.newPlot(                        \"c02fe069-1398-4226-a30f-146d56f4cb90\",                        [{\"alignmentgroup\":\"True\",\"hovertemplate\":\"Columns=%{x}\\u003cbr\\u003eNull Count=%{y}\\u003cextra\\u003e\\u003c\\u002fextra\\u003e\",\"legendgroup\":\"\",\"marker\":{\"color\":\"#636efa\",\"pattern\":{\"shape\":\"\"}},\"name\":\"\",\"offsetgroup\":\"\",\"orientation\":\"v\",\"showlegend\":false,\"textposition\":\"auto\",\"x\":[\"firstname\",\"age\",\"resident\"],\"xaxis\":\"x\",\"y\":[0,0,0],\"yaxis\":\"y\",\"type\":\"bar\"}],                        {\"template\":{\"data\":{\"histogram2dcontour\":[{\"type\":\"histogram2dcontour\",\"colorbar\":{\"outlinewidth\":0,\"ticks\":\"\"},\"colorscale\":[[0.0,\"#0d0887\"],[0.1111111111111111,\"#46039f\"],[0.2222222222222222,\"#7201a8\"],[0.3333333333333333,\"#9c179e\"],[0.4444444444444444,\"#bd3786\"],[0.5555555555555556,\"#d8576b\"],[0.6666666666666666,\"#ed7953\"],[0.7777777777777778,\"#fb9f3a\"],[0.8888888888888888,\"#fdca26\"],[1.0,\"#f0f921\"]]}],\"choropleth\":[{\"type\":\"choropleth\",\"colorbar\":{\"outlinewidth\":0,\"ticks\":\"\"}}],\"histogram2d\":[{\"type\":\"histogram2d\",\"colorbar\":{\"outlinewidth\":0,\"ticks\":\"\"},\"colorscale\":[[0.0,\"#0d0887\"],[0.1111111111111111,\"#46039f\"],[0.2222222222222222,\"#7201a8\"],[0.3333333333333333,\"#9c179e\"],[0.4444444444444444,\"#bd3786\"],[0.5555555555555556,\"#d8576b\"],[0.6666666666666666,\"#ed7953\"],[0.7777777777777778,\"#fb9f3a\"],[0.8888888888888888,\"#fdca26\"],[1.0,\"#f0f921\"]]}],\"heatmap\":[{\"type\":\"heatmap\",\"colorbar\":{\"outlinewidth\":0,\"ticks\":\"\"},\"colorscale\":[[0.0,\"#0d0887\"],[0.1111111111111111,\"#46039f\"],[0.2222222222222222,\"#7201a8\"],[0.3333333333333333,\"#9c179e\"],[0.4444444444444444,\"#bd3786\"],[0.5555555555555556,\"#d8576b\"],[0.6666666666666666,\"#ed7953\"],[0.7777777777777778,\"#fb9f3a\"],[0.8888888888888888,\"#fdca26\"],[1.0,\"#f0f921\"]]}],\"heatmapgl\":[{\"type\":\"heatmapgl\",\"colorbar\":{\"outlinewidth\":0,\"ticks\":\"\"},\"colorscale\":[[0.0,\"#0d0887\"],[0.1111111111111111,\"#46039f\"],[0.2222222222222222,\"#7201a8\"],[0.3333333333333333,\"#9c179e\"],[0.4444444444444444,\"#bd3786\"],[0.5555555555555556,\"#d8576b\"],[0.6666666666666666,\"#ed7953\"],[0.7777777777777778,\"#fb9f3a\"],[0.8888888888888888,\"#fdca26\"],[1.0,\"#f0f921\"]]}],\"contourcarpet\":[{\"type\":\"contourcarpet\",\"colorbar\":{\"outlinewidth\":0,\"ticks\":\"\"}}],\"contour\":[{\"type\":\"contour\",\"colorbar\":{\"outlinewidth\":0,\"ticks\":\"\"},\"colorscale\":[[0.0,\"#0d0887\"],[0.1111111111111111,\"#46039f\"],[0.2222222222222222,\"#7201a8\"],[0.3333333333333333,\"#9c179e\"],[0.4444444444444444,\"#bd3786\"],[0.5555555555555556,\"#d8576b\"],[0.6666666666666666,\"#ed7953\"],[0.7777777777777778,\"#fb9f3a\"],[0.8888888888888888,\"#fdca26\"],[1.0,\"#f0f921\"]]}],\"surface\":[{\"type\":\"surface\",\"colorbar\":{\"outlinewidth\":0,\"ticks\":\"\"},\"colorscale\":[[0.0,\"#0d0887\"],[0.1111111111111111,\"#46039f\"],[0.2222222222222222,\"#7201a8\"],[0.3333333333333333,\"#9c179e\"],[0.4444444444444444,\"#bd3786\"],[0.5555555555555556,\"#d8576b\"],[0.6666666666666666,\"#ed7953\"],[0.7777777777777778,\"#fb9f3a\"],[0.8888888888888888,\"#fdca26\"],[1.0,\"#f0f921\"]]}],\"mesh3d\":[{\"type\":\"mesh3d\",\"colorbar\":{\"outlinewidth\":0,\"ticks\":\"\"}}],\"scatter\":[{\"fillpattern\":{\"fillmode\":\"overlay\",\"size\":10,\"solidity\":0.2},\"type\":\"scatter\"}],\"parcoords\":[{\"type\":\"parcoords\",\"line\":{\"colorbar\":{\"outlinewidth\":0,\"ticks\":\"\"}}}],\"scatterpolargl\":[{\"type\":\"scatterpolargl\",\"marker\":{\"colorbar\":{\"outlinewidth\":0,\"ticks\":\"\"}}}],\"bar\":[{\"error_x\":{\"color\":\"#2a3f5f\"},\"error_y\":{\"color\":\"#2a3f5f\"},\"marker\":{\"line\":{\"color\":\"#E5ECF6\",\"width\":0.5},\"pattern\":{\"fillmode\":\"overlay\",\"size\":10,\"solidity\":0.2}},\"type\":\"bar\"}],\"scattergeo\":[{\"type\":\"scattergeo\",\"marker\":{\"colorbar\":{\"outlinewidth\":0,\"ticks\":\"\"}}}],\"scatterpolar\":[{\"type\":\"scatterpolar\",\"marker\":{\"colorbar\":{\"outlinewidth\":0,\"ticks\":\"\"}}}],\"histogram\":[{\"marker\":{\"pattern\":{\"fillmode\":\"overlay\",\"size\":10,\"solidity\":0.2}},\"type\":\"histogram\"}],\"scattergl\":[{\"type\":\"scattergl\",\"marker\":{\"colorbar\":{\"outlinewidth\":0,\"ticks\":\"\"}}}],\"scatter3d\":[{\"type\":\"scatter3d\",\"line\":{\"colorbar\":{\"outlinewidth\":0,\"ticks\":\"\"}},\"marker\":{\"colorbar\":{\"outlinewidth\":0,\"ticks\":\"\"}}}],\"scattermapbox\":[{\"type\":\"scattermapbox\",\"marker\":{\"colorbar\":{\"outlinewidth\":0,\"ticks\":\"\"}}}],\"scatterternary\":[{\"type\":\"scatterternary\",\"marker\":{\"colorbar\":{\"outlinewidth\":0,\"ticks\":\"\"}}}],\"scattercarpet\":[{\"type\":\"scattercarpet\",\"marker\":{\"colorbar\":{\"outlinewidth\":0,\"ticks\":\"\"}}}],\"carpet\":[{\"aaxis\":{\"endlinecolor\":\"#2a3f5f\",\"gridcolor\":\"white\",\"linecolor\":\"white\",\"minorgridcolor\":\"white\",\"startlinecolor\":\"#2a3f5f\"},\"baxis\":{\"endlinecolor\":\"#2a3f5f\",\"gridcolor\":\"white\",\"linecolor\":\"white\",\"minorgridcolor\":\"white\",\"startlinecolor\":\"#2a3f5f\"},\"type\":\"carpet\"}],\"table\":[{\"cells\":{\"fill\":{\"color\":\"#EBF0F8\"},\"line\":{\"color\":\"white\"}},\"header\":{\"fill\":{\"color\":\"#C8D4E3\"},\"line\":{\"color\":\"white\"}},\"type\":\"table\"}],\"barpolar\":[{\"marker\":{\"line\":{\"color\":\"#E5ECF6\",\"width\":0.5},\"pattern\":{\"fillmode\":\"overlay\",\"size\":10,\"solidity\":0.2}},\"type\":\"barpolar\"}],\"pie\":[{\"automargin\":true,\"type\":\"pie\"}]},\"layout\":{\"autotypenumbers\":\"strict\",\"colorway\":[\"#636efa\",\"#EF553B\",\"#00cc96\",\"#ab63fa\",\"#FFA15A\",\"#19d3f3\",\"#FF6692\",\"#B6E880\",\"#FF97FF\",\"#FECB52\"],\"font\":{\"color\":\"#2a3f5f\"},\"hovermode\":\"closest\",\"hoverlabel\":{\"align\":\"left\"},\"paper_bgcolor\":\"white\",\"plot_bgcolor\":\"#E5ECF6\",\"polar\":{\"bgcolor\":\"#E5ECF6\",\"angularaxis\":{\"gridcolor\":\"white\",\"linecolor\":\"white\",\"ticks\":\"\"},\"radialaxis\":{\"gridcolor\":\"white\",\"linecolor\":\"white\",\"ticks\":\"\"}},\"ternary\":{\"bgcolor\":\"#E5ECF6\",\"aaxis\":{\"gridcolor\":\"white\",\"linecolor\":\"white\",\"ticks\":\"\"},\"baxis\":{\"gridcolor\":\"white\",\"linecolor\":\"white\",\"ticks\":\"\"},\"caxis\":{\"gridcolor\":\"white\",\"linecolor\":\"white\",\"ticks\":\"\"}},\"coloraxis\":{\"colorbar\":{\"outlinewidth\":0,\"ticks\":\"\"}},\"colorscale\":{\"sequential\":[[0.0,\"#0d0887\"],[0.1111111111111111,\"#46039f\"],[0.2222222222222222,\"#7201a8\"],[0.3333333333333333,\"#9c179e\"],[0.4444444444444444,\"#bd3786\"],[0.5555555555555556,\"#d8576b\"],[0.6666666666666666,\"#ed7953\"],[0.7777777777777778,\"#fb9f3a\"],[0.8888888888888888,\"#fdca26\"],[1.0,\"#f0f921\"]],\"sequentialminus\":[[0.0,\"#0d0887\"],[0.1111111111111111,\"#46039f\"],[0.2222222222222222,\"#7201a8\"],[0.3333333333333333,\"#9c179e\"],[0.4444444444444444,\"#bd3786\"],[0.5555555555555556,\"#d8576b\"],[0.6666666666666666,\"#ed7953\"],[0.7777777777777778,\"#fb9f3a\"],[0.8888888888888888,\"#fdca26\"],[1.0,\"#f0f921\"]],\"diverging\":[[0,\"#8e0152\"],[0.1,\"#c51b7d\"],[0.2,\"#de77ae\"],[0.3,\"#f1b6da\"],[0.4,\"#fde0ef\"],[0.5,\"#f7f7f7\"],[0.6,\"#e6f5d0\"],[0.7,\"#b8e186\"],[0.8,\"#7fbc41\"],[0.9,\"#4d9221\"],[1,\"#276419\"]]},\"xaxis\":{\"gridcolor\":\"white\",\"linecolor\":\"white\",\"ticks\":\"\",\"title\":{\"standoff\":15},\"zerolinecolor\":\"white\",\"automargin\":true,\"zerolinewidth\":2},\"yaxis\":{\"gridcolor\":\"white\",\"linecolor\":\"white\",\"ticks\":\"\",\"title\":{\"standoff\":15},\"zerolinecolor\":\"white\",\"automargin\":true,\"zerolinewidth\":2},\"scene\":{\"xaxis\":{\"backgroundcolor\":\"#E5ECF6\",\"gridcolor\":\"white\",\"linecolor\":\"white\",\"showbackground\":true,\"ticks\":\"\",\"zerolinecolor\":\"white\",\"gridwidth\":2},\"yaxis\":{\"backgroundcolor\":\"#E5ECF6\",\"gridcolor\":\"white\",\"linecolor\":\"white\",\"showbackground\":true,\"ticks\":\"\",\"zerolinecolor\":\"white\",\"gridwidth\":2},\"zaxis\":{\"backgroundcolor\":\"#E5ECF6\",\"gridcolor\":\"white\",\"linecolor\":\"white\",\"showbackground\":true,\"ticks\":\"\",\"zerolinecolor\":\"white\",\"gridwidth\":2}},\"shapedefaults\":{\"line\":{\"color\":\"#2a3f5f\"}},\"annotationdefaults\":{\"arrowcolor\":\"#2a3f5f\",\"arrowhead\":0,\"arrowwidth\":1},\"geo\":{\"bgcolor\":\"white\",\"landcolor\":\"#E5ECF6\",\"subunitcolor\":\"white\",\"showland\":true,\"showlakes\":true,\"lakecolor\":\"white\"},\"title\":{\"x\":0.05},\"mapbox\":{\"style\":\"light\"}}},\"xaxis\":{\"anchor\":\"y\",\"domain\":[0.0,1.0],\"title\":{\"text\":\"Columns\"},\"showgrid\":true,\"gridwidth\":1,\"gridcolor\":\"green\"},\"yaxis\":{\"anchor\":\"x\",\"domain\":[0.0,1.0],\"title\":{\"text\":\"Null Count\"},\"showgrid\":true,\"gridwidth\":1,\"gridcolor\":\"green\"},\"legend\":{\"tracegroupgap\":0},\"title\":{\"text\":\"Count of Null Values by Column\"},\"barmode\":\"relative\",\"plot_bgcolor\":\"rgba(0,0,0,0)\"},                        {\"responsive\": true}                    ).then(function(){\n",
              "                            \n",
              "var gd = document.getElementById('c02fe069-1398-4226-a30f-146d56f4cb90');\n",
              "var x = new MutationObserver(function (mutations, observer) {{\n",
              "        var display = window.getComputedStyle(gd).display;\n",
              "        if (!display || display === 'none') {{\n",
              "            console.log([gd, 'removed!']);\n",
              "            Plotly.purge(gd);\n",
              "            observer.disconnect();\n",
              "        }}\n",
              "}});\n",
              "\n",
              "// Listen for the removal of the full notebook cells\n",
              "var notebookContainer = gd.closest('#notebook-container');\n",
              "if (notebookContainer) {{\n",
              "    x.observe(notebookContainer, {childList: true});\n",
              "}}\n",
              "\n",
              "// Listen for the clearing of the current output cell\n",
              "var outputEl = gd.closest('.output');\n",
              "if (outputEl) {{\n",
              "    x.observe(outputEl, {childList: true});\n",
              "}}\n",
              "\n",
              "                        })                };                            </script>        </div>\n",
              "</body>\n",
              "</html>"
            ]
          },
          "metadata": {}
        }
      ],
      "source": [
        "null_counts = df.isnull().sum()\n",
        "# Create bar plot figure\n",
        "fig = px.bar(\n",
        "    x=null_counts.index,\n",
        "    y=null_counts.values,\n",
        "    labels={'x': 'Columns', 'y': 'Null Count'},\n",
        "    title='Count of Null Values by Column',\n",
        ")\n",
        "fig.update_layout(\n",
        "    plot_bgcolor='rgba(0,0,0,0)',)\n",
        "# Add gridlines\n",
        "fig.update_xaxes(showgrid=True, gridwidth=1, gridcolor='green')\n",
        "fig.update_yaxes(showgrid=True, gridwidth=1, gridcolor='green')\n",
        "fig.show()"
      ]
    },
    {
      "cell_type": "markdown",
      "id": "e4b5032f-d038-4903-85ac-9869c26b6248",
      "metadata": {
        "id": "e4b5032f-d038-4903-85ac-9869c26b6248"
      },
      "source": [
        "# **SECTION B**\n",
        "<hr>\n",
        "\n",
        "> ## **OUTLIERS DETECTION AND TREATMENT TECHNIQUES**\n",
        "\n",
        "1. Isolation Forest | Contamination\n",
        "2. Local Outlier Factor 3LOF)\n",
        "3. Normal Distributions and Z-scores (X~N40:1))\n",
        "4. Qu5rtiles\n",
        "5. Percentile-Base6 Method\n",
        "6. Outliers Treatment Techniques Winsorizantion"
      ]
    },
    {
      "cell_type": "markdown",
      "id": "c025d1ae-696c-4ca5-8779-a449ded68ac7",
      "metadata": {
        "id": "c025d1ae-696c-4ca5-8779-a449ded68ac7"
      },
      "source": [
        "# **A.  OUTLIERS DETECTION TECHNIQUES**"
      ]
    },
    {
      "cell_type": "markdown",
      "id": "a9bffc7e-bf56-4b3a-b2f6-f646039bf98c",
      "metadata": {
        "id": "a9bffc7e-bf56-4b3a-b2f6-f646039bf98c"
      },
      "source": [
        "> # **1. NORMAL DISTRIBUTION & Z-SCORES SECTION**"
      ]
    },
    {
      "cell_type": "code",
      "execution_count": 55,
      "id": "573be7db-e70e-4e79-8a93-ce176b22b80f",
      "metadata": {
        "colab": {
          "base_uri": "https://localhost:8080/",
          "height": 542
        },
        "id": "573be7db-e70e-4e79-8a93-ce176b22b80f",
        "outputId": "80a79574-4041-4cb5-f765-7340ab9e8296"
      },
      "outputs": [
        {
          "output_type": "display_data",
          "data": {
            "text/html": [
              "<html>\n",
              "<head><meta charset=\"utf-8\" /></head>\n",
              "<body>\n",
              "    <div>            <script src=\"https://cdnjs.cloudflare.com/ajax/libs/mathjax/2.7.5/MathJax.js?config=TeX-AMS-MML_SVG\"></script><script type=\"text/javascript\">if (window.MathJax && window.MathJax.Hub && window.MathJax.Hub.Config) {window.MathJax.Hub.Config({SVG: {font: \"STIX-Web\"}});}</script>                <script type=\"text/javascript\">window.PlotlyConfig = {MathJaxConfig: 'local'};</script>\n",
              "        <script charset=\"utf-8\" src=\"https://cdn.plot.ly/plotly-2.24.1.min.js\"></script>                <div id=\"7219a306-c166-4051-8038-56c29d1f8958\" class=\"plotly-graph-div\" style=\"height:525px; width:100%;\"></div>            <script type=\"text/javascript\">                                    window.PLOTLYENV=window.PLOTLYENV || {};                                    if (document.getElementById(\"7219a306-c166-4051-8038-56c29d1f8958\")) {                    Plotly.newPlot(                        \"7219a306-c166-4051-8038-56c29d1f8958\",                        [{\"line\":{\"color\":\"blue\"},\"mode\":\"lines\",\"name\":\"Normal Distribution\",\"x\":[0.0,1.5151515151515151,3.0303030303030303,4.545454545454545,6.0606060606060606,7.575757575757576,9.09090909090909,10.606060606060606,12.121212121212121,13.636363636363637,15.151515151515152,16.666666666666668,18.18181818181818,19.696969696969695,21.21212121212121,22.727272727272727,24.242424242424242,25.757575757575758,27.272727272727273,28.78787878787879,30.303030303030305,31.818181818181817,33.333333333333336,34.84848484848485,36.36363636363636,37.878787878787875,39.39393939393939,40.90909090909091,42.42424242424242,43.93939393939394,45.45454545454545,46.96969696969697,48.484848484848484,50.0,51.515151515151516,53.03030303030303,54.54545454545455,56.06060606060606,57.57575757575758,59.09090909090909,60.60606060606061,62.12121212121212,63.63636363636363,65.15151515151516,66.66666666666667,68.18181818181819,69.6969696969697,71.21212121212122,72.72727272727272,74.24242424242424,75.75757575757575,77.27272727272727,78.78787878787878,80.3030303030303,81.81818181818181,83.33333333333333,84.84848484848484,86.36363636363636,87.87878787878788,89.39393939393939,90.9090909090909,92.42424242424242,93.93939393939394,95.45454545454545,96.96969696969697,98.48484848484848,100.0,101.51515151515152,103.03030303030303,104.54545454545455,106.06060606060606,107.57575757575758,109.0909090909091,110.60606060606061,112.12121212121212,113.63636363636364,115.15151515151516,116.66666666666667,118.18181818181819,119.6969696969697,121.21212121212122,122.72727272727272,124.24242424242424,125.75757575757575,127.27272727272727,128.78787878787878,130.3030303030303,131.8181818181818,133.33333333333334,134.84848484848484,136.36363636363637,137.87878787878788,139.3939393939394,140.9090909090909,142.42424242424244,143.93939393939394,145.45454545454544,146.96969696969697,148.48484848484847,150.0],\"y\":[0.00028600457229822787,0.00039700643586753514,0.0005444723449410555,0.0007377476113740244,0.0009876282545149288,0.0013062698633021172,0.001706970503586077,0.0022038033218201238,0.0028110809867884085,0.0035426446318125833,0.004410984476883799,0.005426217237841739,0.006594965554943392,0.0079192051583437,0.009395163974847251,0.011012371202870502,0.012752960880547469,0.014591331374025684,0.016494248041268256,0.01842145075792964,0.020326792107817054,0.022159888405200126,0.023868218240376483,0.02539955682161801,0.026704594358149456,0.02773955817421352,0.0284686452843991,0.028866077316299477,0.028917613409134537,0.02862139728704973,0.027988068248313264,0.027040126816836402,0.02581060779562812,0.024341169839841574,0.022679755554644524,0.020878005117882854,0.01898861712290444,0.017062842550313952,0.015148273460455157,0.01328705085925623,0.011514571101387774,0.0098587224899228,0.00833963850216724,0.006969915566271978,0.005755214518697852,0.004695147309062411,0.0037843442587603016,0.003013601052182473,0.0023710165659092054,0.0018430500345429331,0.0014154462111135887,0.0010739976290594772,0.0008051318046123932,0.0005963268309323634,0.0004363705425102551,0.0003154860847739494,0.0002253505897615008,0.00015903433497438033,0.00011088602183568584,7.638646571489925e-05,5.198879331803641e-05,3.4958820082607555e-05,2.3225095173702465e-05,1.5244456531698186e-05,9.885988429599854e-06,6.3340568506058895e-06,4.009567451220487e-06,2.507649293326567e-06,1.5494935769678386e-06,9.459462720754681e-07,5.705541483157273e-07,3.4000160900566526e-07,2.0017912420463883e-07,1.1644217395839454e-07,6.691993845646293e-08,3.799745141322654e-08,2.1316068708067897e-08,1.1814448734709926e-08,6.469541759499092e-09,3.5001550764994494e-09,1.8709180289621238e-09,9.880432175489262e-10,5.155263048160303e-10,2.6575376537763727e-10,1.3535108163900385e-10,6.810793963862489e-11,3.386003961051115e-11,1.663147965288328e-11,8.071012565273656e-12,3.869713973261037e-12,1.8330884270316066e-12,8.579098873410654e-13,3.966921789870187e-13,1.8122550179941334e-13,8.179724779249132e-14,3.6476384026953194e-14,1.6070839914342136e-14,6.99550511166044e-15,3.00852267557574e-15,1.2783247800092206e-15],\"type\":\"scatter\"},{\"marker\":{\"color\":\"red\",\"size\":10},\"mode\":\"markers\",\"name\":\"Outliers\",\"x\":[150.0,0.0,90.0],\"y\":[0,0,0],\"type\":\"scatter\"}],                        {\"template\":{\"data\":{\"histogram2dcontour\":[{\"type\":\"histogram2dcontour\",\"colorbar\":{\"outlinewidth\":0,\"ticks\":\"\"},\"colorscale\":[[0.0,\"#0d0887\"],[0.1111111111111111,\"#46039f\"],[0.2222222222222222,\"#7201a8\"],[0.3333333333333333,\"#9c179e\"],[0.4444444444444444,\"#bd3786\"],[0.5555555555555556,\"#d8576b\"],[0.6666666666666666,\"#ed7953\"],[0.7777777777777778,\"#fb9f3a\"],[0.8888888888888888,\"#fdca26\"],[1.0,\"#f0f921\"]]}],\"choropleth\":[{\"type\":\"choropleth\",\"colorbar\":{\"outlinewidth\":0,\"ticks\":\"\"}}],\"histogram2d\":[{\"type\":\"histogram2d\",\"colorbar\":{\"outlinewidth\":0,\"ticks\":\"\"},\"colorscale\":[[0.0,\"#0d0887\"],[0.1111111111111111,\"#46039f\"],[0.2222222222222222,\"#7201a8\"],[0.3333333333333333,\"#9c179e\"],[0.4444444444444444,\"#bd3786\"],[0.5555555555555556,\"#d8576b\"],[0.6666666666666666,\"#ed7953\"],[0.7777777777777778,\"#fb9f3a\"],[0.8888888888888888,\"#fdca26\"],[1.0,\"#f0f921\"]]}],\"heatmap\":[{\"type\":\"heatmap\",\"colorbar\":{\"outlinewidth\":0,\"ticks\":\"\"},\"colorscale\":[[0.0,\"#0d0887\"],[0.1111111111111111,\"#46039f\"],[0.2222222222222222,\"#7201a8\"],[0.3333333333333333,\"#9c179e\"],[0.4444444444444444,\"#bd3786\"],[0.5555555555555556,\"#d8576b\"],[0.6666666666666666,\"#ed7953\"],[0.7777777777777778,\"#fb9f3a\"],[0.8888888888888888,\"#fdca26\"],[1.0,\"#f0f921\"]]}],\"heatmapgl\":[{\"type\":\"heatmapgl\",\"colorbar\":{\"outlinewidth\":0,\"ticks\":\"\"},\"colorscale\":[[0.0,\"#0d0887\"],[0.1111111111111111,\"#46039f\"],[0.2222222222222222,\"#7201a8\"],[0.3333333333333333,\"#9c179e\"],[0.4444444444444444,\"#bd3786\"],[0.5555555555555556,\"#d8576b\"],[0.6666666666666666,\"#ed7953\"],[0.7777777777777778,\"#fb9f3a\"],[0.8888888888888888,\"#fdca26\"],[1.0,\"#f0f921\"]]}],\"contourcarpet\":[{\"type\":\"contourcarpet\",\"colorbar\":{\"outlinewidth\":0,\"ticks\":\"\"}}],\"contour\":[{\"type\":\"contour\",\"colorbar\":{\"outlinewidth\":0,\"ticks\":\"\"},\"colorscale\":[[0.0,\"#0d0887\"],[0.1111111111111111,\"#46039f\"],[0.2222222222222222,\"#7201a8\"],[0.3333333333333333,\"#9c179e\"],[0.4444444444444444,\"#bd3786\"],[0.5555555555555556,\"#d8576b\"],[0.6666666666666666,\"#ed7953\"],[0.7777777777777778,\"#fb9f3a\"],[0.8888888888888888,\"#fdca26\"],[1.0,\"#f0f921\"]]}],\"surface\":[{\"type\":\"surface\",\"colorbar\":{\"outlinewidth\":0,\"ticks\":\"\"},\"colorscale\":[[0.0,\"#0d0887\"],[0.1111111111111111,\"#46039f\"],[0.2222222222222222,\"#7201a8\"],[0.3333333333333333,\"#9c179e\"],[0.4444444444444444,\"#bd3786\"],[0.5555555555555556,\"#d8576b\"],[0.6666666666666666,\"#ed7953\"],[0.7777777777777778,\"#fb9f3a\"],[0.8888888888888888,\"#fdca26\"],[1.0,\"#f0f921\"]]}],\"mesh3d\":[{\"type\":\"mesh3d\",\"colorbar\":{\"outlinewidth\":0,\"ticks\":\"\"}}],\"scatter\":[{\"fillpattern\":{\"fillmode\":\"overlay\",\"size\":10,\"solidity\":0.2},\"type\":\"scatter\"}],\"parcoords\":[{\"type\":\"parcoords\",\"line\":{\"colorbar\":{\"outlinewidth\":0,\"ticks\":\"\"}}}],\"scatterpolargl\":[{\"type\":\"scatterpolargl\",\"marker\":{\"colorbar\":{\"outlinewidth\":0,\"ticks\":\"\"}}}],\"bar\":[{\"error_x\":{\"color\":\"#2a3f5f\"},\"error_y\":{\"color\":\"#2a3f5f\"},\"marker\":{\"line\":{\"color\":\"#E5ECF6\",\"width\":0.5},\"pattern\":{\"fillmode\":\"overlay\",\"size\":10,\"solidity\":0.2}},\"type\":\"bar\"}],\"scattergeo\":[{\"type\":\"scattergeo\",\"marker\":{\"colorbar\":{\"outlinewidth\":0,\"ticks\":\"\"}}}],\"scatterpolar\":[{\"type\":\"scatterpolar\",\"marker\":{\"colorbar\":{\"outlinewidth\":0,\"ticks\":\"\"}}}],\"histogram\":[{\"marker\":{\"pattern\":{\"fillmode\":\"overlay\",\"size\":10,\"solidity\":0.2}},\"type\":\"histogram\"}],\"scattergl\":[{\"type\":\"scattergl\",\"marker\":{\"colorbar\":{\"outlinewidth\":0,\"ticks\":\"\"}}}],\"scatter3d\":[{\"type\":\"scatter3d\",\"line\":{\"colorbar\":{\"outlinewidth\":0,\"ticks\":\"\"}},\"marker\":{\"colorbar\":{\"outlinewidth\":0,\"ticks\":\"\"}}}],\"scattermapbox\":[{\"type\":\"scattermapbox\",\"marker\":{\"colorbar\":{\"outlinewidth\":0,\"ticks\":\"\"}}}],\"scatterternary\":[{\"type\":\"scatterternary\",\"marker\":{\"colorbar\":{\"outlinewidth\":0,\"ticks\":\"\"}}}],\"scattercarpet\":[{\"type\":\"scattercarpet\",\"marker\":{\"colorbar\":{\"outlinewidth\":0,\"ticks\":\"\"}}}],\"carpet\":[{\"aaxis\":{\"endlinecolor\":\"#2a3f5f\",\"gridcolor\":\"white\",\"linecolor\":\"white\",\"minorgridcolor\":\"white\",\"startlinecolor\":\"#2a3f5f\"},\"baxis\":{\"endlinecolor\":\"#2a3f5f\",\"gridcolor\":\"white\",\"linecolor\":\"white\",\"minorgridcolor\":\"white\",\"startlinecolor\":\"#2a3f5f\"},\"type\":\"carpet\"}],\"table\":[{\"cells\":{\"fill\":{\"color\":\"#EBF0F8\"},\"line\":{\"color\":\"white\"}},\"header\":{\"fill\":{\"color\":\"#C8D4E3\"},\"line\":{\"color\":\"white\"}},\"type\":\"table\"}],\"barpolar\":[{\"marker\":{\"line\":{\"color\":\"#E5ECF6\",\"width\":0.5},\"pattern\":{\"fillmode\":\"overlay\",\"size\":10,\"solidity\":0.2}},\"type\":\"barpolar\"}],\"pie\":[{\"automargin\":true,\"type\":\"pie\"}]},\"layout\":{\"autotypenumbers\":\"strict\",\"colorway\":[\"#636efa\",\"#EF553B\",\"#00cc96\",\"#ab63fa\",\"#FFA15A\",\"#19d3f3\",\"#FF6692\",\"#B6E880\",\"#FF97FF\",\"#FECB52\"],\"font\":{\"color\":\"#2a3f5f\"},\"hovermode\":\"closest\",\"hoverlabel\":{\"align\":\"left\"},\"paper_bgcolor\":\"white\",\"plot_bgcolor\":\"#E5ECF6\",\"polar\":{\"bgcolor\":\"#E5ECF6\",\"angularaxis\":{\"gridcolor\":\"white\",\"linecolor\":\"white\",\"ticks\":\"\"},\"radialaxis\":{\"gridcolor\":\"white\",\"linecolor\":\"white\",\"ticks\":\"\"}},\"ternary\":{\"bgcolor\":\"#E5ECF6\",\"aaxis\":{\"gridcolor\":\"white\",\"linecolor\":\"white\",\"ticks\":\"\"},\"baxis\":{\"gridcolor\":\"white\",\"linecolor\":\"white\",\"ticks\":\"\"},\"caxis\":{\"gridcolor\":\"white\",\"linecolor\":\"white\",\"ticks\":\"\"}},\"coloraxis\":{\"colorbar\":{\"outlinewidth\":0,\"ticks\":\"\"}},\"colorscale\":{\"sequential\":[[0.0,\"#0d0887\"],[0.1111111111111111,\"#46039f\"],[0.2222222222222222,\"#7201a8\"],[0.3333333333333333,\"#9c179e\"],[0.4444444444444444,\"#bd3786\"],[0.5555555555555556,\"#d8576b\"],[0.6666666666666666,\"#ed7953\"],[0.7777777777777778,\"#fb9f3a\"],[0.8888888888888888,\"#fdca26\"],[1.0,\"#f0f921\"]],\"sequentialminus\":[[0.0,\"#0d0887\"],[0.1111111111111111,\"#46039f\"],[0.2222222222222222,\"#7201a8\"],[0.3333333333333333,\"#9c179e\"],[0.4444444444444444,\"#bd3786\"],[0.5555555555555556,\"#d8576b\"],[0.6666666666666666,\"#ed7953\"],[0.7777777777777778,\"#fb9f3a\"],[0.8888888888888888,\"#fdca26\"],[1.0,\"#f0f921\"]],\"diverging\":[[0,\"#8e0152\"],[0.1,\"#c51b7d\"],[0.2,\"#de77ae\"],[0.3,\"#f1b6da\"],[0.4,\"#fde0ef\"],[0.5,\"#f7f7f7\"],[0.6,\"#e6f5d0\"],[0.7,\"#b8e186\"],[0.8,\"#7fbc41\"],[0.9,\"#4d9221\"],[1,\"#276419\"]]},\"xaxis\":{\"gridcolor\":\"white\",\"linecolor\":\"white\",\"ticks\":\"\",\"title\":{\"standoff\":15},\"zerolinecolor\":\"white\",\"automargin\":true,\"zerolinewidth\":2},\"yaxis\":{\"gridcolor\":\"white\",\"linecolor\":\"white\",\"ticks\":\"\",\"title\":{\"standoff\":15},\"zerolinecolor\":\"white\",\"automargin\":true,\"zerolinewidth\":2},\"scene\":{\"xaxis\":{\"backgroundcolor\":\"#E5ECF6\",\"gridcolor\":\"white\",\"linecolor\":\"white\",\"showbackground\":true,\"ticks\":\"\",\"zerolinecolor\":\"white\",\"gridwidth\":2},\"yaxis\":{\"backgroundcolor\":\"#E5ECF6\",\"gridcolor\":\"white\",\"linecolor\":\"white\",\"showbackground\":true,\"ticks\":\"\",\"zerolinecolor\":\"white\",\"gridwidth\":2},\"zaxis\":{\"backgroundcolor\":\"#E5ECF6\",\"gridcolor\":\"white\",\"linecolor\":\"white\",\"showbackground\":true,\"ticks\":\"\",\"zerolinecolor\":\"white\",\"gridwidth\":2}},\"shapedefaults\":{\"line\":{\"color\":\"#2a3f5f\"}},\"annotationdefaults\":{\"arrowcolor\":\"#2a3f5f\",\"arrowhead\":0,\"arrowwidth\":1},\"geo\":{\"bgcolor\":\"white\",\"landcolor\":\"#E5ECF6\",\"subunitcolor\":\"white\",\"showland\":true,\"showlakes\":true,\"lakecolor\":\"white\"},\"title\":{\"x\":0.05},\"mapbox\":{\"style\":\"light\"}}},\"xaxis\":{\"title\":{\"text\":\"Age\"},\"showgrid\":true,\"gridwidth\":1,\"gridcolor\":\"skyblue\"},\"yaxis\":{\"title\":{\"text\":\"Density\"},\"showgrid\":true,\"gridwidth\":1,\"gridcolor\":\"skyblue\"},\"title\":{\"text\":\"Probability Density Function (PDF) of Age\"},\"showlegend\":true,\"plot_bgcolor\":\"rgba(0,0,0,0)\"},                        {\"responsive\": true}                    ).then(function(){\n",
              "                            \n",
              "var gd = document.getElementById('7219a306-c166-4051-8038-56c29d1f8958');\n",
              "var x = new MutationObserver(function (mutations, observer) {{\n",
              "        var display = window.getComputedStyle(gd).display;\n",
              "        if (!display || display === 'none') {{\n",
              "            console.log([gd, 'removed!']);\n",
              "            Plotly.purge(gd);\n",
              "            observer.disconnect();\n",
              "        }}\n",
              "}});\n",
              "\n",
              "// Listen for the removal of the full notebook cells\n",
              "var notebookContainer = gd.closest('#notebook-container');\n",
              "if (notebookContainer) {{\n",
              "    x.observe(notebookContainer, {childList: true});\n",
              "}}\n",
              "\n",
              "// Listen for the clearing of the current output cell\n",
              "var outputEl = gd.closest('.output');\n",
              "if (outputEl) {{\n",
              "    x.observe(outputEl, {childList: true});\n",
              "}}\n",
              "\n",
              "                        })                };                            </script>        </div>\n",
              "</body>\n",
              "</html>"
            ]
          },
          "metadata": {}
        }
      ],
      "source": [
        "# Calculate min and max age for plotting\n",
        "max_age = df['age'].max()\n",
        "min_age = df['age'].min()\n",
        "\n",
        "# Create figure for PDF\n",
        "fig_pdf = go.Figure()\n",
        "\n",
        "# Plot Normal distribution curve\n",
        "x_values = np.linspace(min_age, max_age, 100)\n",
        "normal_pdf = norm.pdf(x_values, df['age'].mean(), df['age'].std())\n",
        "fig_pdf.add_trace(go.Scatter(x=x_values, y=normal_pdf, mode='lines', name='Normal Distribution', line=dict(color='blue')))\n",
        "\n",
        "# Highlight outliers using z-scores\n",
        "z_scores = zscore(df['age'])\n",
        "outliers = df[(z_scores < -3) | (z_scores > 3)]\n",
        "fig_pdf.add_trace(go.Scatter(x=outliers['age'], y=[0]*len(outliers), mode='markers', name='Outliers', marker=dict(color='red', size=10)))\n",
        "\n",
        "# Update PDF figure layout\n",
        "fig_pdf.update_layout(\n",
        "    title='Probability Density Function (PDF) of Age',\n",
        "    xaxis_title='Age',\n",
        "    yaxis_title='Density',\n",
        "    showlegend=True,\n",
        "    plot_bgcolor='rgba(0,0,0,0)',  # Remove background color\n",
        "    xaxis=dict(showgrid=True, gridwidth=1, gridcolor='skyblue'),  # Add x-axis gridlines\n",
        "    yaxis=dict(showgrid=True, gridwidth=1, gridcolor='skyblue'),  # Add y-axis gridlines\n",
        ")\n",
        "\n",
        "fig_pdf.show()"
      ]
    },
    {
      "cell_type": "markdown",
      "id": "835b7958-ec22-45ee-bc9a-6ad15e68e50c",
      "metadata": {
        "id": "835b7958-ec22-45ee-bc9a-6ad15e68e50c"
      },
      "source": [
        "> # **2. BOX PLOT SECTION**"
      ]
    },
    {
      "cell_type": "code",
      "execution_count": 56,
      "id": "7e9943cc-4522-4498-a8f8-73c8aef6941b",
      "metadata": {
        "colab": {
          "base_uri": "https://localhost:8080/",
          "height": 417
        },
        "id": "7e9943cc-4522-4498-a8f8-73c8aef6941b",
        "outputId": "5598c8e7-9a3c-4143-9f5b-c45fc148bec1"
      },
      "outputs": [
        {
          "output_type": "display_data",
          "data": {
            "text/html": [
              "<html>\n",
              "<head><meta charset=\"utf-8\" /></head>\n",
              "<body>\n",
              "    <div>            <script src=\"https://cdnjs.cloudflare.com/ajax/libs/mathjax/2.7.5/MathJax.js?config=TeX-AMS-MML_SVG\"></script><script type=\"text/javascript\">if (window.MathJax && window.MathJax.Hub && window.MathJax.Hub.Config) {window.MathJax.Hub.Config({SVG: {font: \"STIX-Web\"}});}</script>                <script type=\"text/javascript\">window.PlotlyConfig = {MathJaxConfig: 'local'};</script>\n",
              "        <script charset=\"utf-8\" src=\"https://cdn.plot.ly/plotly-2.24.1.min.js\"></script>                <div id=\"cfef7284-a04e-4096-b3d0-a3fa4bd940ff\" class=\"plotly-graph-div\" style=\"height:400px; width:100%;\"></div>            <script type=\"text/javascript\">                                    window.PLOTLYENV=window.PLOTLYENV || {};                                    if (document.getElementById(\"cfef7284-a04e-4096-b3d0-a3fa4bd940ff\")) {                    Plotly.newPlot(                        \"cfef7284-a04e-4096-b3d0-a3fa4bd940ff\",                        [{\"boxpoints\":\"outliers\",\"marker\":{\"color\":\"blue\"},\"name\":\"Age Distribution\",\"y\":[36.0,41.890396659707726,21.0,57.0,54.0,41.890396659707726,24.0,35.0,38.0,33.0,61.0,30.0,51.0,41.890396659707726,24.0,18.0,35.0,54.0,41.890396659707726,45.0,35.0,57.0,55.0,41.890396659707726,22.0,38.0,33.0,39.0,22.0,45.0,25.0,41.890396659707726,28.0,63.0,18.0,20.0,26.0,48.0,57.0,41.890396659707726,39.0,43.0,19.0,28.0,41.0,19.0,41.890396659707726,40.0,50.0,47.0,31.0,25.0,35.0,61.0,34.0,18.0,50.0,40.0,41.890396659707726,37.0,32.0,47.0,26.0,64.0,29.0,48.0,44.0,19.0,33.0,64.0,39.0,63.0,41.890396659707726,62.0,41.0,61.0,54.0,65.0,47.0,41.890396659707726,36.0,30.0,33.0,54.0,24.0,50.0,22.0,63.0,42.0,29.0,25.0,36.0,46.0,34.0,35.0,55.0,51.0,32.0,46.0,35.0,63.0,47.0,54.0,60.0,41.0,29.0,25.0,28.0,44.0,55.0,41.0,43.0,38.0,55.0,32.0,62.0,20.0,64.0,47.0,53.0,61.0,34.0,54.0,26.0,47.0,34.0,44.0,48.0,35.0,61.0,24.0,39.0,33.0,20.0,29.0,42.0,35.0,33.0,42.0,27.0,30.0,38.0,61.0,23.0,33.0,39.0,22.0,38.0,63.0,65.0,44.0,61.0,41.890396659707726,33.0,48.0,26.0,58.0,40.0,58.0,19.0,29.0,42.0,65.0,28.0,30.0,25.0,22.0,43.0,37.0,31.0,29.0,44.0,39.0,30.0,31.0,23.0,54.0,48.0,62.0,52.0,18.0,41.0,47.0,41.890396659707726,30.0,30.0,20.0,35.0,57.0,27.0,52.0,30.0,27.0,58.0,49.0,41.0,21.0,54.0,37.0,25.0,36.0,24.0,63.0,22.0,25.0,35.0,45.0,64.0,54.0,41.0,37.0,55.0,24.0,25.0,27.0,52.0,19.0,35.0,36.0,49.0,34.0,56.0,65.0,22.0,61.0,50.0,28.0,50.0,49.0,20.0,41.890396659707726,20.0,35.0,41.0,65.0,36.0,59.0,51.0,54.0,52.0,38.0,40.0,61.0,47.0,26.0,56.0,48.0,24.0,57.0,57.0,27.0,48.0,57.0,45.0,64.0,38.0,27.0,55.0,50.0,23.0,42.0,42.0,47.0,25.0,51.0,41.890396659707726,55.0,61.0,51.0,32.0,58.0,27.0,48.0,53.0,44.0,57.0,41.890396659707726,58.0,41.890396659707726,28.0,50.0,39.0,36.0,63.0,49.0,19.0,47.0,29.0,30.0,23.0,64.0,21.0,49.0,63.0,58.0,62.0,51.0,56.0,58.0,52.0,64.0,41.890396659707726,23.0,40.0,27.0,32.0,30.0,20.0,26.0,35.0,39.0,41.890396659707726,48.0,35.0,51.0,34.0,40.0,19.0,32.0,31.0,41.890396659707726,49.0,42.0,24.0,63.0,33.0,59.0,52.0,64.0,28.0,19.0,38.0,48.0,52.0,51.0,31.0,57.0,57.0,60.0,37.0,56.0,58.0,30.0,61.0,38.0,62.0,57.0,44.0,53.0,63.0,32.0,33.0,45.0,48.0,41.0,60.0,58.0,42.0,43.0,36.0,61.0,36.0,41.890396659707726,64.0,52.0,49.0,52.0,58.0,52.0,41.890396659707726,58.0,64.0,54.0,45.0,39.0,26.0,18.0,59.0,25.0,41.890396659707726,61.0,26.0,43.0,24.0,63.0,37.0,35.0,44.0,59.0,33.0,60.0,33.0,47.0,30.0,44.0,53.0,23.0,64.0,54.0,48.0,63.0,30.0,21.0,19.0,27.0,57.0,35.0,20.0,65.0,60.0,21.0,47.0,56.0,28.0,39.0,25.0,51.0,35.0,53.0,24.0,57.0,25.0,44.0,41.0,36.0,37.0,34.0,37.0,45.0,38.0,60.0,51.0,45.0,36.0,37.0,51.0,28.0,38.0,38.0,49.0,18.0,51.0,61.0,54.0,25.0,51.0,22.0,30.0,33.0,56.0,42.0,39.0,34.0,57.0,46.0,18.0,51.0,45.0,46.0,20.0,47.0,26.0,26.0,47.0,45.0,24.0,53.0,55.0,35.0,23.0,48.0,39.0,47.0,41.890396659707726,43.0,56.0,26.0,40.0,34.0,41.890396659707726,43.0,44.0,52.0,23.0,24.0,37.0,47.0,41.890396659707726,40.0,18.0,50.0,41.890396659707726,25.0,47.0,42.0,41.0,25.0,50.0,21.0,25.0,27.0,23.0,40.0,25.0,25.0,34.0,52.0,22.0,26.0,63.0,39.0,36.0,39.0,56.0,50.0,33.0,60.0,63.0,60.0,58.0,40.0,47.0,52.0,51.0,19.0,54.0,49.0,59.0,47.0,34.0,21.0,29.0,51.0,49.0,59.0,54.0,32.0,18.0,43.0,45.0,37.0,45.0,49.0,37.0,45.0,32.0,18.0,35.0,28.0,26.0,58.0,43.0,23.0,41.0,32.0,33.0,25.0,49.0,58.0,56.0,29.0,41.0,46.0,50.0,46.0,35.0,62.0,46.0,44.0,47.0,36.0,56.0,23.0,18.0,48.0,31.0,23.0,36.0,58.0,29.0,60.0,42.0,60.0,42.0,39.0,54.0,33.0,30.0,24.0,58.0,46.0,64.0,33.0,64.0,65.0,34.0,31.0,22.0,47.0,58.0,18.0,43.0,23.0,29.0,59.0,65.0,42.0,28.0,52.0,64.0,48.0,55.0,31.0,34.0,53.0,37.0,64.0,64.0,49.0,29.0,61.0,50.0,55.0,24.0,40.0,48.0,61.0,56.0,25.0,61.0,44.0,18.0,29.0,45.0,19.0,36.0,63.0,56.0,49.0,28.0,57.0,58.0,31.0,33.0,21.0,54.0,36.0,44.0,25.0,56.0,58.0,31.0,19.0,25.0,60.0,60.0,57.0,22.0,52.0,27.0,29.0,19.0,27.0,37.0,40.0,52.0,61.0,53.0,57.0,41.0,42.0,50.0,29.0,55.0,43.0,55.0,48.0,29.0,46.0,45.0,34.0,26.0,41.890396659707726,34.0,18.0,41.890396659707726,41.890396659707726,29.0,63.0,59.0,26.0,60.0,41.890396659707726,56.0,28.0,46.0,44.0,41.890396659707726,41.890396659707726,20.0,19.0,52.0,38.0,54.0,26.0,41.890396659707726,48.0,36.0,46.0,18.0,57.0,33.0,50.0,62.0,23.0,40.0,64.0,24.0,49.0,51.0,39.0,35.0,53.0,59.0,46.0,47.0,32.0,45.0,29.0,65.0,50.0,28.0,58.0,20.0,63.0,43.0,40.0,57.0,39.0,49.0,57.0,39.0,31.0,47.0,33.0,39.0,64.0,34.0,23.0,24.0,62.0,61.0,47.0,19.0,48.0,35.0,23.0,65.0,52.0,23.0,35.0,39.0,49.0,64.0,33.0,51.0,30.0,52.0,20.0,48.0,58.0,63.0,47.0,44.0,30.0,65.0,56.0,63.0,29.0,41.0,48.0,46.0,43.0,52.0,33.0,35.0,39.0,25.0,22.0,29.0,48.0,20.0,46.0,64.0,52.0,62.0,43.0,25.0,63.0,61.0,65.0,58.0,43.0,52.0,37.0,50.0,54.0,54.0,41.0,31.0,62.0,19.0,40.0,49.0,61.0,36.0,38.0,44.0,57.0,62.0,34.0,29.0,62.0,55.0,33.0,65.0,58.0,59.0,30.0,19.0,53.0,57.0,61.0,45.0,46.0,28.0,25.0,28.0,60.0,56.0,61.0,33.0,34.0,41.0,33.0,21.0,51.0,44.0,49.0,60.0,34.0,46.0,29.0,48.0,45.0,45.0,23.0,35.0,20.0,34.0,51.0,29.0,47.0,45.0,60.0,25.0,36.0,49.0,19.0,60.0,39.0,63.0,23.0,26.0,65.0,51.0,57.0,28.0,23.0,51.0,27.0,22.0,18.0,30.0,43.0,36.0,34.0,19.0,34.0,39.0,33.0,18.0,47.0,24.0,59.0,43.0,54.0,41.0,58.0,29.0,45.0,34.0,65.0,51.0,47.0,20.0,44.0,33.0,42.0,33.0,28.0,59.0,43.0,51.0,59.0,43.0,27.0,19.0,41.0,57.0,27.0,39.0,64.0,49.0,55.0,60.0,62.0,41.0,59.0,41.890396659707726,30.0,43.0,61.0,54.0,51.0,45.0,58.0,41.890396659707726,45.0,46.0,59.0,62.0,29.0,42.0,53.0,42.0,20.0,36.0,45.0,18.0,65.0,44.0,47.0,31.0,26.0,53.0,60.0,33.0,21.0,33.0,35.0,29.0,47.0,20.0,39.0,24.0,42.0,25.0,35.0,29.0,35.0,41.890396659707726,39.0,41.890396659707726,61.0,49.0,47.0,41.890396659707726,28.0,33.0,20.0,46.0,54.0,29.0,36.0,39.0,46.0,19.0,27.0,55.0,41.890396659707726,53.0,32.0,29.0,41.890396659707726,41.890396659707726,45.0,150.0,0.0,90.0],\"type\":\"box\"},{\"marker\":{\"color\":\"white\",\"size\":0},\"mode\":\"markers\",\"name\":\"Q1: 31.00, Q2: 41.89, Q3: 52.00\",\"x\":[null],\"y\":[null],\"type\":\"scatter\"}],                        {\"template\":{\"data\":{\"histogram2dcontour\":[{\"type\":\"histogram2dcontour\",\"colorbar\":{\"outlinewidth\":0,\"ticks\":\"\"},\"colorscale\":[[0.0,\"#0d0887\"],[0.1111111111111111,\"#46039f\"],[0.2222222222222222,\"#7201a8\"],[0.3333333333333333,\"#9c179e\"],[0.4444444444444444,\"#bd3786\"],[0.5555555555555556,\"#d8576b\"],[0.6666666666666666,\"#ed7953\"],[0.7777777777777778,\"#fb9f3a\"],[0.8888888888888888,\"#fdca26\"],[1.0,\"#f0f921\"]]}],\"choropleth\":[{\"type\":\"choropleth\",\"colorbar\":{\"outlinewidth\":0,\"ticks\":\"\"}}],\"histogram2d\":[{\"type\":\"histogram2d\",\"colorbar\":{\"outlinewidth\":0,\"ticks\":\"\"},\"colorscale\":[[0.0,\"#0d0887\"],[0.1111111111111111,\"#46039f\"],[0.2222222222222222,\"#7201a8\"],[0.3333333333333333,\"#9c179e\"],[0.4444444444444444,\"#bd3786\"],[0.5555555555555556,\"#d8576b\"],[0.6666666666666666,\"#ed7953\"],[0.7777777777777778,\"#fb9f3a\"],[0.8888888888888888,\"#fdca26\"],[1.0,\"#f0f921\"]]}],\"heatmap\":[{\"type\":\"heatmap\",\"colorbar\":{\"outlinewidth\":0,\"ticks\":\"\"},\"colorscale\":[[0.0,\"#0d0887\"],[0.1111111111111111,\"#46039f\"],[0.2222222222222222,\"#7201a8\"],[0.3333333333333333,\"#9c179e\"],[0.4444444444444444,\"#bd3786\"],[0.5555555555555556,\"#d8576b\"],[0.6666666666666666,\"#ed7953\"],[0.7777777777777778,\"#fb9f3a\"],[0.8888888888888888,\"#fdca26\"],[1.0,\"#f0f921\"]]}],\"heatmapgl\":[{\"type\":\"heatmapgl\",\"colorbar\":{\"outlinewidth\":0,\"ticks\":\"\"},\"colorscale\":[[0.0,\"#0d0887\"],[0.1111111111111111,\"#46039f\"],[0.2222222222222222,\"#7201a8\"],[0.3333333333333333,\"#9c179e\"],[0.4444444444444444,\"#bd3786\"],[0.5555555555555556,\"#d8576b\"],[0.6666666666666666,\"#ed7953\"],[0.7777777777777778,\"#fb9f3a\"],[0.8888888888888888,\"#fdca26\"],[1.0,\"#f0f921\"]]}],\"contourcarpet\":[{\"type\":\"contourcarpet\",\"colorbar\":{\"outlinewidth\":0,\"ticks\":\"\"}}],\"contour\":[{\"type\":\"contour\",\"colorbar\":{\"outlinewidth\":0,\"ticks\":\"\"},\"colorscale\":[[0.0,\"#0d0887\"],[0.1111111111111111,\"#46039f\"],[0.2222222222222222,\"#7201a8\"],[0.3333333333333333,\"#9c179e\"],[0.4444444444444444,\"#bd3786\"],[0.5555555555555556,\"#d8576b\"],[0.6666666666666666,\"#ed7953\"],[0.7777777777777778,\"#fb9f3a\"],[0.8888888888888888,\"#fdca26\"],[1.0,\"#f0f921\"]]}],\"surface\":[{\"type\":\"surface\",\"colorbar\":{\"outlinewidth\":0,\"ticks\":\"\"},\"colorscale\":[[0.0,\"#0d0887\"],[0.1111111111111111,\"#46039f\"],[0.2222222222222222,\"#7201a8\"],[0.3333333333333333,\"#9c179e\"],[0.4444444444444444,\"#bd3786\"],[0.5555555555555556,\"#d8576b\"],[0.6666666666666666,\"#ed7953\"],[0.7777777777777778,\"#fb9f3a\"],[0.8888888888888888,\"#fdca26\"],[1.0,\"#f0f921\"]]}],\"mesh3d\":[{\"type\":\"mesh3d\",\"colorbar\":{\"outlinewidth\":0,\"ticks\":\"\"}}],\"scatter\":[{\"fillpattern\":{\"fillmode\":\"overlay\",\"size\":10,\"solidity\":0.2},\"type\":\"scatter\"}],\"parcoords\":[{\"type\":\"parcoords\",\"line\":{\"colorbar\":{\"outlinewidth\":0,\"ticks\":\"\"}}}],\"scatterpolargl\":[{\"type\":\"scatterpolargl\",\"marker\":{\"colorbar\":{\"outlinewidth\":0,\"ticks\":\"\"}}}],\"bar\":[{\"error_x\":{\"color\":\"#2a3f5f\"},\"error_y\":{\"color\":\"#2a3f5f\"},\"marker\":{\"line\":{\"color\":\"#E5ECF6\",\"width\":0.5},\"pattern\":{\"fillmode\":\"overlay\",\"size\":10,\"solidity\":0.2}},\"type\":\"bar\"}],\"scattergeo\":[{\"type\":\"scattergeo\",\"marker\":{\"colorbar\":{\"outlinewidth\":0,\"ticks\":\"\"}}}],\"scatterpolar\":[{\"type\":\"scatterpolar\",\"marker\":{\"colorbar\":{\"outlinewidth\":0,\"ticks\":\"\"}}}],\"histogram\":[{\"marker\":{\"pattern\":{\"fillmode\":\"overlay\",\"size\":10,\"solidity\":0.2}},\"type\":\"histogram\"}],\"scattergl\":[{\"type\":\"scattergl\",\"marker\":{\"colorbar\":{\"outlinewidth\":0,\"ticks\":\"\"}}}],\"scatter3d\":[{\"type\":\"scatter3d\",\"line\":{\"colorbar\":{\"outlinewidth\":0,\"ticks\":\"\"}},\"marker\":{\"colorbar\":{\"outlinewidth\":0,\"ticks\":\"\"}}}],\"scattermapbox\":[{\"type\":\"scattermapbox\",\"marker\":{\"colorbar\":{\"outlinewidth\":0,\"ticks\":\"\"}}}],\"scatterternary\":[{\"type\":\"scatterternary\",\"marker\":{\"colorbar\":{\"outlinewidth\":0,\"ticks\":\"\"}}}],\"scattercarpet\":[{\"type\":\"scattercarpet\",\"marker\":{\"colorbar\":{\"outlinewidth\":0,\"ticks\":\"\"}}}],\"carpet\":[{\"aaxis\":{\"endlinecolor\":\"#2a3f5f\",\"gridcolor\":\"white\",\"linecolor\":\"white\",\"minorgridcolor\":\"white\",\"startlinecolor\":\"#2a3f5f\"},\"baxis\":{\"endlinecolor\":\"#2a3f5f\",\"gridcolor\":\"white\",\"linecolor\":\"white\",\"minorgridcolor\":\"white\",\"startlinecolor\":\"#2a3f5f\"},\"type\":\"carpet\"}],\"table\":[{\"cells\":{\"fill\":{\"color\":\"#EBF0F8\"},\"line\":{\"color\":\"white\"}},\"header\":{\"fill\":{\"color\":\"#C8D4E3\"},\"line\":{\"color\":\"white\"}},\"type\":\"table\"}],\"barpolar\":[{\"marker\":{\"line\":{\"color\":\"#E5ECF6\",\"width\":0.5},\"pattern\":{\"fillmode\":\"overlay\",\"size\":10,\"solidity\":0.2}},\"type\":\"barpolar\"}],\"pie\":[{\"automargin\":true,\"type\":\"pie\"}]},\"layout\":{\"autotypenumbers\":\"strict\",\"colorway\":[\"#636efa\",\"#EF553B\",\"#00cc96\",\"#ab63fa\",\"#FFA15A\",\"#19d3f3\",\"#FF6692\",\"#B6E880\",\"#FF97FF\",\"#FECB52\"],\"font\":{\"color\":\"#2a3f5f\"},\"hovermode\":\"closest\",\"hoverlabel\":{\"align\":\"left\"},\"paper_bgcolor\":\"white\",\"plot_bgcolor\":\"#E5ECF6\",\"polar\":{\"bgcolor\":\"#E5ECF6\",\"angularaxis\":{\"gridcolor\":\"white\",\"linecolor\":\"white\",\"ticks\":\"\"},\"radialaxis\":{\"gridcolor\":\"white\",\"linecolor\":\"white\",\"ticks\":\"\"}},\"ternary\":{\"bgcolor\":\"#E5ECF6\",\"aaxis\":{\"gridcolor\":\"white\",\"linecolor\":\"white\",\"ticks\":\"\"},\"baxis\":{\"gridcolor\":\"white\",\"linecolor\":\"white\",\"ticks\":\"\"},\"caxis\":{\"gridcolor\":\"white\",\"linecolor\":\"white\",\"ticks\":\"\"}},\"coloraxis\":{\"colorbar\":{\"outlinewidth\":0,\"ticks\":\"\"}},\"colorscale\":{\"sequential\":[[0.0,\"#0d0887\"],[0.1111111111111111,\"#46039f\"],[0.2222222222222222,\"#7201a8\"],[0.3333333333333333,\"#9c179e\"],[0.4444444444444444,\"#bd3786\"],[0.5555555555555556,\"#d8576b\"],[0.6666666666666666,\"#ed7953\"],[0.7777777777777778,\"#fb9f3a\"],[0.8888888888888888,\"#fdca26\"],[1.0,\"#f0f921\"]],\"sequentialminus\":[[0.0,\"#0d0887\"],[0.1111111111111111,\"#46039f\"],[0.2222222222222222,\"#7201a8\"],[0.3333333333333333,\"#9c179e\"],[0.4444444444444444,\"#bd3786\"],[0.5555555555555556,\"#d8576b\"],[0.6666666666666666,\"#ed7953\"],[0.7777777777777778,\"#fb9f3a\"],[0.8888888888888888,\"#fdca26\"],[1.0,\"#f0f921\"]],\"diverging\":[[0,\"#8e0152\"],[0.1,\"#c51b7d\"],[0.2,\"#de77ae\"],[0.3,\"#f1b6da\"],[0.4,\"#fde0ef\"],[0.5,\"#f7f7f7\"],[0.6,\"#e6f5d0\"],[0.7,\"#b8e186\"],[0.8,\"#7fbc41\"],[0.9,\"#4d9221\"],[1,\"#276419\"]]},\"xaxis\":{\"gridcolor\":\"white\",\"linecolor\":\"white\",\"ticks\":\"\",\"title\":{\"standoff\":15},\"zerolinecolor\":\"white\",\"automargin\":true,\"zerolinewidth\":2},\"yaxis\":{\"gridcolor\":\"white\",\"linecolor\":\"white\",\"ticks\":\"\",\"title\":{\"standoff\":15},\"zerolinecolor\":\"white\",\"automargin\":true,\"zerolinewidth\":2},\"scene\":{\"xaxis\":{\"backgroundcolor\":\"#E5ECF6\",\"gridcolor\":\"white\",\"linecolor\":\"white\",\"showbackground\":true,\"ticks\":\"\",\"zerolinecolor\":\"white\",\"gridwidth\":2},\"yaxis\":{\"backgroundcolor\":\"#E5ECF6\",\"gridcolor\":\"white\",\"linecolor\":\"white\",\"showbackground\":true,\"ticks\":\"\",\"zerolinecolor\":\"white\",\"gridwidth\":2},\"zaxis\":{\"backgroundcolor\":\"#E5ECF6\",\"gridcolor\":\"white\",\"linecolor\":\"white\",\"showbackground\":true,\"ticks\":\"\",\"zerolinecolor\":\"white\",\"gridwidth\":2}},\"shapedefaults\":{\"line\":{\"color\":\"#2a3f5f\"}},\"annotationdefaults\":{\"arrowcolor\":\"#2a3f5f\",\"arrowhead\":0,\"arrowwidth\":1},\"geo\":{\"bgcolor\":\"white\",\"landcolor\":\"#E5ECF6\",\"subunitcolor\":\"white\",\"showland\":true,\"showlakes\":true,\"lakecolor\":\"white\"},\"title\":{\"x\":0.05},\"mapbox\":{\"style\":\"light\"}}},\"xaxis\":{\"title\":{\"text\":\"Age\"},\"showgrid\":true,\"gridwidth\":1,\"gridcolor\":\"skyblue\"},\"yaxis\":{\"title\":{\"text\":\"\"},\"showgrid\":true,\"gridwidth\":1,\"gridcolor\":\"skyblue\"},\"title\":{\"text\":\"Box Plot of Age\"},\"showlegend\":true,\"plot_bgcolor\":\"rgba(0,0,0,0)\",\"height\":400},                        {\"responsive\": true}                    ).then(function(){\n",
              "                            \n",
              "var gd = document.getElementById('cfef7284-a04e-4096-b3d0-a3fa4bd940ff');\n",
              "var x = new MutationObserver(function (mutations, observer) {{\n",
              "        var display = window.getComputedStyle(gd).display;\n",
              "        if (!display || display === 'none') {{\n",
              "            console.log([gd, 'removed!']);\n",
              "            Plotly.purge(gd);\n",
              "            observer.disconnect();\n",
              "        }}\n",
              "}});\n",
              "\n",
              "// Listen for the removal of the full notebook cells\n",
              "var notebookContainer = gd.closest('#notebook-container');\n",
              "if (notebookContainer) {{\n",
              "    x.observe(notebookContainer, {childList: true});\n",
              "}}\n",
              "\n",
              "// Listen for the clearing of the current output cell\n",
              "var outputEl = gd.closest('.output');\n",
              "if (outputEl) {{\n",
              "    x.observe(outputEl, {childList: true});\n",
              "}}\n",
              "\n",
              "                        })                };                            </script>        </div>\n",
              "</body>\n",
              "</html>"
            ]
          },
          "metadata": {}
        }
      ],
      "source": [
        "# Box Plot of Age\n",
        "fig_box = go.Figure()\n",
        "fig_box.add_trace(go.Box(y=df['age'], boxpoints='outliers', marker_color='blue', name='Age Distribution'))\n",
        "\n",
        "# Add quartile annotations\n",
        "quartiles = np.percentile(df['age'], [25, 50, 75])\n",
        "quartile_text = [f\"Q{i}: {quartile:.2f}\" for i, quartile in enumerate(quartiles, start=1)]\n",
        "fig_box.add_trace(go.Scatter(x=[None], y=[None], mode='markers', marker=dict(color='white', size=0), name=', '.join(quartile_text)))\n",
        "fig_box.update_layout(\n",
        "    title='Box Plot of Age',\n",
        "    xaxis_title='Age',\n",
        "    yaxis_title='',\n",
        "    showlegend=True,\n",
        "    plot_bgcolor='rgba(0,0,0,0)',  # Remove background color\n",
        "     xaxis=dict(showgrid=True, gridwidth=1, gridcolor='skyblue'),  # Add x-axis gridlines\n",
        "    yaxis=dict(showgrid=True, gridwidth=1, gridcolor='skyblue'),  # Add y-axis gridlines\n",
        "    height=400,  # Adjust plot height\n",
        ")\n",
        "fig_box.show()"
      ]
    },
    {
      "cell_type": "markdown",
      "id": "e4a1c7f5-2ff6-4fa1-92c4-76e62b87f46f",
      "metadata": {
        "id": "e4a1c7f5-2ff6-4fa1-92c4-76e62b87f46f"
      },
      "source": [
        "> # **3. ISOLATION FOREST SECTION</h5>**"
      ]
    },
    {
      "cell_type": "code",
      "execution_count": 57,
      "id": "ff4c69b3-15eb-41af-8ad4-2a2adafdd2ea",
      "metadata": {
        "colab": {
          "base_uri": "https://localhost:8080/"
        },
        "id": "ff4c69b3-15eb-41af-8ad4-2a2adafdd2ea",
        "outputId": "a0ad5610-625c-42ac-cfd1-9d6df5a60f07"
      },
      "outputs": [
        {
          "output_type": "stream",
          "name": "stderr",
          "text": [
            "/usr/local/lib/python3.10/dist-packages/sklearn/base.py:439: UserWarning:\n",
            "\n",
            "X does not have valid feature names, but IsolationForest was fitted with feature names\n",
            "\n"
          ]
        },
        {
          "output_type": "stream",
          "name": "stdout",
          "text": [
            "    firstname    age     resident  anomaly\n",
            "997     Ayaan  150.0  Pemba North       -1\n",
            "998     Salif    0.0       Iringa       -1\n",
            "999     Adama   90.0       Kagera       -1\n"
          ]
        }
      ],
      "source": [
        "# Fit the Isolation Forest model\n",
        "iso_forest = IsolationForest(contamination=0.01, random_state=42)\n",
        "iso_forest.fit(df[['age']])\n",
        "df['anomaly'] = iso_forest.predict(df[['age']])\n",
        "\n",
        "# Identify outliers\n",
        "iso_outliers = df[df['anomaly'] == -1]\n",
        "\n",
        "print(iso_outliers)"
      ]
    },
    {
      "cell_type": "markdown",
      "id": "0c80940f-d190-41ac-9488-22e524360001",
      "metadata": {
        "id": "0c80940f-d190-41ac-9488-22e524360001"
      },
      "source": [
        "> # **Scatter Plot for Isolation Forest**"
      ]
    },
    {
      "cell_type": "code",
      "execution_count": 58,
      "id": "653d39b9-7f2e-4a99-a3b6-da89e67d798c",
      "metadata": {
        "colab": {
          "base_uri": "https://localhost:8080/",
          "height": 542
        },
        "id": "653d39b9-7f2e-4a99-a3b6-da89e67d798c",
        "outputId": "6e69ab51-73f8-4fb1-937e-ea13c7677d20"
      },
      "outputs": [
        {
          "output_type": "display_data",
          "data": {
            "text/html": [
              "<html>\n",
              "<head><meta charset=\"utf-8\" /></head>\n",
              "<body>\n",
              "    <div>            <script src=\"https://cdnjs.cloudflare.com/ajax/libs/mathjax/2.7.5/MathJax.js?config=TeX-AMS-MML_SVG\"></script><script type=\"text/javascript\">if (window.MathJax && window.MathJax.Hub && window.MathJax.Hub.Config) {window.MathJax.Hub.Config({SVG: {font: \"STIX-Web\"}});}</script>                <script type=\"text/javascript\">window.PlotlyConfig = {MathJaxConfig: 'local'};</script>\n",
              "        <script charset=\"utf-8\" src=\"https://cdn.plot.ly/plotly-2.24.1.min.js\"></script>                <div id=\"1139e3a1-bd41-43e6-a22f-81d14b964571\" class=\"plotly-graph-div\" style=\"height:525px; width:100%;\"></div>            <script type=\"text/javascript\">                                    window.PLOTLYENV=window.PLOTLYENV || {};                                    if (document.getElementById(\"1139e3a1-bd41-43e6-a22f-81d14b964571\")) {                    Plotly.newPlot(                        \"1139e3a1-bd41-43e6-a22f-81d14b964571\",                        [{\"hovertemplate\":\"index=%{x}\\u003cbr\\u003eage=%{y}\\u003cbr\\u003eanomaly=%{marker.color}\\u003cextra\\u003e\\u003c\\u002fextra\\u003e\",\"legendgroup\":\"\",\"marker\":{\"color\":[1,1,1,1,1,1,1,1,1,1,1,1,1,1,1,1,1,1,1,1,1,1,1,1,1,1,1,1,1,1,1,1,1,1,1,1,1,1,1,1,1,1,1,1,1,1,1,1,1,1,1,1,1,1,1,1,1,1,1,1,1,1,1,1,1,1,1,1,1,1,1,1,1,1,1,1,1,1,1,1,1,1,1,1,1,1,1,1,1,1,1,1,1,1,1,1,1,1,1,1,1,1,1,1,1,1,1,1,1,1,1,1,1,1,1,1,1,1,1,1,1,1,1,1,1,1,1,1,1,1,1,1,1,1,1,1,1,1,1,1,1,1,1,1,1,1,1,1,1,1,1,1,1,1,1,1,1,1,1,1,1,1,1,1,1,1,1,1,1,1,1,1,1,1,1,1,1,1,1,1,1,1,1,1,1,1,1,1,1,1,1,1,1,1,1,1,1,1,1,1,1,1,1,1,1,1,1,1,1,1,1,1,1,1,1,1,1,1,1,1,1,1,1,1,1,1,1,1,1,1,1,1,1,1,1,1,1,1,1,1,1,1,1,1,1,1,1,1,1,1,1,1,1,1,1,1,1,1,1,1,1,1,1,1,1,1,1,1,1,1,1,1,1,1,1,1,1,1,1,1,1,1,1,1,1,1,1,1,1,1,1,1,1,1,1,1,1,1,1,1,1,1,1,1,1,1,1,1,1,1,1,1,1,1,1,1,1,1,1,1,1,1,1,1,1,1,1,1,1,1,1,1,1,1,1,1,1,1,1,1,1,1,1,1,1,1,1,1,1,1,1,1,1,1,1,1,1,1,1,1,1,1,1,1,1,1,1,1,1,1,1,1,1,1,1,1,1,1,1,1,1,1,1,1,1,1,1,1,1,1,1,1,1,1,1,1,1,1,1,1,1,1,1,1,1,1,1,1,1,1,1,1,1,1,1,1,1,1,1,1,1,1,1,1,1,1,1,1,1,1,1,1,1,1,1,1,1,1,1,1,1,1,1,1,1,1,1,1,1,1,1,1,1,1,1,1,1,1,1,1,1,1,1,1,1,1,1,1,1,1,1,1,1,1,1,1,1,1,1,1,1,1,1,1,1,1,1,1,1,1,1,1,1,1,1,1,1,1,1,1,1,1,1,1,1,1,1,1,1,1,1,1,1,1,1,1,1,1,1,1,1,1,1,1,1,1,1,1,1,1,1,1,1,1,1,1,1,1,1,1,1,1,1,1,1,1,1,1,1,1,1,1,1,1,1,1,1,1,1,1,1,1,1,1,1,1,1,1,1,1,1,1,1,1,1,1,1,1,1,1,1,1,1,1,1,1,1,1,1,1,1,1,1,1,1,1,1,1,1,1,1,1,1,1,1,1,1,1,1,1,1,1,1,1,1,1,1,1,1,1,1,1,1,1,1,1,1,1,1,1,1,1,1,1,1,1,1,1,1,1,1,1,1,1,1,1,1,1,1,1,1,1,1,1,1,1,1,1,1,1,1,1,1,1,1,1,1,1,1,1,1,1,1,1,1,1,1,1,1,1,1,1,1,1,1,1,1,1,1,1,1,1,1,1,1,1,1,1,1,1,1,1,1,1,1,1,1,1,1,1,1,1,1,1,1,1,1,1,1,1,1,1,1,1,1,1,1,1,1,1,1,1,1,1,1,1,1,1,1,1,1,1,1,1,1,1,1,1,1,1,1,1,1,1,1,1,1,1,1,1,1,1,1,1,1,1,1,1,1,1,1,1,1,1,1,1,1,1,1,1,1,1,1,1,1,1,1,1,1,1,1,1,1,1,1,1,1,1,1,1,1,1,1,1,1,1,1,1,1,1,1,1,1,1,1,1,1,1,1,1,1,1,1,1,1,1,1,1,1,1,1,1,1,1,1,1,1,1,1,1,1,1,1,1,1,1,1,1,1,1,1,1,1,1,1,1,1,1,1,1,1,1,1,1,1,1,1,1,1,1,1,1,1,1,1,1,1,1,1,1,1,1,1,1,1,1,1,1,1,1,1,1,1,1,1,1,1,1,1,1,1,1,1,1,1,1,1,1,1,1,1,1,1,1,1,1,1,1,1,1,1,1,1,1,1,1,1,1,1,1,1,1,1,1,1,1,1,1,1,1,1,1,1,1,1,1,1,1,1,1,1,1,1,1,1,1,1,1,1,1,1,1,1,1,1,1,1,1,1,1,1,1,1,1,1,1,1,1,1,1,1,1,1,1,1,1,1,1,1,1,1,1,1,1,1,1,1,-1,-1,-1],\"coloraxis\":\"coloraxis\",\"symbol\":\"circle\"},\"mode\":\"markers\",\"name\":\"\",\"orientation\":\"v\",\"showlegend\":false,\"x\":[0,1,2,3,4,5,6,7,8,9,10,11,12,13,14,15,16,17,18,19,20,21,22,23,24,25,26,27,28,29,30,31,32,33,34,35,36,37,38,39,40,41,42,43,44,45,46,47,48,49,50,51,52,53,54,55,56,57,58,59,60,61,62,63,64,65,66,67,68,69,70,71,72,73,74,75,76,77,78,79,80,81,82,83,84,85,86,87,88,89,90,91,92,93,94,95,96,97,98,99,100,101,102,103,104,105,106,107,108,109,110,111,112,113,114,115,116,117,118,119,120,121,122,123,124,125,126,127,128,129,130,131,132,133,134,135,136,137,138,139,140,141,142,143,144,145,146,147,148,149,150,151,152,153,154,155,156,157,158,159,160,161,162,163,164,165,166,167,168,169,170,171,172,173,174,175,176,177,178,179,180,181,182,183,184,185,186,187,188,189,190,191,192,193,194,195,196,197,198,199,200,201,202,203,204,205,206,207,208,209,210,211,212,213,214,215,216,217,218,219,220,221,222,223,224,225,226,227,228,229,230,231,232,233,234,235,236,237,238,239,240,241,242,243,244,245,246,247,248,249,250,251,252,253,254,255,256,257,258,259,260,261,262,263,264,265,266,267,268,269,270,271,272,273,274,275,276,277,278,279,280,281,282,283,284,285,286,287,288,289,290,291,292,293,294,295,296,297,298,299,300,301,302,303,304,305,306,307,308,309,310,311,312,313,314,315,316,317,318,319,320,321,322,323,324,325,326,327,328,329,330,331,332,333,334,335,336,337,338,339,340,341,342,343,344,345,346,347,348,349,350,351,352,353,354,355,356,357,358,359,360,361,362,363,364,365,366,367,368,369,370,371,372,373,374,375,376,377,378,379,380,381,382,383,384,385,386,387,388,389,390,391,392,393,394,395,396,397,398,399,400,401,402,403,404,405,406,407,408,409,410,411,412,413,414,415,416,417,418,419,420,421,422,423,424,425,426,427,428,429,430,431,432,433,434,435,436,437,438,439,440,441,442,443,444,445,446,447,448,449,450,451,452,453,454,455,456,457,458,459,460,461,462,463,464,465,466,467,468,469,470,471,472,473,474,475,476,477,478,479,480,481,482,483,484,485,486,487,488,489,490,491,492,493,494,495,496,497,498,499,500,501,502,503,504,505,506,507,508,509,510,511,512,513,514,515,516,517,518,519,520,521,522,523,524,525,526,527,528,529,530,531,532,533,534,535,536,537,538,539,540,541,542,543,544,545,546,547,548,549,550,551,552,553,554,555,556,557,558,559,560,561,562,563,564,565,566,567,568,569,570,571,572,573,574,575,576,577,578,579,580,581,582,583,584,585,586,587,588,589,590,591,592,593,594,595,596,597,598,599,600,601,602,603,604,605,606,607,608,609,610,611,612,613,614,615,616,617,618,619,620,621,622,623,624,625,626,627,628,629,630,631,632,633,634,635,636,637,638,639,640,641,642,643,644,645,646,647,648,649,650,651,652,653,654,655,656,657,658,659,660,661,662,663,664,665,666,667,668,669,670,671,672,673,674,675,676,677,678,679,680,681,682,683,684,685,686,687,688,689,690,691,692,693,694,695,696,697,698,699,700,701,702,703,704,705,706,707,708,709,710,711,712,713,714,715,716,717,718,719,720,721,722,723,724,725,726,727,728,729,730,731,732,733,734,735,736,737,738,739,740,741,742,743,744,745,746,747,748,749,750,751,752,753,754,755,756,757,758,759,760,761,762,763,764,765,766,767,768,769,770,771,772,773,774,775,776,777,778,779,780,781,782,783,784,785,786,787,788,789,790,791,792,793,794,795,796,797,798,799,800,801,802,803,804,805,806,807,808,809,810,811,812,813,814,815,816,817,818,819,820,821,822,823,824,825,826,827,828,829,830,831,832,833,834,835,836,837,838,839,840,841,842,843,844,845,846,847,848,849,850,851,852,853,854,855,856,857,858,859,860,861,862,863,864,865,866,867,868,869,870,871,872,873,874,875,876,877,878,879,880,881,882,883,884,885,886,887,888,889,890,891,892,893,894,895,896,897,898,899,900,901,902,903,904,905,906,907,908,909,910,911,912,913,914,915,916,917,918,919,920,921,922,923,924,925,926,927,928,929,930,931,932,933,934,935,936,937,938,939,940,941,942,943,944,945,946,947,948,949,950,951,952,953,954,955,956,957,958,959,960,961,962,963,964,965,966,967,968,969,970,971,972,973,974,975,976,977,978,979,980,981,982,983,984,985,986,987,988,989,990,991,992,993,994,995,996,997,998,999],\"xaxis\":\"x\",\"y\":[36.0,41.890396659707726,21.0,57.0,54.0,41.890396659707726,24.0,35.0,38.0,33.0,61.0,30.0,51.0,41.890396659707726,24.0,18.0,35.0,54.0,41.890396659707726,45.0,35.0,57.0,55.0,41.890396659707726,22.0,38.0,33.0,39.0,22.0,45.0,25.0,41.890396659707726,28.0,63.0,18.0,20.0,26.0,48.0,57.0,41.890396659707726,39.0,43.0,19.0,28.0,41.0,19.0,41.890396659707726,40.0,50.0,47.0,31.0,25.0,35.0,61.0,34.0,18.0,50.0,40.0,41.890396659707726,37.0,32.0,47.0,26.0,64.0,29.0,48.0,44.0,19.0,33.0,64.0,39.0,63.0,41.890396659707726,62.0,41.0,61.0,54.0,65.0,47.0,41.890396659707726,36.0,30.0,33.0,54.0,24.0,50.0,22.0,63.0,42.0,29.0,25.0,36.0,46.0,34.0,35.0,55.0,51.0,32.0,46.0,35.0,63.0,47.0,54.0,60.0,41.0,29.0,25.0,28.0,44.0,55.0,41.0,43.0,38.0,55.0,32.0,62.0,20.0,64.0,47.0,53.0,61.0,34.0,54.0,26.0,47.0,34.0,44.0,48.0,35.0,61.0,24.0,39.0,33.0,20.0,29.0,42.0,35.0,33.0,42.0,27.0,30.0,38.0,61.0,23.0,33.0,39.0,22.0,38.0,63.0,65.0,44.0,61.0,41.890396659707726,33.0,48.0,26.0,58.0,40.0,58.0,19.0,29.0,42.0,65.0,28.0,30.0,25.0,22.0,43.0,37.0,31.0,29.0,44.0,39.0,30.0,31.0,23.0,54.0,48.0,62.0,52.0,18.0,41.0,47.0,41.890396659707726,30.0,30.0,20.0,35.0,57.0,27.0,52.0,30.0,27.0,58.0,49.0,41.0,21.0,54.0,37.0,25.0,36.0,24.0,63.0,22.0,25.0,35.0,45.0,64.0,54.0,41.0,37.0,55.0,24.0,25.0,27.0,52.0,19.0,35.0,36.0,49.0,34.0,56.0,65.0,22.0,61.0,50.0,28.0,50.0,49.0,20.0,41.890396659707726,20.0,35.0,41.0,65.0,36.0,59.0,51.0,54.0,52.0,38.0,40.0,61.0,47.0,26.0,56.0,48.0,24.0,57.0,57.0,27.0,48.0,57.0,45.0,64.0,38.0,27.0,55.0,50.0,23.0,42.0,42.0,47.0,25.0,51.0,41.890396659707726,55.0,61.0,51.0,32.0,58.0,27.0,48.0,53.0,44.0,57.0,41.890396659707726,58.0,41.890396659707726,28.0,50.0,39.0,36.0,63.0,49.0,19.0,47.0,29.0,30.0,23.0,64.0,21.0,49.0,63.0,58.0,62.0,51.0,56.0,58.0,52.0,64.0,41.890396659707726,23.0,40.0,27.0,32.0,30.0,20.0,26.0,35.0,39.0,41.890396659707726,48.0,35.0,51.0,34.0,40.0,19.0,32.0,31.0,41.890396659707726,49.0,42.0,24.0,63.0,33.0,59.0,52.0,64.0,28.0,19.0,38.0,48.0,52.0,51.0,31.0,57.0,57.0,60.0,37.0,56.0,58.0,30.0,61.0,38.0,62.0,57.0,44.0,53.0,63.0,32.0,33.0,45.0,48.0,41.0,60.0,58.0,42.0,43.0,36.0,61.0,36.0,41.890396659707726,64.0,52.0,49.0,52.0,58.0,52.0,41.890396659707726,58.0,64.0,54.0,45.0,39.0,26.0,18.0,59.0,25.0,41.890396659707726,61.0,26.0,43.0,24.0,63.0,37.0,35.0,44.0,59.0,33.0,60.0,33.0,47.0,30.0,44.0,53.0,23.0,64.0,54.0,48.0,63.0,30.0,21.0,19.0,27.0,57.0,35.0,20.0,65.0,60.0,21.0,47.0,56.0,28.0,39.0,25.0,51.0,35.0,53.0,24.0,57.0,25.0,44.0,41.0,36.0,37.0,34.0,37.0,45.0,38.0,60.0,51.0,45.0,36.0,37.0,51.0,28.0,38.0,38.0,49.0,18.0,51.0,61.0,54.0,25.0,51.0,22.0,30.0,33.0,56.0,42.0,39.0,34.0,57.0,46.0,18.0,51.0,45.0,46.0,20.0,47.0,26.0,26.0,47.0,45.0,24.0,53.0,55.0,35.0,23.0,48.0,39.0,47.0,41.890396659707726,43.0,56.0,26.0,40.0,34.0,41.890396659707726,43.0,44.0,52.0,23.0,24.0,37.0,47.0,41.890396659707726,40.0,18.0,50.0,41.890396659707726,25.0,47.0,42.0,41.0,25.0,50.0,21.0,25.0,27.0,23.0,40.0,25.0,25.0,34.0,52.0,22.0,26.0,63.0,39.0,36.0,39.0,56.0,50.0,33.0,60.0,63.0,60.0,58.0,40.0,47.0,52.0,51.0,19.0,54.0,49.0,59.0,47.0,34.0,21.0,29.0,51.0,49.0,59.0,54.0,32.0,18.0,43.0,45.0,37.0,45.0,49.0,37.0,45.0,32.0,18.0,35.0,28.0,26.0,58.0,43.0,23.0,41.0,32.0,33.0,25.0,49.0,58.0,56.0,29.0,41.0,46.0,50.0,46.0,35.0,62.0,46.0,44.0,47.0,36.0,56.0,23.0,18.0,48.0,31.0,23.0,36.0,58.0,29.0,60.0,42.0,60.0,42.0,39.0,54.0,33.0,30.0,24.0,58.0,46.0,64.0,33.0,64.0,65.0,34.0,31.0,22.0,47.0,58.0,18.0,43.0,23.0,29.0,59.0,65.0,42.0,28.0,52.0,64.0,48.0,55.0,31.0,34.0,53.0,37.0,64.0,64.0,49.0,29.0,61.0,50.0,55.0,24.0,40.0,48.0,61.0,56.0,25.0,61.0,44.0,18.0,29.0,45.0,19.0,36.0,63.0,56.0,49.0,28.0,57.0,58.0,31.0,33.0,21.0,54.0,36.0,44.0,25.0,56.0,58.0,31.0,19.0,25.0,60.0,60.0,57.0,22.0,52.0,27.0,29.0,19.0,27.0,37.0,40.0,52.0,61.0,53.0,57.0,41.0,42.0,50.0,29.0,55.0,43.0,55.0,48.0,29.0,46.0,45.0,34.0,26.0,41.890396659707726,34.0,18.0,41.890396659707726,41.890396659707726,29.0,63.0,59.0,26.0,60.0,41.890396659707726,56.0,28.0,46.0,44.0,41.890396659707726,41.890396659707726,20.0,19.0,52.0,38.0,54.0,26.0,41.890396659707726,48.0,36.0,46.0,18.0,57.0,33.0,50.0,62.0,23.0,40.0,64.0,24.0,49.0,51.0,39.0,35.0,53.0,59.0,46.0,47.0,32.0,45.0,29.0,65.0,50.0,28.0,58.0,20.0,63.0,43.0,40.0,57.0,39.0,49.0,57.0,39.0,31.0,47.0,33.0,39.0,64.0,34.0,23.0,24.0,62.0,61.0,47.0,19.0,48.0,35.0,23.0,65.0,52.0,23.0,35.0,39.0,49.0,64.0,33.0,51.0,30.0,52.0,20.0,48.0,58.0,63.0,47.0,44.0,30.0,65.0,56.0,63.0,29.0,41.0,48.0,46.0,43.0,52.0,33.0,35.0,39.0,25.0,22.0,29.0,48.0,20.0,46.0,64.0,52.0,62.0,43.0,25.0,63.0,61.0,65.0,58.0,43.0,52.0,37.0,50.0,54.0,54.0,41.0,31.0,62.0,19.0,40.0,49.0,61.0,36.0,38.0,44.0,57.0,62.0,34.0,29.0,62.0,55.0,33.0,65.0,58.0,59.0,30.0,19.0,53.0,57.0,61.0,45.0,46.0,28.0,25.0,28.0,60.0,56.0,61.0,33.0,34.0,41.0,33.0,21.0,51.0,44.0,49.0,60.0,34.0,46.0,29.0,48.0,45.0,45.0,23.0,35.0,20.0,34.0,51.0,29.0,47.0,45.0,60.0,25.0,36.0,49.0,19.0,60.0,39.0,63.0,23.0,26.0,65.0,51.0,57.0,28.0,23.0,51.0,27.0,22.0,18.0,30.0,43.0,36.0,34.0,19.0,34.0,39.0,33.0,18.0,47.0,24.0,59.0,43.0,54.0,41.0,58.0,29.0,45.0,34.0,65.0,51.0,47.0,20.0,44.0,33.0,42.0,33.0,28.0,59.0,43.0,51.0,59.0,43.0,27.0,19.0,41.0,57.0,27.0,39.0,64.0,49.0,55.0,60.0,62.0,41.0,59.0,41.890396659707726,30.0,43.0,61.0,54.0,51.0,45.0,58.0,41.890396659707726,45.0,46.0,59.0,62.0,29.0,42.0,53.0,42.0,20.0,36.0,45.0,18.0,65.0,44.0,47.0,31.0,26.0,53.0,60.0,33.0,21.0,33.0,35.0,29.0,47.0,20.0,39.0,24.0,42.0,25.0,35.0,29.0,35.0,41.890396659707726,39.0,41.890396659707726,61.0,49.0,47.0,41.890396659707726,28.0,33.0,20.0,46.0,54.0,29.0,36.0,39.0,46.0,19.0,27.0,55.0,41.890396659707726,53.0,32.0,29.0,41.890396659707726,41.890396659707726,45.0,150.0,0.0,90.0],\"yaxis\":\"y\",\"type\":\"scatter\"}],                        {\"template\":{\"data\":{\"histogram2dcontour\":[{\"type\":\"histogram2dcontour\",\"colorbar\":{\"outlinewidth\":0,\"ticks\":\"\"},\"colorscale\":[[0.0,\"#0d0887\"],[0.1111111111111111,\"#46039f\"],[0.2222222222222222,\"#7201a8\"],[0.3333333333333333,\"#9c179e\"],[0.4444444444444444,\"#bd3786\"],[0.5555555555555556,\"#d8576b\"],[0.6666666666666666,\"#ed7953\"],[0.7777777777777778,\"#fb9f3a\"],[0.8888888888888888,\"#fdca26\"],[1.0,\"#f0f921\"]]}],\"choropleth\":[{\"type\":\"choropleth\",\"colorbar\":{\"outlinewidth\":0,\"ticks\":\"\"}}],\"histogram2d\":[{\"type\":\"histogram2d\",\"colorbar\":{\"outlinewidth\":0,\"ticks\":\"\"},\"colorscale\":[[0.0,\"#0d0887\"],[0.1111111111111111,\"#46039f\"],[0.2222222222222222,\"#7201a8\"],[0.3333333333333333,\"#9c179e\"],[0.4444444444444444,\"#bd3786\"],[0.5555555555555556,\"#d8576b\"],[0.6666666666666666,\"#ed7953\"],[0.7777777777777778,\"#fb9f3a\"],[0.8888888888888888,\"#fdca26\"],[1.0,\"#f0f921\"]]}],\"heatmap\":[{\"type\":\"heatmap\",\"colorbar\":{\"outlinewidth\":0,\"ticks\":\"\"},\"colorscale\":[[0.0,\"#0d0887\"],[0.1111111111111111,\"#46039f\"],[0.2222222222222222,\"#7201a8\"],[0.3333333333333333,\"#9c179e\"],[0.4444444444444444,\"#bd3786\"],[0.5555555555555556,\"#d8576b\"],[0.6666666666666666,\"#ed7953\"],[0.7777777777777778,\"#fb9f3a\"],[0.8888888888888888,\"#fdca26\"],[1.0,\"#f0f921\"]]}],\"heatmapgl\":[{\"type\":\"heatmapgl\",\"colorbar\":{\"outlinewidth\":0,\"ticks\":\"\"},\"colorscale\":[[0.0,\"#0d0887\"],[0.1111111111111111,\"#46039f\"],[0.2222222222222222,\"#7201a8\"],[0.3333333333333333,\"#9c179e\"],[0.4444444444444444,\"#bd3786\"],[0.5555555555555556,\"#d8576b\"],[0.6666666666666666,\"#ed7953\"],[0.7777777777777778,\"#fb9f3a\"],[0.8888888888888888,\"#fdca26\"],[1.0,\"#f0f921\"]]}],\"contourcarpet\":[{\"type\":\"contourcarpet\",\"colorbar\":{\"outlinewidth\":0,\"ticks\":\"\"}}],\"contour\":[{\"type\":\"contour\",\"colorbar\":{\"outlinewidth\":0,\"ticks\":\"\"},\"colorscale\":[[0.0,\"#0d0887\"],[0.1111111111111111,\"#46039f\"],[0.2222222222222222,\"#7201a8\"],[0.3333333333333333,\"#9c179e\"],[0.4444444444444444,\"#bd3786\"],[0.5555555555555556,\"#d8576b\"],[0.6666666666666666,\"#ed7953\"],[0.7777777777777778,\"#fb9f3a\"],[0.8888888888888888,\"#fdca26\"],[1.0,\"#f0f921\"]]}],\"surface\":[{\"type\":\"surface\",\"colorbar\":{\"outlinewidth\":0,\"ticks\":\"\"},\"colorscale\":[[0.0,\"#0d0887\"],[0.1111111111111111,\"#46039f\"],[0.2222222222222222,\"#7201a8\"],[0.3333333333333333,\"#9c179e\"],[0.4444444444444444,\"#bd3786\"],[0.5555555555555556,\"#d8576b\"],[0.6666666666666666,\"#ed7953\"],[0.7777777777777778,\"#fb9f3a\"],[0.8888888888888888,\"#fdca26\"],[1.0,\"#f0f921\"]]}],\"mesh3d\":[{\"type\":\"mesh3d\",\"colorbar\":{\"outlinewidth\":0,\"ticks\":\"\"}}],\"scatter\":[{\"fillpattern\":{\"fillmode\":\"overlay\",\"size\":10,\"solidity\":0.2},\"type\":\"scatter\"}],\"parcoords\":[{\"type\":\"parcoords\",\"line\":{\"colorbar\":{\"outlinewidth\":0,\"ticks\":\"\"}}}],\"scatterpolargl\":[{\"type\":\"scatterpolargl\",\"marker\":{\"colorbar\":{\"outlinewidth\":0,\"ticks\":\"\"}}}],\"bar\":[{\"error_x\":{\"color\":\"#2a3f5f\"},\"error_y\":{\"color\":\"#2a3f5f\"},\"marker\":{\"line\":{\"color\":\"#E5ECF6\",\"width\":0.5},\"pattern\":{\"fillmode\":\"overlay\",\"size\":10,\"solidity\":0.2}},\"type\":\"bar\"}],\"scattergeo\":[{\"type\":\"scattergeo\",\"marker\":{\"colorbar\":{\"outlinewidth\":0,\"ticks\":\"\"}}}],\"scatterpolar\":[{\"type\":\"scatterpolar\",\"marker\":{\"colorbar\":{\"outlinewidth\":0,\"ticks\":\"\"}}}],\"histogram\":[{\"marker\":{\"pattern\":{\"fillmode\":\"overlay\",\"size\":10,\"solidity\":0.2}},\"type\":\"histogram\"}],\"scattergl\":[{\"type\":\"scattergl\",\"marker\":{\"colorbar\":{\"outlinewidth\":0,\"ticks\":\"\"}}}],\"scatter3d\":[{\"type\":\"scatter3d\",\"line\":{\"colorbar\":{\"outlinewidth\":0,\"ticks\":\"\"}},\"marker\":{\"colorbar\":{\"outlinewidth\":0,\"ticks\":\"\"}}}],\"scattermapbox\":[{\"type\":\"scattermapbox\",\"marker\":{\"colorbar\":{\"outlinewidth\":0,\"ticks\":\"\"}}}],\"scatterternary\":[{\"type\":\"scatterternary\",\"marker\":{\"colorbar\":{\"outlinewidth\":0,\"ticks\":\"\"}}}],\"scattercarpet\":[{\"type\":\"scattercarpet\",\"marker\":{\"colorbar\":{\"outlinewidth\":0,\"ticks\":\"\"}}}],\"carpet\":[{\"aaxis\":{\"endlinecolor\":\"#2a3f5f\",\"gridcolor\":\"white\",\"linecolor\":\"white\",\"minorgridcolor\":\"white\",\"startlinecolor\":\"#2a3f5f\"},\"baxis\":{\"endlinecolor\":\"#2a3f5f\",\"gridcolor\":\"white\",\"linecolor\":\"white\",\"minorgridcolor\":\"white\",\"startlinecolor\":\"#2a3f5f\"},\"type\":\"carpet\"}],\"table\":[{\"cells\":{\"fill\":{\"color\":\"#EBF0F8\"},\"line\":{\"color\":\"white\"}},\"header\":{\"fill\":{\"color\":\"#C8D4E3\"},\"line\":{\"color\":\"white\"}},\"type\":\"table\"}],\"barpolar\":[{\"marker\":{\"line\":{\"color\":\"#E5ECF6\",\"width\":0.5},\"pattern\":{\"fillmode\":\"overlay\",\"size\":10,\"solidity\":0.2}},\"type\":\"barpolar\"}],\"pie\":[{\"automargin\":true,\"type\":\"pie\"}]},\"layout\":{\"autotypenumbers\":\"strict\",\"colorway\":[\"#636efa\",\"#EF553B\",\"#00cc96\",\"#ab63fa\",\"#FFA15A\",\"#19d3f3\",\"#FF6692\",\"#B6E880\",\"#FF97FF\",\"#FECB52\"],\"font\":{\"color\":\"#2a3f5f\"},\"hovermode\":\"closest\",\"hoverlabel\":{\"align\":\"left\"},\"paper_bgcolor\":\"white\",\"plot_bgcolor\":\"#E5ECF6\",\"polar\":{\"bgcolor\":\"#E5ECF6\",\"angularaxis\":{\"gridcolor\":\"white\",\"linecolor\":\"white\",\"ticks\":\"\"},\"radialaxis\":{\"gridcolor\":\"white\",\"linecolor\":\"white\",\"ticks\":\"\"}},\"ternary\":{\"bgcolor\":\"#E5ECF6\",\"aaxis\":{\"gridcolor\":\"white\",\"linecolor\":\"white\",\"ticks\":\"\"},\"baxis\":{\"gridcolor\":\"white\",\"linecolor\":\"white\",\"ticks\":\"\"},\"caxis\":{\"gridcolor\":\"white\",\"linecolor\":\"white\",\"ticks\":\"\"}},\"coloraxis\":{\"colorbar\":{\"outlinewidth\":0,\"ticks\":\"\"}},\"colorscale\":{\"sequential\":[[0.0,\"#0d0887\"],[0.1111111111111111,\"#46039f\"],[0.2222222222222222,\"#7201a8\"],[0.3333333333333333,\"#9c179e\"],[0.4444444444444444,\"#bd3786\"],[0.5555555555555556,\"#d8576b\"],[0.6666666666666666,\"#ed7953\"],[0.7777777777777778,\"#fb9f3a\"],[0.8888888888888888,\"#fdca26\"],[1.0,\"#f0f921\"]],\"sequentialminus\":[[0.0,\"#0d0887\"],[0.1111111111111111,\"#46039f\"],[0.2222222222222222,\"#7201a8\"],[0.3333333333333333,\"#9c179e\"],[0.4444444444444444,\"#bd3786\"],[0.5555555555555556,\"#d8576b\"],[0.6666666666666666,\"#ed7953\"],[0.7777777777777778,\"#fb9f3a\"],[0.8888888888888888,\"#fdca26\"],[1.0,\"#f0f921\"]],\"diverging\":[[0,\"#8e0152\"],[0.1,\"#c51b7d\"],[0.2,\"#de77ae\"],[0.3,\"#f1b6da\"],[0.4,\"#fde0ef\"],[0.5,\"#f7f7f7\"],[0.6,\"#e6f5d0\"],[0.7,\"#b8e186\"],[0.8,\"#7fbc41\"],[0.9,\"#4d9221\"],[1,\"#276419\"]]},\"xaxis\":{\"gridcolor\":\"white\",\"linecolor\":\"white\",\"ticks\":\"\",\"title\":{\"standoff\":15},\"zerolinecolor\":\"white\",\"automargin\":true,\"zerolinewidth\":2},\"yaxis\":{\"gridcolor\":\"white\",\"linecolor\":\"white\",\"ticks\":\"\",\"title\":{\"standoff\":15},\"zerolinecolor\":\"white\",\"automargin\":true,\"zerolinewidth\":2},\"scene\":{\"xaxis\":{\"backgroundcolor\":\"#E5ECF6\",\"gridcolor\":\"white\",\"linecolor\":\"white\",\"showbackground\":true,\"ticks\":\"\",\"zerolinecolor\":\"white\",\"gridwidth\":2},\"yaxis\":{\"backgroundcolor\":\"#E5ECF6\",\"gridcolor\":\"white\",\"linecolor\":\"white\",\"showbackground\":true,\"ticks\":\"\",\"zerolinecolor\":\"white\",\"gridwidth\":2},\"zaxis\":{\"backgroundcolor\":\"#E5ECF6\",\"gridcolor\":\"white\",\"linecolor\":\"white\",\"showbackground\":true,\"ticks\":\"\",\"zerolinecolor\":\"white\",\"gridwidth\":2}},\"shapedefaults\":{\"line\":{\"color\":\"#2a3f5f\"}},\"annotationdefaults\":{\"arrowcolor\":\"#2a3f5f\",\"arrowhead\":0,\"arrowwidth\":1},\"geo\":{\"bgcolor\":\"white\",\"landcolor\":\"#E5ECF6\",\"subunitcolor\":\"white\",\"showland\":true,\"showlakes\":true,\"lakecolor\":\"white\"},\"title\":{\"x\":0.05},\"mapbox\":{\"style\":\"light\"}}},\"xaxis\":{\"anchor\":\"y\",\"domain\":[0.0,1.0],\"title\":{\"text\":\"Index\"},\"showgrid\":true,\"gridwidth\":1,\"gridcolor\":\"skyblue\"},\"yaxis\":{\"anchor\":\"x\",\"domain\":[0.0,1.0],\"title\":{\"text\":\"Age\"},\"showgrid\":true,\"gridwidth\":1,\"gridcolor\":\"skyblue\"},\"coloraxis\":{\"colorbar\":{\"title\":{\"text\":\"anomaly\"}},\"colorscale\":[[0.0,\"#0d0887\"],[0.1111111111111111,\"#46039f\"],[0.2222222222222222,\"#7201a8\"],[0.3333333333333333,\"#9c179e\"],[0.4444444444444444,\"#bd3786\"],[0.5555555555555556,\"#d8576b\"],[0.6666666666666666,\"#ed7953\"],[0.7777777777777778,\"#fb9f3a\"],[0.8888888888888888,\"#fdca26\"],[1.0,\"#f0f921\"]]},\"legend\":{\"tracegroupgap\":0},\"margin\":{\"t\":60},\"title\":{\"text\":\"Scatter Plot of Age with Anomalies Highlighted\"},\"showlegend\":true,\"plot_bgcolor\":\"rgba(0,0,0,0)\"},                        {\"responsive\": true}                    ).then(function(){\n",
              "                            \n",
              "var gd = document.getElementById('1139e3a1-bd41-43e6-a22f-81d14b964571');\n",
              "var x = new MutationObserver(function (mutations, observer) {{\n",
              "        var display = window.getComputedStyle(gd).display;\n",
              "        if (!display || display === 'none') {{\n",
              "            console.log([gd, 'removed!']);\n",
              "            Plotly.purge(gd);\n",
              "            observer.disconnect();\n",
              "        }}\n",
              "}});\n",
              "\n",
              "// Listen for the removal of the full notebook cells\n",
              "var notebookContainer = gd.closest('#notebook-container');\n",
              "if (notebookContainer) {{\n",
              "    x.observe(notebookContainer, {childList: true});\n",
              "}}\n",
              "\n",
              "// Listen for the clearing of the current output cell\n",
              "var outputEl = gd.closest('.output');\n",
              "if (outputEl) {{\n",
              "    x.observe(outputEl, {childList: true});\n",
              "}}\n",
              "\n",
              "                        })                };                            </script>        </div>\n",
              "</body>\n",
              "</html>"
            ]
          },
          "metadata": {}
        }
      ],
      "source": [
        "\n",
        "scatter_fig = px.scatter(df, x=df.index, y='age', color='anomaly',\n",
        "                         color_discrete_map={1: 'blue', -1: 'red'},\n",
        "                         labels={'color': 'Anomaly'})\n",
        "\n",
        "scatter_fig.update_layout(\n",
        "    title='Scatter Plot of Age with Anomalies Highlighted',\n",
        "    xaxis_title='Index',\n",
        "    yaxis_title='Age',\n",
        "    showlegend=True,\n",
        "    plot_bgcolor='rgba(0,0,0,0)',  # Remove background color\n",
        "    xaxis=dict(showgrid=True, gridwidth=1, gridcolor='skyblue'),  # Add x-axis gridlines\n",
        "    yaxis=dict(showgrid=True, gridwidth=1, gridcolor='skyblue'),  # Add y-axis gridlines\n",
        ")\n",
        "\n",
        "scatter_fig.show()"
      ]
    },
    {
      "cell_type": "markdown",
      "id": "f336f3d3-0e0d-46ea-9982-9dfc4267e04d",
      "metadata": {
        "id": "f336f3d3-0e0d-46ea-9982-9dfc4267e04d"
      },
      "source": [
        "> # **Box Plot for Isolation Forest**"
      ]
    },
    {
      "cell_type": "code",
      "execution_count": 59,
      "id": "5d8036cf-b18b-41b6-b869-c4694ba6c363",
      "metadata": {
        "colab": {
          "base_uri": "https://localhost:8080/",
          "height": 542
        },
        "id": "5d8036cf-b18b-41b6-b869-c4694ba6c363",
        "outputId": "49b7df10-6beb-432a-f0af-c71ace4b1bb8"
      },
      "outputs": [
        {
          "output_type": "display_data",
          "data": {
            "text/html": [
              "<html>\n",
              "<head><meta charset=\"utf-8\" /></head>\n",
              "<body>\n",
              "    <div>            <script src=\"https://cdnjs.cloudflare.com/ajax/libs/mathjax/2.7.5/MathJax.js?config=TeX-AMS-MML_SVG\"></script><script type=\"text/javascript\">if (window.MathJax && window.MathJax.Hub && window.MathJax.Hub.Config) {window.MathJax.Hub.Config({SVG: {font: \"STIX-Web\"}});}</script>                <script type=\"text/javascript\">window.PlotlyConfig = {MathJaxConfig: 'local'};</script>\n",
              "        <script charset=\"utf-8\" src=\"https://cdn.plot.ly/plotly-2.24.1.min.js\"></script>                <div id=\"9c94ba14-59ec-4fb4-9705-e18890e2429d\" class=\"plotly-graph-div\" style=\"height:525px; width:100%;\"></div>            <script type=\"text/javascript\">                                    window.PLOTLYENV=window.PLOTLYENV || {};                                    if (document.getElementById(\"9c94ba14-59ec-4fb4-9705-e18890e2429d\")) {                    Plotly.newPlot(                        \"9c94ba14-59ec-4fb4-9705-e18890e2429d\",                        [{\"alignmentgroup\":\"True\",\"hovertemplate\":\"Anomaly=%{x}\\u003cbr\\u003eAge=%{y}\\u003cextra\\u003e\\u003c\\u002fextra\\u003e\",\"legendgroup\":\"1\",\"marker\":{\"color\":\"blue\"},\"name\":\"1\",\"notched\":false,\"offsetgroup\":\"1\",\"orientation\":\"v\",\"showlegend\":true,\"x\":[1,1,1,1,1,1,1,1,1,1,1,1,1,1,1,1,1,1,1,1,1,1,1,1,1,1,1,1,1,1,1,1,1,1,1,1,1,1,1,1,1,1,1,1,1,1,1,1,1,1,1,1,1,1,1,1,1,1,1,1,1,1,1,1,1,1,1,1,1,1,1,1,1,1,1,1,1,1,1,1,1,1,1,1,1,1,1,1,1,1,1,1,1,1,1,1,1,1,1,1,1,1,1,1,1,1,1,1,1,1,1,1,1,1,1,1,1,1,1,1,1,1,1,1,1,1,1,1,1,1,1,1,1,1,1,1,1,1,1,1,1,1,1,1,1,1,1,1,1,1,1,1,1,1,1,1,1,1,1,1,1,1,1,1,1,1,1,1,1,1,1,1,1,1,1,1,1,1,1,1,1,1,1,1,1,1,1,1,1,1,1,1,1,1,1,1,1,1,1,1,1,1,1,1,1,1,1,1,1,1,1,1,1,1,1,1,1,1,1,1,1,1,1,1,1,1,1,1,1,1,1,1,1,1,1,1,1,1,1,1,1,1,1,1,1,1,1,1,1,1,1,1,1,1,1,1,1,1,1,1,1,1,1,1,1,1,1,1,1,1,1,1,1,1,1,1,1,1,1,1,1,1,1,1,1,1,1,1,1,1,1,1,1,1,1,1,1,1,1,1,1,1,1,1,1,1,1,1,1,1,1,1,1,1,1,1,1,1,1,1,1,1,1,1,1,1,1,1,1,1,1,1,1,1,1,1,1,1,1,1,1,1,1,1,1,1,1,1,1,1,1,1,1,1,1,1,1,1,1,1,1,1,1,1,1,1,1,1,1,1,1,1,1,1,1,1,1,1,1,1,1,1,1,1,1,1,1,1,1,1,1,1,1,1,1,1,1,1,1,1,1,1,1,1,1,1,1,1,1,1,1,1,1,1,1,1,1,1,1,1,1,1,1,1,1,1,1,1,1,1,1,1,1,1,1,1,1,1,1,1,1,1,1,1,1,1,1,1,1,1,1,1,1,1,1,1,1,1,1,1,1,1,1,1,1,1,1,1,1,1,1,1,1,1,1,1,1,1,1,1,1,1,1,1,1,1,1,1,1,1,1,1,1,1,1,1,1,1,1,1,1,1,1,1,1,1,1,1,1,1,1,1,1,1,1,1,1,1,1,1,1,1,1,1,1,1,1,1,1,1,1,1,1,1,1,1,1,1,1,1,1,1,1,1,1,1,1,1,1,1,1,1,1,1,1,1,1,1,1,1,1,1,1,1,1,1,1,1,1,1,1,1,1,1,1,1,1,1,1,1,1,1,1,1,1,1,1,1,1,1,1,1,1,1,1,1,1,1,1,1,1,1,1,1,1,1,1,1,1,1,1,1,1,1,1,1,1,1,1,1,1,1,1,1,1,1,1,1,1,1,1,1,1,1,1,1,1,1,1,1,1,1,1,1,1,1,1,1,1,1,1,1,1,1,1,1,1,1,1,1,1,1,1,1,1,1,1,1,1,1,1,1,1,1,1,1,1,1,1,1,1,1,1,1,1,1,1,1,1,1,1,1,1,1,1,1,1,1,1,1,1,1,1,1,1,1,1,1,1,1,1,1,1,1,1,1,1,1,1,1,1,1,1,1,1,1,1,1,1,1,1,1,1,1,1,1,1,1,1,1,1,1,1,1,1,1,1,1,1,1,1,1,1,1,1,1,1,1,1,1,1,1,1,1,1,1,1,1,1,1,1,1,1,1,1,1,1,1,1,1,1,1,1,1,1,1,1,1,1,1,1,1,1,1,1,1,1,1,1,1,1,1,1,1,1,1,1,1,1,1,1,1,1,1,1,1,1,1,1,1,1,1,1,1,1,1,1,1,1,1,1,1,1,1,1,1,1,1,1,1,1,1,1,1,1,1,1,1,1,1,1,1,1,1,1,1,1,1,1,1,1,1,1,1,1,1,1,1,1,1,1,1,1,1,1,1,1,1,1,1,1,1,1,1,1,1,1,1,1,1,1,1,1,1,1,1,1,1,1,1,1,1,1,1,1,1,1,1,1,1,1,1,1,1,1,1,1,1,1,1,1,1,1,1,1,1,1,1,1,1,1,1,1,1,1,1,1,1,1,1,1,1,1,1,1,1,1,1,1,1,1,1,1,1,1,1,1,1,1,1,1,1,1,1,1,1,1,1,1,1,1,1,1,1,1,1,1,1,1,1,1,1,1,1,1,1,1,1,1,1,1,1,1,1,1,1,1],\"x0\":\" \",\"xaxis\":\"x\",\"y\":[36.0,41.890396659707726,21.0,57.0,54.0,41.890396659707726,24.0,35.0,38.0,33.0,61.0,30.0,51.0,41.890396659707726,24.0,18.0,35.0,54.0,41.890396659707726,45.0,35.0,57.0,55.0,41.890396659707726,22.0,38.0,33.0,39.0,22.0,45.0,25.0,41.890396659707726,28.0,63.0,18.0,20.0,26.0,48.0,57.0,41.890396659707726,39.0,43.0,19.0,28.0,41.0,19.0,41.890396659707726,40.0,50.0,47.0,31.0,25.0,35.0,61.0,34.0,18.0,50.0,40.0,41.890396659707726,37.0,32.0,47.0,26.0,64.0,29.0,48.0,44.0,19.0,33.0,64.0,39.0,63.0,41.890396659707726,62.0,41.0,61.0,54.0,65.0,47.0,41.890396659707726,36.0,30.0,33.0,54.0,24.0,50.0,22.0,63.0,42.0,29.0,25.0,36.0,46.0,34.0,35.0,55.0,51.0,32.0,46.0,35.0,63.0,47.0,54.0,60.0,41.0,29.0,25.0,28.0,44.0,55.0,41.0,43.0,38.0,55.0,32.0,62.0,20.0,64.0,47.0,53.0,61.0,34.0,54.0,26.0,47.0,34.0,44.0,48.0,35.0,61.0,24.0,39.0,33.0,20.0,29.0,42.0,35.0,33.0,42.0,27.0,30.0,38.0,61.0,23.0,33.0,39.0,22.0,38.0,63.0,65.0,44.0,61.0,41.890396659707726,33.0,48.0,26.0,58.0,40.0,58.0,19.0,29.0,42.0,65.0,28.0,30.0,25.0,22.0,43.0,37.0,31.0,29.0,44.0,39.0,30.0,31.0,23.0,54.0,48.0,62.0,52.0,18.0,41.0,47.0,41.890396659707726,30.0,30.0,20.0,35.0,57.0,27.0,52.0,30.0,27.0,58.0,49.0,41.0,21.0,54.0,37.0,25.0,36.0,24.0,63.0,22.0,25.0,35.0,45.0,64.0,54.0,41.0,37.0,55.0,24.0,25.0,27.0,52.0,19.0,35.0,36.0,49.0,34.0,56.0,65.0,22.0,61.0,50.0,28.0,50.0,49.0,20.0,41.890396659707726,20.0,35.0,41.0,65.0,36.0,59.0,51.0,54.0,52.0,38.0,40.0,61.0,47.0,26.0,56.0,48.0,24.0,57.0,57.0,27.0,48.0,57.0,45.0,64.0,38.0,27.0,55.0,50.0,23.0,42.0,42.0,47.0,25.0,51.0,41.890396659707726,55.0,61.0,51.0,32.0,58.0,27.0,48.0,53.0,44.0,57.0,41.890396659707726,58.0,41.890396659707726,28.0,50.0,39.0,36.0,63.0,49.0,19.0,47.0,29.0,30.0,23.0,64.0,21.0,49.0,63.0,58.0,62.0,51.0,56.0,58.0,52.0,64.0,41.890396659707726,23.0,40.0,27.0,32.0,30.0,20.0,26.0,35.0,39.0,41.890396659707726,48.0,35.0,51.0,34.0,40.0,19.0,32.0,31.0,41.890396659707726,49.0,42.0,24.0,63.0,33.0,59.0,52.0,64.0,28.0,19.0,38.0,48.0,52.0,51.0,31.0,57.0,57.0,60.0,37.0,56.0,58.0,30.0,61.0,38.0,62.0,57.0,44.0,53.0,63.0,32.0,33.0,45.0,48.0,41.0,60.0,58.0,42.0,43.0,36.0,61.0,36.0,41.890396659707726,64.0,52.0,49.0,52.0,58.0,52.0,41.890396659707726,58.0,64.0,54.0,45.0,39.0,26.0,18.0,59.0,25.0,41.890396659707726,61.0,26.0,43.0,24.0,63.0,37.0,35.0,44.0,59.0,33.0,60.0,33.0,47.0,30.0,44.0,53.0,23.0,64.0,54.0,48.0,63.0,30.0,21.0,19.0,27.0,57.0,35.0,20.0,65.0,60.0,21.0,47.0,56.0,28.0,39.0,25.0,51.0,35.0,53.0,24.0,57.0,25.0,44.0,41.0,36.0,37.0,34.0,37.0,45.0,38.0,60.0,51.0,45.0,36.0,37.0,51.0,28.0,38.0,38.0,49.0,18.0,51.0,61.0,54.0,25.0,51.0,22.0,30.0,33.0,56.0,42.0,39.0,34.0,57.0,46.0,18.0,51.0,45.0,46.0,20.0,47.0,26.0,26.0,47.0,45.0,24.0,53.0,55.0,35.0,23.0,48.0,39.0,47.0,41.890396659707726,43.0,56.0,26.0,40.0,34.0,41.890396659707726,43.0,44.0,52.0,23.0,24.0,37.0,47.0,41.890396659707726,40.0,18.0,50.0,41.890396659707726,25.0,47.0,42.0,41.0,25.0,50.0,21.0,25.0,27.0,23.0,40.0,25.0,25.0,34.0,52.0,22.0,26.0,63.0,39.0,36.0,39.0,56.0,50.0,33.0,60.0,63.0,60.0,58.0,40.0,47.0,52.0,51.0,19.0,54.0,49.0,59.0,47.0,34.0,21.0,29.0,51.0,49.0,59.0,54.0,32.0,18.0,43.0,45.0,37.0,45.0,49.0,37.0,45.0,32.0,18.0,35.0,28.0,26.0,58.0,43.0,23.0,41.0,32.0,33.0,25.0,49.0,58.0,56.0,29.0,41.0,46.0,50.0,46.0,35.0,62.0,46.0,44.0,47.0,36.0,56.0,23.0,18.0,48.0,31.0,23.0,36.0,58.0,29.0,60.0,42.0,60.0,42.0,39.0,54.0,33.0,30.0,24.0,58.0,46.0,64.0,33.0,64.0,65.0,34.0,31.0,22.0,47.0,58.0,18.0,43.0,23.0,29.0,59.0,65.0,42.0,28.0,52.0,64.0,48.0,55.0,31.0,34.0,53.0,37.0,64.0,64.0,49.0,29.0,61.0,50.0,55.0,24.0,40.0,48.0,61.0,56.0,25.0,61.0,44.0,18.0,29.0,45.0,19.0,36.0,63.0,56.0,49.0,28.0,57.0,58.0,31.0,33.0,21.0,54.0,36.0,44.0,25.0,56.0,58.0,31.0,19.0,25.0,60.0,60.0,57.0,22.0,52.0,27.0,29.0,19.0,27.0,37.0,40.0,52.0,61.0,53.0,57.0,41.0,42.0,50.0,29.0,55.0,43.0,55.0,48.0,29.0,46.0,45.0,34.0,26.0,41.890396659707726,34.0,18.0,41.890396659707726,41.890396659707726,29.0,63.0,59.0,26.0,60.0,41.890396659707726,56.0,28.0,46.0,44.0,41.890396659707726,41.890396659707726,20.0,19.0,52.0,38.0,54.0,26.0,41.890396659707726,48.0,36.0,46.0,18.0,57.0,33.0,50.0,62.0,23.0,40.0,64.0,24.0,49.0,51.0,39.0,35.0,53.0,59.0,46.0,47.0,32.0,45.0,29.0,65.0,50.0,28.0,58.0,20.0,63.0,43.0,40.0,57.0,39.0,49.0,57.0,39.0,31.0,47.0,33.0,39.0,64.0,34.0,23.0,24.0,62.0,61.0,47.0,19.0,48.0,35.0,23.0,65.0,52.0,23.0,35.0,39.0,49.0,64.0,33.0,51.0,30.0,52.0,20.0,48.0,58.0,63.0,47.0,44.0,30.0,65.0,56.0,63.0,29.0,41.0,48.0,46.0,43.0,52.0,33.0,35.0,39.0,25.0,22.0,29.0,48.0,20.0,46.0,64.0,52.0,62.0,43.0,25.0,63.0,61.0,65.0,58.0,43.0,52.0,37.0,50.0,54.0,54.0,41.0,31.0,62.0,19.0,40.0,49.0,61.0,36.0,38.0,44.0,57.0,62.0,34.0,29.0,62.0,55.0,33.0,65.0,58.0,59.0,30.0,19.0,53.0,57.0,61.0,45.0,46.0,28.0,25.0,28.0,60.0,56.0,61.0,33.0,34.0,41.0,33.0,21.0,51.0,44.0,49.0,60.0,34.0,46.0,29.0,48.0,45.0,45.0,23.0,35.0,20.0,34.0,51.0,29.0,47.0,45.0,60.0,25.0,36.0,49.0,19.0,60.0,39.0,63.0,23.0,26.0,65.0,51.0,57.0,28.0,23.0,51.0,27.0,22.0,18.0,30.0,43.0,36.0,34.0,19.0,34.0,39.0,33.0,18.0,47.0,24.0,59.0,43.0,54.0,41.0,58.0,29.0,45.0,34.0,65.0,51.0,47.0,20.0,44.0,33.0,42.0,33.0,28.0,59.0,43.0,51.0,59.0,43.0,27.0,19.0,41.0,57.0,27.0,39.0,64.0,49.0,55.0,60.0,62.0,41.0,59.0,41.890396659707726,30.0,43.0,61.0,54.0,51.0,45.0,58.0,41.890396659707726,45.0,46.0,59.0,62.0,29.0,42.0,53.0,42.0,20.0,36.0,45.0,18.0,65.0,44.0,47.0,31.0,26.0,53.0,60.0,33.0,21.0,33.0,35.0,29.0,47.0,20.0,39.0,24.0,42.0,25.0,35.0,29.0,35.0,41.890396659707726,39.0,41.890396659707726,61.0,49.0,47.0,41.890396659707726,28.0,33.0,20.0,46.0,54.0,29.0,36.0,39.0,46.0,19.0,27.0,55.0,41.890396659707726,53.0,32.0,29.0,41.890396659707726,41.890396659707726,45.0],\"y0\":\" \",\"yaxis\":\"y\",\"type\":\"box\"},{\"alignmentgroup\":\"True\",\"hovertemplate\":\"Anomaly=%{x}\\u003cbr\\u003eAge=%{y}\\u003cextra\\u003e\\u003c\\u002fextra\\u003e\",\"legendgroup\":\"-1\",\"marker\":{\"color\":\"red\"},\"name\":\"-1\",\"notched\":false,\"offsetgroup\":\"-1\",\"orientation\":\"v\",\"showlegend\":true,\"x\":[-1,-1,-1],\"x0\":\" \",\"xaxis\":\"x\",\"y\":[150.0,0.0,90.0],\"y0\":\" \",\"yaxis\":\"y\",\"type\":\"box\"}],                        {\"template\":{\"data\":{\"histogram2dcontour\":[{\"type\":\"histogram2dcontour\",\"colorbar\":{\"outlinewidth\":0,\"ticks\":\"\"},\"colorscale\":[[0.0,\"#0d0887\"],[0.1111111111111111,\"#46039f\"],[0.2222222222222222,\"#7201a8\"],[0.3333333333333333,\"#9c179e\"],[0.4444444444444444,\"#bd3786\"],[0.5555555555555556,\"#d8576b\"],[0.6666666666666666,\"#ed7953\"],[0.7777777777777778,\"#fb9f3a\"],[0.8888888888888888,\"#fdca26\"],[1.0,\"#f0f921\"]]}],\"choropleth\":[{\"type\":\"choropleth\",\"colorbar\":{\"outlinewidth\":0,\"ticks\":\"\"}}],\"histogram2d\":[{\"type\":\"histogram2d\",\"colorbar\":{\"outlinewidth\":0,\"ticks\":\"\"},\"colorscale\":[[0.0,\"#0d0887\"],[0.1111111111111111,\"#46039f\"],[0.2222222222222222,\"#7201a8\"],[0.3333333333333333,\"#9c179e\"],[0.4444444444444444,\"#bd3786\"],[0.5555555555555556,\"#d8576b\"],[0.6666666666666666,\"#ed7953\"],[0.7777777777777778,\"#fb9f3a\"],[0.8888888888888888,\"#fdca26\"],[1.0,\"#f0f921\"]]}],\"heatmap\":[{\"type\":\"heatmap\",\"colorbar\":{\"outlinewidth\":0,\"ticks\":\"\"},\"colorscale\":[[0.0,\"#0d0887\"],[0.1111111111111111,\"#46039f\"],[0.2222222222222222,\"#7201a8\"],[0.3333333333333333,\"#9c179e\"],[0.4444444444444444,\"#bd3786\"],[0.5555555555555556,\"#d8576b\"],[0.6666666666666666,\"#ed7953\"],[0.7777777777777778,\"#fb9f3a\"],[0.8888888888888888,\"#fdca26\"],[1.0,\"#f0f921\"]]}],\"heatmapgl\":[{\"type\":\"heatmapgl\",\"colorbar\":{\"outlinewidth\":0,\"ticks\":\"\"},\"colorscale\":[[0.0,\"#0d0887\"],[0.1111111111111111,\"#46039f\"],[0.2222222222222222,\"#7201a8\"],[0.3333333333333333,\"#9c179e\"],[0.4444444444444444,\"#bd3786\"],[0.5555555555555556,\"#d8576b\"],[0.6666666666666666,\"#ed7953\"],[0.7777777777777778,\"#fb9f3a\"],[0.8888888888888888,\"#fdca26\"],[1.0,\"#f0f921\"]]}],\"contourcarpet\":[{\"type\":\"contourcarpet\",\"colorbar\":{\"outlinewidth\":0,\"ticks\":\"\"}}],\"contour\":[{\"type\":\"contour\",\"colorbar\":{\"outlinewidth\":0,\"ticks\":\"\"},\"colorscale\":[[0.0,\"#0d0887\"],[0.1111111111111111,\"#46039f\"],[0.2222222222222222,\"#7201a8\"],[0.3333333333333333,\"#9c179e\"],[0.4444444444444444,\"#bd3786\"],[0.5555555555555556,\"#d8576b\"],[0.6666666666666666,\"#ed7953\"],[0.7777777777777778,\"#fb9f3a\"],[0.8888888888888888,\"#fdca26\"],[1.0,\"#f0f921\"]]}],\"surface\":[{\"type\":\"surface\",\"colorbar\":{\"outlinewidth\":0,\"ticks\":\"\"},\"colorscale\":[[0.0,\"#0d0887\"],[0.1111111111111111,\"#46039f\"],[0.2222222222222222,\"#7201a8\"],[0.3333333333333333,\"#9c179e\"],[0.4444444444444444,\"#bd3786\"],[0.5555555555555556,\"#d8576b\"],[0.6666666666666666,\"#ed7953\"],[0.7777777777777778,\"#fb9f3a\"],[0.8888888888888888,\"#fdca26\"],[1.0,\"#f0f921\"]]}],\"mesh3d\":[{\"type\":\"mesh3d\",\"colorbar\":{\"outlinewidth\":0,\"ticks\":\"\"}}],\"scatter\":[{\"fillpattern\":{\"fillmode\":\"overlay\",\"size\":10,\"solidity\":0.2},\"type\":\"scatter\"}],\"parcoords\":[{\"type\":\"parcoords\",\"line\":{\"colorbar\":{\"outlinewidth\":0,\"ticks\":\"\"}}}],\"scatterpolargl\":[{\"type\":\"scatterpolargl\",\"marker\":{\"colorbar\":{\"outlinewidth\":0,\"ticks\":\"\"}}}],\"bar\":[{\"error_x\":{\"color\":\"#2a3f5f\"},\"error_y\":{\"color\":\"#2a3f5f\"},\"marker\":{\"line\":{\"color\":\"#E5ECF6\",\"width\":0.5},\"pattern\":{\"fillmode\":\"overlay\",\"size\":10,\"solidity\":0.2}},\"type\":\"bar\"}],\"scattergeo\":[{\"type\":\"scattergeo\",\"marker\":{\"colorbar\":{\"outlinewidth\":0,\"ticks\":\"\"}}}],\"scatterpolar\":[{\"type\":\"scatterpolar\",\"marker\":{\"colorbar\":{\"outlinewidth\":0,\"ticks\":\"\"}}}],\"histogram\":[{\"marker\":{\"pattern\":{\"fillmode\":\"overlay\",\"size\":10,\"solidity\":0.2}},\"type\":\"histogram\"}],\"scattergl\":[{\"type\":\"scattergl\",\"marker\":{\"colorbar\":{\"outlinewidth\":0,\"ticks\":\"\"}}}],\"scatter3d\":[{\"type\":\"scatter3d\",\"line\":{\"colorbar\":{\"outlinewidth\":0,\"ticks\":\"\"}},\"marker\":{\"colorbar\":{\"outlinewidth\":0,\"ticks\":\"\"}}}],\"scattermapbox\":[{\"type\":\"scattermapbox\",\"marker\":{\"colorbar\":{\"outlinewidth\":0,\"ticks\":\"\"}}}],\"scatterternary\":[{\"type\":\"scatterternary\",\"marker\":{\"colorbar\":{\"outlinewidth\":0,\"ticks\":\"\"}}}],\"scattercarpet\":[{\"type\":\"scattercarpet\",\"marker\":{\"colorbar\":{\"outlinewidth\":0,\"ticks\":\"\"}}}],\"carpet\":[{\"aaxis\":{\"endlinecolor\":\"#2a3f5f\",\"gridcolor\":\"white\",\"linecolor\":\"white\",\"minorgridcolor\":\"white\",\"startlinecolor\":\"#2a3f5f\"},\"baxis\":{\"endlinecolor\":\"#2a3f5f\",\"gridcolor\":\"white\",\"linecolor\":\"white\",\"minorgridcolor\":\"white\",\"startlinecolor\":\"#2a3f5f\"},\"type\":\"carpet\"}],\"table\":[{\"cells\":{\"fill\":{\"color\":\"#EBF0F8\"},\"line\":{\"color\":\"white\"}},\"header\":{\"fill\":{\"color\":\"#C8D4E3\"},\"line\":{\"color\":\"white\"}},\"type\":\"table\"}],\"barpolar\":[{\"marker\":{\"line\":{\"color\":\"#E5ECF6\",\"width\":0.5},\"pattern\":{\"fillmode\":\"overlay\",\"size\":10,\"solidity\":0.2}},\"type\":\"barpolar\"}],\"pie\":[{\"automargin\":true,\"type\":\"pie\"}]},\"layout\":{\"autotypenumbers\":\"strict\",\"colorway\":[\"#636efa\",\"#EF553B\",\"#00cc96\",\"#ab63fa\",\"#FFA15A\",\"#19d3f3\",\"#FF6692\",\"#B6E880\",\"#FF97FF\",\"#FECB52\"],\"font\":{\"color\":\"#2a3f5f\"},\"hovermode\":\"closest\",\"hoverlabel\":{\"align\":\"left\"},\"paper_bgcolor\":\"white\",\"plot_bgcolor\":\"#E5ECF6\",\"polar\":{\"bgcolor\":\"#E5ECF6\",\"angularaxis\":{\"gridcolor\":\"white\",\"linecolor\":\"white\",\"ticks\":\"\"},\"radialaxis\":{\"gridcolor\":\"white\",\"linecolor\":\"white\",\"ticks\":\"\"}},\"ternary\":{\"bgcolor\":\"#E5ECF6\",\"aaxis\":{\"gridcolor\":\"white\",\"linecolor\":\"white\",\"ticks\":\"\"},\"baxis\":{\"gridcolor\":\"white\",\"linecolor\":\"white\",\"ticks\":\"\"},\"caxis\":{\"gridcolor\":\"white\",\"linecolor\":\"white\",\"ticks\":\"\"}},\"coloraxis\":{\"colorbar\":{\"outlinewidth\":0,\"ticks\":\"\"}},\"colorscale\":{\"sequential\":[[0.0,\"#0d0887\"],[0.1111111111111111,\"#46039f\"],[0.2222222222222222,\"#7201a8\"],[0.3333333333333333,\"#9c179e\"],[0.4444444444444444,\"#bd3786\"],[0.5555555555555556,\"#d8576b\"],[0.6666666666666666,\"#ed7953\"],[0.7777777777777778,\"#fb9f3a\"],[0.8888888888888888,\"#fdca26\"],[1.0,\"#f0f921\"]],\"sequentialminus\":[[0.0,\"#0d0887\"],[0.1111111111111111,\"#46039f\"],[0.2222222222222222,\"#7201a8\"],[0.3333333333333333,\"#9c179e\"],[0.4444444444444444,\"#bd3786\"],[0.5555555555555556,\"#d8576b\"],[0.6666666666666666,\"#ed7953\"],[0.7777777777777778,\"#fb9f3a\"],[0.8888888888888888,\"#fdca26\"],[1.0,\"#f0f921\"]],\"diverging\":[[0,\"#8e0152\"],[0.1,\"#c51b7d\"],[0.2,\"#de77ae\"],[0.3,\"#f1b6da\"],[0.4,\"#fde0ef\"],[0.5,\"#f7f7f7\"],[0.6,\"#e6f5d0\"],[0.7,\"#b8e186\"],[0.8,\"#7fbc41\"],[0.9,\"#4d9221\"],[1,\"#276419\"]]},\"xaxis\":{\"gridcolor\":\"white\",\"linecolor\":\"white\",\"ticks\":\"\",\"title\":{\"standoff\":15},\"zerolinecolor\":\"white\",\"automargin\":true,\"zerolinewidth\":2},\"yaxis\":{\"gridcolor\":\"white\",\"linecolor\":\"white\",\"ticks\":\"\",\"title\":{\"standoff\":15},\"zerolinecolor\":\"white\",\"automargin\":true,\"zerolinewidth\":2},\"scene\":{\"xaxis\":{\"backgroundcolor\":\"#E5ECF6\",\"gridcolor\":\"white\",\"linecolor\":\"white\",\"showbackground\":true,\"ticks\":\"\",\"zerolinecolor\":\"white\",\"gridwidth\":2},\"yaxis\":{\"backgroundcolor\":\"#E5ECF6\",\"gridcolor\":\"white\",\"linecolor\":\"white\",\"showbackground\":true,\"ticks\":\"\",\"zerolinecolor\":\"white\",\"gridwidth\":2},\"zaxis\":{\"backgroundcolor\":\"#E5ECF6\",\"gridcolor\":\"white\",\"linecolor\":\"white\",\"showbackground\":true,\"ticks\":\"\",\"zerolinecolor\":\"white\",\"gridwidth\":2}},\"shapedefaults\":{\"line\":{\"color\":\"#2a3f5f\"}},\"annotationdefaults\":{\"arrowcolor\":\"#2a3f5f\",\"arrowhead\":0,\"arrowwidth\":1},\"geo\":{\"bgcolor\":\"white\",\"landcolor\":\"#E5ECF6\",\"subunitcolor\":\"white\",\"showland\":true,\"showlakes\":true,\"lakecolor\":\"white\"},\"title\":{\"x\":0.05},\"mapbox\":{\"style\":\"light\"}}},\"xaxis\":{\"anchor\":\"y\",\"domain\":[0.0,1.0],\"title\":{\"text\":\"Anomaly\"},\"categoryorder\":\"array\",\"categoryarray\":[1,-1],\"showgrid\":true,\"gridwidth\":1,\"gridcolor\":\"skyblue\"},\"yaxis\":{\"anchor\":\"x\",\"domain\":[0.0,1.0],\"title\":{\"text\":\"Age\"},\"showgrid\":true,\"gridwidth\":1,\"gridcolor\":\"skyblue\"},\"legend\":{\"title\":{\"text\":\"Anomaly\"},\"tracegroupgap\":0},\"margin\":{\"t\":60},\"boxmode\":\"overlay\",\"title\":{\"text\":\"Box Plot of Age with Anomalies Highlighted\"},\"showlegend\":true,\"plot_bgcolor\":\"rgba(0,0,0,0)\"},                        {\"responsive\": true}                    ).then(function(){\n",
              "                            \n",
              "var gd = document.getElementById('9c94ba14-59ec-4fb4-9705-e18890e2429d');\n",
              "var x = new MutationObserver(function (mutations, observer) {{\n",
              "        var display = window.getComputedStyle(gd).display;\n",
              "        if (!display || display === 'none') {{\n",
              "            console.log([gd, 'removed!']);\n",
              "            Plotly.purge(gd);\n",
              "            observer.disconnect();\n",
              "        }}\n",
              "}});\n",
              "\n",
              "// Listen for the removal of the full notebook cells\n",
              "var notebookContainer = gd.closest('#notebook-container');\n",
              "if (notebookContainer) {{\n",
              "    x.observe(notebookContainer, {childList: true});\n",
              "}}\n",
              "\n",
              "// Listen for the clearing of the current output cell\n",
              "var outputEl = gd.closest('.output');\n",
              "if (outputEl) {{\n",
              "    x.observe(outputEl, {childList: true});\n",
              "}}\n",
              "\n",
              "                        })                };                            </script>        </div>\n",
              "</body>\n",
              "</html>"
            ]
          },
          "metadata": {}
        }
      ],
      "source": [
        "box_fig = px.box(df, x='anomaly', y='age', color='anomaly',\n",
        "                 color_discrete_map={1: 'blue', -1: 'red'},\n",
        "                 labels={'anomaly': 'Anomaly', 'age': 'Age'})\n",
        "\n",
        "box_fig.update_layout(\n",
        "    title='Box Plot of Age with Anomalies Highlighted',\n",
        "    xaxis_title='Anomaly',\n",
        "    yaxis_title='Age',\n",
        "    showlegend=True,\n",
        "    plot_bgcolor='rgba(0,0,0,0)',  # Remove background color\n",
        "    xaxis=dict(showgrid=True, gridwidth=1, gridcolor='skyblue'),  # Add x-axis gridlines\n",
        "    yaxis=dict(showgrid=True, gridwidth=1, gridcolor='skyblue'),  # Add y-axis gridlines\n",
        ")\n",
        "box_fig.show()"
      ]
    },
    {
      "cell_type": "markdown",
      "id": "88982cee-1f07-441b-89e2-3e8ef7d9f891",
      "metadata": {
        "id": "88982cee-1f07-441b-89e2-3e8ef7d9f891"
      },
      "source": [
        "> # **4. LOCAL OUTLIER FACTOR (LOF) SECTION**"
      ]
    },
    {
      "cell_type": "code",
      "execution_count": 60,
      "id": "6024bcb1-4a9f-45fa-893f-a8aab821f66b",
      "metadata": {
        "id": "6024bcb1-4a9f-45fa-893f-a8aab821f66b"
      },
      "outputs": [],
      "source": [
        "# Fit the Local Outlier Factor (LOF) model\n",
        "lof = LocalOutlierFactor(n_neighbors=20, contamination=0.01)\n",
        "df['lof_anomaly'] = lof.fit_predict(df[['age']])\n",
        "lof_outliers = df[df['lof_anomaly'] == -1]"
      ]
    },
    {
      "cell_type": "markdown",
      "id": "817eafba-8933-42ca-886b-a0133b2eb1cd",
      "metadata": {
        "id": "817eafba-8933-42ca-886b-a0133b2eb1cd"
      },
      "source": [
        "> # **Scatter Plot for LOF**"
      ]
    },
    {
      "cell_type": "code",
      "execution_count": 61,
      "id": "5b2ab6ac-2d6b-4c2a-bf6d-1b5fc30e08d7",
      "metadata": {
        "colab": {
          "base_uri": "https://localhost:8080/",
          "height": 542
        },
        "id": "5b2ab6ac-2d6b-4c2a-bf6d-1b5fc30e08d7",
        "outputId": "1e319049-a2cc-4102-83c6-6e38605d1821"
      },
      "outputs": [
        {
          "output_type": "display_data",
          "data": {
            "text/html": [
              "<html>\n",
              "<head><meta charset=\"utf-8\" /></head>\n",
              "<body>\n",
              "    <div>            <script src=\"https://cdnjs.cloudflare.com/ajax/libs/mathjax/2.7.5/MathJax.js?config=TeX-AMS-MML_SVG\"></script><script type=\"text/javascript\">if (window.MathJax && window.MathJax.Hub && window.MathJax.Hub.Config) {window.MathJax.Hub.Config({SVG: {font: \"STIX-Web\"}});}</script>                <script type=\"text/javascript\">window.PlotlyConfig = {MathJaxConfig: 'local'};</script>\n",
              "        <script charset=\"utf-8\" src=\"https://cdn.plot.ly/plotly-2.24.1.min.js\"></script>                <div id=\"0aeeec6c-87af-41db-a2d4-3f40cf3d301f\" class=\"plotly-graph-div\" style=\"height:525px; width:100%;\"></div>            <script type=\"text/javascript\">                                    window.PLOTLYENV=window.PLOTLYENV || {};                                    if (document.getElementById(\"0aeeec6c-87af-41db-a2d4-3f40cf3d301f\")) {                    Plotly.newPlot(                        \"0aeeec6c-87af-41db-a2d4-3f40cf3d301f\",                        [{\"hovertemplate\":\"index=%{x}\\u003cbr\\u003eage=%{y}\\u003cbr\\u003elof_anomaly=%{marker.color}\\u003cextra\\u003e\\u003c\\u002fextra\\u003e\",\"legendgroup\":\"\",\"marker\":{\"color\":[1,1,1,1,1,1,1,1,1,1,1,1,1,1,1,1,1,1,1,1,1,1,1,1,1,1,1,1,1,1,1,1,1,1,1,1,1,1,1,1,1,1,1,1,1,1,1,1,1,1,1,1,1,1,1,1,1,1,1,1,1,1,1,1,1,1,1,1,1,1,1,1,1,1,1,1,1,1,1,1,1,1,1,1,1,1,1,1,1,1,1,1,1,1,1,1,1,1,1,1,1,1,1,1,1,1,1,1,1,1,1,1,1,1,1,1,1,1,1,1,1,1,1,1,1,1,1,1,1,1,1,1,1,1,1,1,1,1,1,1,1,1,1,1,1,1,1,1,1,1,1,1,1,1,1,1,1,1,1,1,1,1,1,1,1,1,1,1,1,1,1,1,1,1,1,1,1,1,1,1,1,1,1,1,1,1,1,1,1,1,1,1,1,1,1,1,1,1,1,1,1,1,1,1,1,1,1,1,1,1,1,1,1,1,1,1,1,1,1,1,1,1,1,1,1,1,1,1,1,1,1,1,1,1,1,1,1,1,1,1,1,1,1,1,1,1,1,1,1,1,1,1,1,1,1,1,1,1,1,1,1,1,1,1,1,1,1,1,1,1,1,1,1,1,1,1,1,1,1,1,1,1,1,1,1,1,1,1,1,1,1,1,1,1,1,1,1,1,1,1,1,1,1,1,1,1,1,1,1,1,1,1,1,1,1,1,1,1,1,1,1,1,1,1,1,1,1,1,1,1,1,1,1,1,1,1,1,1,1,1,1,1,1,1,1,1,1,1,1,1,1,1,1,1,1,1,1,1,1,1,1,1,1,1,1,1,1,1,1,1,1,1,1,1,1,1,1,1,1,1,1,1,1,1,1,1,1,1,1,1,1,1,1,1,1,1,1,1,1,1,1,1,1,1,1,1,1,1,1,1,1,1,1,1,1,1,1,1,1,1,1,1,1,1,1,1,1,1,1,1,1,1,1,1,1,1,1,1,1,1,1,1,1,1,1,1,1,1,1,1,1,1,1,1,1,1,1,1,1,1,1,1,1,1,1,1,1,1,1,1,1,1,1,1,1,1,1,1,1,1,1,1,1,1,1,1,1,1,1,1,1,1,1,1,1,1,1,1,1,1,1,1,1,1,1,1,1,1,1,1,1,1,1,1,1,1,1,1,1,1,1,1,1,1,1,1,1,1,1,1,1,1,1,1,1,1,1,1,1,1,1,1,1,1,1,1,1,1,1,1,1,1,1,1,1,1,1,1,1,1,1,1,1,1,1,1,1,1,1,1,1,1,1,1,1,1,1,1,1,1,1,1,1,1,1,1,1,1,1,1,1,1,1,1,1,1,1,1,1,1,1,1,1,1,1,1,1,1,1,1,1,1,1,1,1,1,1,1,1,1,1,1,1,1,1,1,1,1,1,1,1,1,1,1,1,1,1,1,1,1,1,1,1,1,1,1,1,1,1,1,1,1,1,1,1,1,1,1,1,1,1,1,1,1,1,1,1,1,1,1,1,1,1,1,1,1,1,1,1,1,1,1,1,1,1,1,1,1,1,1,1,1,1,1,1,1,1,1,1,1,1,1,1,1,1,1,1,1,1,1,1,1,1,1,1,1,1,1,1,1,1,1,1,1,1,1,1,1,1,1,1,1,1,1,1,1,1,1,1,1,1,1,1,1,1,1,1,1,1,1,1,1,1,1,1,1,1,1,1,1,1,1,1,1,1,1,1,1,1,1,1,1,1,1,1,1,1,1,1,1,1,1,1,1,1,1,1,1,1,1,1,1,1,1,1,1,1,1,1,1,1,1,1,1,1,1,1,1,1,1,1,1,1,1,1,1,1,1,1,1,1,1,1,1,1,1,1,1,1,1,1,1,1,1,1,1,1,1,1,1,1,1,1,1,1,1,1,1,1,1,1,1,1,1,1,1,1,1,1,1,1,1,1,1,1,1,1,1,1,1,1,1,1,1,1,1,1,1,1,1,1,1,1,1,1,1,1,1,1,1,1,1,1,1,1,1,1,1,1,1,1,1,1,1,1,1,1,1,1,1,1,1,1,1,1,1,1,1,1,1,1,1,1,1,1,1,1,1,1,1,1,1,1,1,1,1,1,1,1,1,1,1,1,1,1,1,1,1,1,1,1,1,1,1,1,1,1,1,1,1,1,1,1,1,1,1,1,1,1,1,1,1,1,1,1,1,1,1,1,1,1,1,1,1,1,1,1,1,1,1,1,1,1,1,1,1,1,-1,-1,-1],\"coloraxis\":\"coloraxis\",\"symbol\":\"circle\"},\"mode\":\"markers\",\"name\":\"\",\"orientation\":\"v\",\"showlegend\":false,\"x\":[0,1,2,3,4,5,6,7,8,9,10,11,12,13,14,15,16,17,18,19,20,21,22,23,24,25,26,27,28,29,30,31,32,33,34,35,36,37,38,39,40,41,42,43,44,45,46,47,48,49,50,51,52,53,54,55,56,57,58,59,60,61,62,63,64,65,66,67,68,69,70,71,72,73,74,75,76,77,78,79,80,81,82,83,84,85,86,87,88,89,90,91,92,93,94,95,96,97,98,99,100,101,102,103,104,105,106,107,108,109,110,111,112,113,114,115,116,117,118,119,120,121,122,123,124,125,126,127,128,129,130,131,132,133,134,135,136,137,138,139,140,141,142,143,144,145,146,147,148,149,150,151,152,153,154,155,156,157,158,159,160,161,162,163,164,165,166,167,168,169,170,171,172,173,174,175,176,177,178,179,180,181,182,183,184,185,186,187,188,189,190,191,192,193,194,195,196,197,198,199,200,201,202,203,204,205,206,207,208,209,210,211,212,213,214,215,216,217,218,219,220,221,222,223,224,225,226,227,228,229,230,231,232,233,234,235,236,237,238,239,240,241,242,243,244,245,246,247,248,249,250,251,252,253,254,255,256,257,258,259,260,261,262,263,264,265,266,267,268,269,270,271,272,273,274,275,276,277,278,279,280,281,282,283,284,285,286,287,288,289,290,291,292,293,294,295,296,297,298,299,300,301,302,303,304,305,306,307,308,309,310,311,312,313,314,315,316,317,318,319,320,321,322,323,324,325,326,327,328,329,330,331,332,333,334,335,336,337,338,339,340,341,342,343,344,345,346,347,348,349,350,351,352,353,354,355,356,357,358,359,360,361,362,363,364,365,366,367,368,369,370,371,372,373,374,375,376,377,378,379,380,381,382,383,384,385,386,387,388,389,390,391,392,393,394,395,396,397,398,399,400,401,402,403,404,405,406,407,408,409,410,411,412,413,414,415,416,417,418,419,420,421,422,423,424,425,426,427,428,429,430,431,432,433,434,435,436,437,438,439,440,441,442,443,444,445,446,447,448,449,450,451,452,453,454,455,456,457,458,459,460,461,462,463,464,465,466,467,468,469,470,471,472,473,474,475,476,477,478,479,480,481,482,483,484,485,486,487,488,489,490,491,492,493,494,495,496,497,498,499,500,501,502,503,504,505,506,507,508,509,510,511,512,513,514,515,516,517,518,519,520,521,522,523,524,525,526,527,528,529,530,531,532,533,534,535,536,537,538,539,540,541,542,543,544,545,546,547,548,549,550,551,552,553,554,555,556,557,558,559,560,561,562,563,564,565,566,567,568,569,570,571,572,573,574,575,576,577,578,579,580,581,582,583,584,585,586,587,588,589,590,591,592,593,594,595,596,597,598,599,600,601,602,603,604,605,606,607,608,609,610,611,612,613,614,615,616,617,618,619,620,621,622,623,624,625,626,627,628,629,630,631,632,633,634,635,636,637,638,639,640,641,642,643,644,645,646,647,648,649,650,651,652,653,654,655,656,657,658,659,660,661,662,663,664,665,666,667,668,669,670,671,672,673,674,675,676,677,678,679,680,681,682,683,684,685,686,687,688,689,690,691,692,693,694,695,696,697,698,699,700,701,702,703,704,705,706,707,708,709,710,711,712,713,714,715,716,717,718,719,720,721,722,723,724,725,726,727,728,729,730,731,732,733,734,735,736,737,738,739,740,741,742,743,744,745,746,747,748,749,750,751,752,753,754,755,756,757,758,759,760,761,762,763,764,765,766,767,768,769,770,771,772,773,774,775,776,777,778,779,780,781,782,783,784,785,786,787,788,789,790,791,792,793,794,795,796,797,798,799,800,801,802,803,804,805,806,807,808,809,810,811,812,813,814,815,816,817,818,819,820,821,822,823,824,825,826,827,828,829,830,831,832,833,834,835,836,837,838,839,840,841,842,843,844,845,846,847,848,849,850,851,852,853,854,855,856,857,858,859,860,861,862,863,864,865,866,867,868,869,870,871,872,873,874,875,876,877,878,879,880,881,882,883,884,885,886,887,888,889,890,891,892,893,894,895,896,897,898,899,900,901,902,903,904,905,906,907,908,909,910,911,912,913,914,915,916,917,918,919,920,921,922,923,924,925,926,927,928,929,930,931,932,933,934,935,936,937,938,939,940,941,942,943,944,945,946,947,948,949,950,951,952,953,954,955,956,957,958,959,960,961,962,963,964,965,966,967,968,969,970,971,972,973,974,975,976,977,978,979,980,981,982,983,984,985,986,987,988,989,990,991,992,993,994,995,996,997,998,999],\"xaxis\":\"x\",\"y\":[36.0,41.890396659707726,21.0,57.0,54.0,41.890396659707726,24.0,35.0,38.0,33.0,61.0,30.0,51.0,41.890396659707726,24.0,18.0,35.0,54.0,41.890396659707726,45.0,35.0,57.0,55.0,41.890396659707726,22.0,38.0,33.0,39.0,22.0,45.0,25.0,41.890396659707726,28.0,63.0,18.0,20.0,26.0,48.0,57.0,41.890396659707726,39.0,43.0,19.0,28.0,41.0,19.0,41.890396659707726,40.0,50.0,47.0,31.0,25.0,35.0,61.0,34.0,18.0,50.0,40.0,41.890396659707726,37.0,32.0,47.0,26.0,64.0,29.0,48.0,44.0,19.0,33.0,64.0,39.0,63.0,41.890396659707726,62.0,41.0,61.0,54.0,65.0,47.0,41.890396659707726,36.0,30.0,33.0,54.0,24.0,50.0,22.0,63.0,42.0,29.0,25.0,36.0,46.0,34.0,35.0,55.0,51.0,32.0,46.0,35.0,63.0,47.0,54.0,60.0,41.0,29.0,25.0,28.0,44.0,55.0,41.0,43.0,38.0,55.0,32.0,62.0,20.0,64.0,47.0,53.0,61.0,34.0,54.0,26.0,47.0,34.0,44.0,48.0,35.0,61.0,24.0,39.0,33.0,20.0,29.0,42.0,35.0,33.0,42.0,27.0,30.0,38.0,61.0,23.0,33.0,39.0,22.0,38.0,63.0,65.0,44.0,61.0,41.890396659707726,33.0,48.0,26.0,58.0,40.0,58.0,19.0,29.0,42.0,65.0,28.0,30.0,25.0,22.0,43.0,37.0,31.0,29.0,44.0,39.0,30.0,31.0,23.0,54.0,48.0,62.0,52.0,18.0,41.0,47.0,41.890396659707726,30.0,30.0,20.0,35.0,57.0,27.0,52.0,30.0,27.0,58.0,49.0,41.0,21.0,54.0,37.0,25.0,36.0,24.0,63.0,22.0,25.0,35.0,45.0,64.0,54.0,41.0,37.0,55.0,24.0,25.0,27.0,52.0,19.0,35.0,36.0,49.0,34.0,56.0,65.0,22.0,61.0,50.0,28.0,50.0,49.0,20.0,41.890396659707726,20.0,35.0,41.0,65.0,36.0,59.0,51.0,54.0,52.0,38.0,40.0,61.0,47.0,26.0,56.0,48.0,24.0,57.0,57.0,27.0,48.0,57.0,45.0,64.0,38.0,27.0,55.0,50.0,23.0,42.0,42.0,47.0,25.0,51.0,41.890396659707726,55.0,61.0,51.0,32.0,58.0,27.0,48.0,53.0,44.0,57.0,41.890396659707726,58.0,41.890396659707726,28.0,50.0,39.0,36.0,63.0,49.0,19.0,47.0,29.0,30.0,23.0,64.0,21.0,49.0,63.0,58.0,62.0,51.0,56.0,58.0,52.0,64.0,41.890396659707726,23.0,40.0,27.0,32.0,30.0,20.0,26.0,35.0,39.0,41.890396659707726,48.0,35.0,51.0,34.0,40.0,19.0,32.0,31.0,41.890396659707726,49.0,42.0,24.0,63.0,33.0,59.0,52.0,64.0,28.0,19.0,38.0,48.0,52.0,51.0,31.0,57.0,57.0,60.0,37.0,56.0,58.0,30.0,61.0,38.0,62.0,57.0,44.0,53.0,63.0,32.0,33.0,45.0,48.0,41.0,60.0,58.0,42.0,43.0,36.0,61.0,36.0,41.890396659707726,64.0,52.0,49.0,52.0,58.0,52.0,41.890396659707726,58.0,64.0,54.0,45.0,39.0,26.0,18.0,59.0,25.0,41.890396659707726,61.0,26.0,43.0,24.0,63.0,37.0,35.0,44.0,59.0,33.0,60.0,33.0,47.0,30.0,44.0,53.0,23.0,64.0,54.0,48.0,63.0,30.0,21.0,19.0,27.0,57.0,35.0,20.0,65.0,60.0,21.0,47.0,56.0,28.0,39.0,25.0,51.0,35.0,53.0,24.0,57.0,25.0,44.0,41.0,36.0,37.0,34.0,37.0,45.0,38.0,60.0,51.0,45.0,36.0,37.0,51.0,28.0,38.0,38.0,49.0,18.0,51.0,61.0,54.0,25.0,51.0,22.0,30.0,33.0,56.0,42.0,39.0,34.0,57.0,46.0,18.0,51.0,45.0,46.0,20.0,47.0,26.0,26.0,47.0,45.0,24.0,53.0,55.0,35.0,23.0,48.0,39.0,47.0,41.890396659707726,43.0,56.0,26.0,40.0,34.0,41.890396659707726,43.0,44.0,52.0,23.0,24.0,37.0,47.0,41.890396659707726,40.0,18.0,50.0,41.890396659707726,25.0,47.0,42.0,41.0,25.0,50.0,21.0,25.0,27.0,23.0,40.0,25.0,25.0,34.0,52.0,22.0,26.0,63.0,39.0,36.0,39.0,56.0,50.0,33.0,60.0,63.0,60.0,58.0,40.0,47.0,52.0,51.0,19.0,54.0,49.0,59.0,47.0,34.0,21.0,29.0,51.0,49.0,59.0,54.0,32.0,18.0,43.0,45.0,37.0,45.0,49.0,37.0,45.0,32.0,18.0,35.0,28.0,26.0,58.0,43.0,23.0,41.0,32.0,33.0,25.0,49.0,58.0,56.0,29.0,41.0,46.0,50.0,46.0,35.0,62.0,46.0,44.0,47.0,36.0,56.0,23.0,18.0,48.0,31.0,23.0,36.0,58.0,29.0,60.0,42.0,60.0,42.0,39.0,54.0,33.0,30.0,24.0,58.0,46.0,64.0,33.0,64.0,65.0,34.0,31.0,22.0,47.0,58.0,18.0,43.0,23.0,29.0,59.0,65.0,42.0,28.0,52.0,64.0,48.0,55.0,31.0,34.0,53.0,37.0,64.0,64.0,49.0,29.0,61.0,50.0,55.0,24.0,40.0,48.0,61.0,56.0,25.0,61.0,44.0,18.0,29.0,45.0,19.0,36.0,63.0,56.0,49.0,28.0,57.0,58.0,31.0,33.0,21.0,54.0,36.0,44.0,25.0,56.0,58.0,31.0,19.0,25.0,60.0,60.0,57.0,22.0,52.0,27.0,29.0,19.0,27.0,37.0,40.0,52.0,61.0,53.0,57.0,41.0,42.0,50.0,29.0,55.0,43.0,55.0,48.0,29.0,46.0,45.0,34.0,26.0,41.890396659707726,34.0,18.0,41.890396659707726,41.890396659707726,29.0,63.0,59.0,26.0,60.0,41.890396659707726,56.0,28.0,46.0,44.0,41.890396659707726,41.890396659707726,20.0,19.0,52.0,38.0,54.0,26.0,41.890396659707726,48.0,36.0,46.0,18.0,57.0,33.0,50.0,62.0,23.0,40.0,64.0,24.0,49.0,51.0,39.0,35.0,53.0,59.0,46.0,47.0,32.0,45.0,29.0,65.0,50.0,28.0,58.0,20.0,63.0,43.0,40.0,57.0,39.0,49.0,57.0,39.0,31.0,47.0,33.0,39.0,64.0,34.0,23.0,24.0,62.0,61.0,47.0,19.0,48.0,35.0,23.0,65.0,52.0,23.0,35.0,39.0,49.0,64.0,33.0,51.0,30.0,52.0,20.0,48.0,58.0,63.0,47.0,44.0,30.0,65.0,56.0,63.0,29.0,41.0,48.0,46.0,43.0,52.0,33.0,35.0,39.0,25.0,22.0,29.0,48.0,20.0,46.0,64.0,52.0,62.0,43.0,25.0,63.0,61.0,65.0,58.0,43.0,52.0,37.0,50.0,54.0,54.0,41.0,31.0,62.0,19.0,40.0,49.0,61.0,36.0,38.0,44.0,57.0,62.0,34.0,29.0,62.0,55.0,33.0,65.0,58.0,59.0,30.0,19.0,53.0,57.0,61.0,45.0,46.0,28.0,25.0,28.0,60.0,56.0,61.0,33.0,34.0,41.0,33.0,21.0,51.0,44.0,49.0,60.0,34.0,46.0,29.0,48.0,45.0,45.0,23.0,35.0,20.0,34.0,51.0,29.0,47.0,45.0,60.0,25.0,36.0,49.0,19.0,60.0,39.0,63.0,23.0,26.0,65.0,51.0,57.0,28.0,23.0,51.0,27.0,22.0,18.0,30.0,43.0,36.0,34.0,19.0,34.0,39.0,33.0,18.0,47.0,24.0,59.0,43.0,54.0,41.0,58.0,29.0,45.0,34.0,65.0,51.0,47.0,20.0,44.0,33.0,42.0,33.0,28.0,59.0,43.0,51.0,59.0,43.0,27.0,19.0,41.0,57.0,27.0,39.0,64.0,49.0,55.0,60.0,62.0,41.0,59.0,41.890396659707726,30.0,43.0,61.0,54.0,51.0,45.0,58.0,41.890396659707726,45.0,46.0,59.0,62.0,29.0,42.0,53.0,42.0,20.0,36.0,45.0,18.0,65.0,44.0,47.0,31.0,26.0,53.0,60.0,33.0,21.0,33.0,35.0,29.0,47.0,20.0,39.0,24.0,42.0,25.0,35.0,29.0,35.0,41.890396659707726,39.0,41.890396659707726,61.0,49.0,47.0,41.890396659707726,28.0,33.0,20.0,46.0,54.0,29.0,36.0,39.0,46.0,19.0,27.0,55.0,41.890396659707726,53.0,32.0,29.0,41.890396659707726,41.890396659707726,45.0,150.0,0.0,90.0],\"yaxis\":\"y\",\"type\":\"scatter\"}],                        {\"template\":{\"data\":{\"histogram2dcontour\":[{\"type\":\"histogram2dcontour\",\"colorbar\":{\"outlinewidth\":0,\"ticks\":\"\"},\"colorscale\":[[0.0,\"#0d0887\"],[0.1111111111111111,\"#46039f\"],[0.2222222222222222,\"#7201a8\"],[0.3333333333333333,\"#9c179e\"],[0.4444444444444444,\"#bd3786\"],[0.5555555555555556,\"#d8576b\"],[0.6666666666666666,\"#ed7953\"],[0.7777777777777778,\"#fb9f3a\"],[0.8888888888888888,\"#fdca26\"],[1.0,\"#f0f921\"]]}],\"choropleth\":[{\"type\":\"choropleth\",\"colorbar\":{\"outlinewidth\":0,\"ticks\":\"\"}}],\"histogram2d\":[{\"type\":\"histogram2d\",\"colorbar\":{\"outlinewidth\":0,\"ticks\":\"\"},\"colorscale\":[[0.0,\"#0d0887\"],[0.1111111111111111,\"#46039f\"],[0.2222222222222222,\"#7201a8\"],[0.3333333333333333,\"#9c179e\"],[0.4444444444444444,\"#bd3786\"],[0.5555555555555556,\"#d8576b\"],[0.6666666666666666,\"#ed7953\"],[0.7777777777777778,\"#fb9f3a\"],[0.8888888888888888,\"#fdca26\"],[1.0,\"#f0f921\"]]}],\"heatmap\":[{\"type\":\"heatmap\",\"colorbar\":{\"outlinewidth\":0,\"ticks\":\"\"},\"colorscale\":[[0.0,\"#0d0887\"],[0.1111111111111111,\"#46039f\"],[0.2222222222222222,\"#7201a8\"],[0.3333333333333333,\"#9c179e\"],[0.4444444444444444,\"#bd3786\"],[0.5555555555555556,\"#d8576b\"],[0.6666666666666666,\"#ed7953\"],[0.7777777777777778,\"#fb9f3a\"],[0.8888888888888888,\"#fdca26\"],[1.0,\"#f0f921\"]]}],\"heatmapgl\":[{\"type\":\"heatmapgl\",\"colorbar\":{\"outlinewidth\":0,\"ticks\":\"\"},\"colorscale\":[[0.0,\"#0d0887\"],[0.1111111111111111,\"#46039f\"],[0.2222222222222222,\"#7201a8\"],[0.3333333333333333,\"#9c179e\"],[0.4444444444444444,\"#bd3786\"],[0.5555555555555556,\"#d8576b\"],[0.6666666666666666,\"#ed7953\"],[0.7777777777777778,\"#fb9f3a\"],[0.8888888888888888,\"#fdca26\"],[1.0,\"#f0f921\"]]}],\"contourcarpet\":[{\"type\":\"contourcarpet\",\"colorbar\":{\"outlinewidth\":0,\"ticks\":\"\"}}],\"contour\":[{\"type\":\"contour\",\"colorbar\":{\"outlinewidth\":0,\"ticks\":\"\"},\"colorscale\":[[0.0,\"#0d0887\"],[0.1111111111111111,\"#46039f\"],[0.2222222222222222,\"#7201a8\"],[0.3333333333333333,\"#9c179e\"],[0.4444444444444444,\"#bd3786\"],[0.5555555555555556,\"#d8576b\"],[0.6666666666666666,\"#ed7953\"],[0.7777777777777778,\"#fb9f3a\"],[0.8888888888888888,\"#fdca26\"],[1.0,\"#f0f921\"]]}],\"surface\":[{\"type\":\"surface\",\"colorbar\":{\"outlinewidth\":0,\"ticks\":\"\"},\"colorscale\":[[0.0,\"#0d0887\"],[0.1111111111111111,\"#46039f\"],[0.2222222222222222,\"#7201a8\"],[0.3333333333333333,\"#9c179e\"],[0.4444444444444444,\"#bd3786\"],[0.5555555555555556,\"#d8576b\"],[0.6666666666666666,\"#ed7953\"],[0.7777777777777778,\"#fb9f3a\"],[0.8888888888888888,\"#fdca26\"],[1.0,\"#f0f921\"]]}],\"mesh3d\":[{\"type\":\"mesh3d\",\"colorbar\":{\"outlinewidth\":0,\"ticks\":\"\"}}],\"scatter\":[{\"fillpattern\":{\"fillmode\":\"overlay\",\"size\":10,\"solidity\":0.2},\"type\":\"scatter\"}],\"parcoords\":[{\"type\":\"parcoords\",\"line\":{\"colorbar\":{\"outlinewidth\":0,\"ticks\":\"\"}}}],\"scatterpolargl\":[{\"type\":\"scatterpolargl\",\"marker\":{\"colorbar\":{\"outlinewidth\":0,\"ticks\":\"\"}}}],\"bar\":[{\"error_x\":{\"color\":\"#2a3f5f\"},\"error_y\":{\"color\":\"#2a3f5f\"},\"marker\":{\"line\":{\"color\":\"#E5ECF6\",\"width\":0.5},\"pattern\":{\"fillmode\":\"overlay\",\"size\":10,\"solidity\":0.2}},\"type\":\"bar\"}],\"scattergeo\":[{\"type\":\"scattergeo\",\"marker\":{\"colorbar\":{\"outlinewidth\":0,\"ticks\":\"\"}}}],\"scatterpolar\":[{\"type\":\"scatterpolar\",\"marker\":{\"colorbar\":{\"outlinewidth\":0,\"ticks\":\"\"}}}],\"histogram\":[{\"marker\":{\"pattern\":{\"fillmode\":\"overlay\",\"size\":10,\"solidity\":0.2}},\"type\":\"histogram\"}],\"scattergl\":[{\"type\":\"scattergl\",\"marker\":{\"colorbar\":{\"outlinewidth\":0,\"ticks\":\"\"}}}],\"scatter3d\":[{\"type\":\"scatter3d\",\"line\":{\"colorbar\":{\"outlinewidth\":0,\"ticks\":\"\"}},\"marker\":{\"colorbar\":{\"outlinewidth\":0,\"ticks\":\"\"}}}],\"scattermapbox\":[{\"type\":\"scattermapbox\",\"marker\":{\"colorbar\":{\"outlinewidth\":0,\"ticks\":\"\"}}}],\"scatterternary\":[{\"type\":\"scatterternary\",\"marker\":{\"colorbar\":{\"outlinewidth\":0,\"ticks\":\"\"}}}],\"scattercarpet\":[{\"type\":\"scattercarpet\",\"marker\":{\"colorbar\":{\"outlinewidth\":0,\"ticks\":\"\"}}}],\"carpet\":[{\"aaxis\":{\"endlinecolor\":\"#2a3f5f\",\"gridcolor\":\"white\",\"linecolor\":\"white\",\"minorgridcolor\":\"white\",\"startlinecolor\":\"#2a3f5f\"},\"baxis\":{\"endlinecolor\":\"#2a3f5f\",\"gridcolor\":\"white\",\"linecolor\":\"white\",\"minorgridcolor\":\"white\",\"startlinecolor\":\"#2a3f5f\"},\"type\":\"carpet\"}],\"table\":[{\"cells\":{\"fill\":{\"color\":\"#EBF0F8\"},\"line\":{\"color\":\"white\"}},\"header\":{\"fill\":{\"color\":\"#C8D4E3\"},\"line\":{\"color\":\"white\"}},\"type\":\"table\"}],\"barpolar\":[{\"marker\":{\"line\":{\"color\":\"#E5ECF6\",\"width\":0.5},\"pattern\":{\"fillmode\":\"overlay\",\"size\":10,\"solidity\":0.2}},\"type\":\"barpolar\"}],\"pie\":[{\"automargin\":true,\"type\":\"pie\"}]},\"layout\":{\"autotypenumbers\":\"strict\",\"colorway\":[\"#636efa\",\"#EF553B\",\"#00cc96\",\"#ab63fa\",\"#FFA15A\",\"#19d3f3\",\"#FF6692\",\"#B6E880\",\"#FF97FF\",\"#FECB52\"],\"font\":{\"color\":\"#2a3f5f\"},\"hovermode\":\"closest\",\"hoverlabel\":{\"align\":\"left\"},\"paper_bgcolor\":\"white\",\"plot_bgcolor\":\"#E5ECF6\",\"polar\":{\"bgcolor\":\"#E5ECF6\",\"angularaxis\":{\"gridcolor\":\"white\",\"linecolor\":\"white\",\"ticks\":\"\"},\"radialaxis\":{\"gridcolor\":\"white\",\"linecolor\":\"white\",\"ticks\":\"\"}},\"ternary\":{\"bgcolor\":\"#E5ECF6\",\"aaxis\":{\"gridcolor\":\"white\",\"linecolor\":\"white\",\"ticks\":\"\"},\"baxis\":{\"gridcolor\":\"white\",\"linecolor\":\"white\",\"ticks\":\"\"},\"caxis\":{\"gridcolor\":\"white\",\"linecolor\":\"white\",\"ticks\":\"\"}},\"coloraxis\":{\"colorbar\":{\"outlinewidth\":0,\"ticks\":\"\"}},\"colorscale\":{\"sequential\":[[0.0,\"#0d0887\"],[0.1111111111111111,\"#46039f\"],[0.2222222222222222,\"#7201a8\"],[0.3333333333333333,\"#9c179e\"],[0.4444444444444444,\"#bd3786\"],[0.5555555555555556,\"#d8576b\"],[0.6666666666666666,\"#ed7953\"],[0.7777777777777778,\"#fb9f3a\"],[0.8888888888888888,\"#fdca26\"],[1.0,\"#f0f921\"]],\"sequentialminus\":[[0.0,\"#0d0887\"],[0.1111111111111111,\"#46039f\"],[0.2222222222222222,\"#7201a8\"],[0.3333333333333333,\"#9c179e\"],[0.4444444444444444,\"#bd3786\"],[0.5555555555555556,\"#d8576b\"],[0.6666666666666666,\"#ed7953\"],[0.7777777777777778,\"#fb9f3a\"],[0.8888888888888888,\"#fdca26\"],[1.0,\"#f0f921\"]],\"diverging\":[[0,\"#8e0152\"],[0.1,\"#c51b7d\"],[0.2,\"#de77ae\"],[0.3,\"#f1b6da\"],[0.4,\"#fde0ef\"],[0.5,\"#f7f7f7\"],[0.6,\"#e6f5d0\"],[0.7,\"#b8e186\"],[0.8,\"#7fbc41\"],[0.9,\"#4d9221\"],[1,\"#276419\"]]},\"xaxis\":{\"gridcolor\":\"white\",\"linecolor\":\"white\",\"ticks\":\"\",\"title\":{\"standoff\":15},\"zerolinecolor\":\"white\",\"automargin\":true,\"zerolinewidth\":2},\"yaxis\":{\"gridcolor\":\"white\",\"linecolor\":\"white\",\"ticks\":\"\",\"title\":{\"standoff\":15},\"zerolinecolor\":\"white\",\"automargin\":true,\"zerolinewidth\":2},\"scene\":{\"xaxis\":{\"backgroundcolor\":\"#E5ECF6\",\"gridcolor\":\"white\",\"linecolor\":\"white\",\"showbackground\":true,\"ticks\":\"\",\"zerolinecolor\":\"white\",\"gridwidth\":2},\"yaxis\":{\"backgroundcolor\":\"#E5ECF6\",\"gridcolor\":\"white\",\"linecolor\":\"white\",\"showbackground\":true,\"ticks\":\"\",\"zerolinecolor\":\"white\",\"gridwidth\":2},\"zaxis\":{\"backgroundcolor\":\"#E5ECF6\",\"gridcolor\":\"white\",\"linecolor\":\"white\",\"showbackground\":true,\"ticks\":\"\",\"zerolinecolor\":\"white\",\"gridwidth\":2}},\"shapedefaults\":{\"line\":{\"color\":\"#2a3f5f\"}},\"annotationdefaults\":{\"arrowcolor\":\"#2a3f5f\",\"arrowhead\":0,\"arrowwidth\":1},\"geo\":{\"bgcolor\":\"white\",\"landcolor\":\"#E5ECF6\",\"subunitcolor\":\"white\",\"showland\":true,\"showlakes\":true,\"lakecolor\":\"white\"},\"title\":{\"x\":0.05},\"mapbox\":{\"style\":\"light\"}}},\"xaxis\":{\"anchor\":\"y\",\"domain\":[0.0,1.0],\"title\":{\"text\":\"Index\"},\"showgrid\":true,\"gridwidth\":1,\"gridcolor\":\"skyblue\"},\"yaxis\":{\"anchor\":\"x\",\"domain\":[0.0,1.0],\"title\":{\"text\":\"Age\"},\"showgrid\":true,\"gridwidth\":1,\"gridcolor\":\"skyblue\"},\"coloraxis\":{\"colorbar\":{\"title\":{\"text\":\"lof_anomaly\"}},\"colorscale\":[[0.0,\"#0d0887\"],[0.1111111111111111,\"#46039f\"],[0.2222222222222222,\"#7201a8\"],[0.3333333333333333,\"#9c179e\"],[0.4444444444444444,\"#bd3786\"],[0.5555555555555556,\"#d8576b\"],[0.6666666666666666,\"#ed7953\"],[0.7777777777777778,\"#fb9f3a\"],[0.8888888888888888,\"#fdca26\"],[1.0,\"#f0f921\"]]},\"legend\":{\"tracegroupgap\":0},\"margin\":{\"t\":60},\"title\":{\"text\":\"Scatter Plot of Age with LOF Anomalies Highlighted\"},\"showlegend\":true,\"plot_bgcolor\":\"rgba(0,0,0,0)\"},                        {\"responsive\": true}                    ).then(function(){\n",
              "                            \n",
              "var gd = document.getElementById('0aeeec6c-87af-41db-a2d4-3f40cf3d301f');\n",
              "var x = new MutationObserver(function (mutations, observer) {{\n",
              "        var display = window.getComputedStyle(gd).display;\n",
              "        if (!display || display === 'none') {{\n",
              "            console.log([gd, 'removed!']);\n",
              "            Plotly.purge(gd);\n",
              "            observer.disconnect();\n",
              "        }}\n",
              "}});\n",
              "\n",
              "// Listen for the removal of the full notebook cells\n",
              "var notebookContainer = gd.closest('#notebook-container');\n",
              "if (notebookContainer) {{\n",
              "    x.observe(notebookContainer, {childList: true});\n",
              "}}\n",
              "\n",
              "// Listen for the clearing of the current output cell\n",
              "var outputEl = gd.closest('.output');\n",
              "if (outputEl) {{\n",
              "    x.observe(outputEl, {childList: true});\n",
              "}}\n",
              "\n",
              "                        })                };                            </script>        </div>\n",
              "</body>\n",
              "</html>"
            ]
          },
          "metadata": {}
        }
      ],
      "source": [
        "scatter_fig_lof = px.scatter(df, x=df.index, y='age', color='lof_anomaly',\n",
        "                             color_discrete_map={1: 'blue', -1: 'red'},\n",
        "                             labels={'color': 'Anomaly'})\n",
        "\n",
        "scatter_fig_lof.update_layout(\n",
        "    title='Scatter Plot of Age with LOF Anomalies Highlighted',\n",
        "    xaxis_title='Index',\n",
        "    yaxis_title='Age',\n",
        "    showlegend=True,\n",
        "    plot_bgcolor='rgba(0,0,0,0)',  # Remove background color\n",
        "    xaxis=dict(showgrid=True, gridwidth=1, gridcolor='skyblue'),  # Add x-axis gridlines\n",
        "    yaxis=dict(showgrid=True, gridwidth=1, gridcolor='skyblue'),  # Add y-axis gridlines\n",
        ")\n",
        "scatter_fig_lof.show()"
      ]
    },
    {
      "cell_type": "markdown",
      "id": "088bc4de-e36b-42a1-906d-370f116be1c7",
      "metadata": {
        "id": "088bc4de-e36b-42a1-906d-370f116be1c7"
      },
      "source": [
        "> # **Box Plot for LOF**"
      ]
    },
    {
      "cell_type": "code",
      "execution_count": 62,
      "id": "bbc3b33c-6930-4b58-a3a4-da9456471a20",
      "metadata": {
        "colab": {
          "base_uri": "https://localhost:8080/",
          "height": 611
        },
        "id": "bbc3b33c-6930-4b58-a3a4-da9456471a20",
        "outputId": "90698943-d699-4bca-c457-1fbf0c7d06d9"
      },
      "outputs": [
        {
          "output_type": "display_data",
          "data": {
            "text/html": [
              "<html>\n",
              "<head><meta charset=\"utf-8\" /></head>\n",
              "<body>\n",
              "    <div>            <script src=\"https://cdnjs.cloudflare.com/ajax/libs/mathjax/2.7.5/MathJax.js?config=TeX-AMS-MML_SVG\"></script><script type=\"text/javascript\">if (window.MathJax && window.MathJax.Hub && window.MathJax.Hub.Config) {window.MathJax.Hub.Config({SVG: {font: \"STIX-Web\"}});}</script>                <script type=\"text/javascript\">window.PlotlyConfig = {MathJaxConfig: 'local'};</script>\n",
              "        <script charset=\"utf-8\" src=\"https://cdn.plot.ly/plotly-2.24.1.min.js\"></script>                <div id=\"68f801cb-80d0-4881-aa2e-ed54dbcf9929\" class=\"plotly-graph-div\" style=\"height:525px; width:100%;\"></div>            <script type=\"text/javascript\">                                    window.PLOTLYENV=window.PLOTLYENV || {};                                    if (document.getElementById(\"68f801cb-80d0-4881-aa2e-ed54dbcf9929\")) {                    Plotly.newPlot(                        \"68f801cb-80d0-4881-aa2e-ed54dbcf9929\",                        [{\"alignmentgroup\":\"True\",\"hovertemplate\":\"Anomaly=%{x}\\u003cbr\\u003eAge=%{y}\\u003cextra\\u003e\\u003c\\u002fextra\\u003e\",\"legendgroup\":\"1\",\"marker\":{\"color\":\"blue\"},\"name\":\"1\",\"notched\":false,\"offsetgroup\":\"1\",\"orientation\":\"v\",\"showlegend\":true,\"x\":[1,1,1,1,1,1,1,1,1,1,1,1,1,1,1,1,1,1,1,1,1,1,1,1,1,1,1,1,1,1,1,1,1,1,1,1,1,1,1,1,1,1,1,1,1,1,1,1,1,1,1,1,1,1,1,1,1,1,1,1,1,1,1,1,1,1,1,1,1,1,1,1,1,1,1,1,1,1,1,1,1,1,1,1,1,1,1,1,1,1,1,1,1,1,1,1,1,1,1,1,1,1,1,1,1,1,1,1,1,1,1,1,1,1,1,1,1,1,1,1,1,1,1,1,1,1,1,1,1,1,1,1,1,1,1,1,1,1,1,1,1,1,1,1,1,1,1,1,1,1,1,1,1,1,1,1,1,1,1,1,1,1,1,1,1,1,1,1,1,1,1,1,1,1,1,1,1,1,1,1,1,1,1,1,1,1,1,1,1,1,1,1,1,1,1,1,1,1,1,1,1,1,1,1,1,1,1,1,1,1,1,1,1,1,1,1,1,1,1,1,1,1,1,1,1,1,1,1,1,1,1,1,1,1,1,1,1,1,1,1,1,1,1,1,1,1,1,1,1,1,1,1,1,1,1,1,1,1,1,1,1,1,1,1,1,1,1,1,1,1,1,1,1,1,1,1,1,1,1,1,1,1,1,1,1,1,1,1,1,1,1,1,1,1,1,1,1,1,1,1,1,1,1,1,1,1,1,1,1,1,1,1,1,1,1,1,1,1,1,1,1,1,1,1,1,1,1,1,1,1,1,1,1,1,1,1,1,1,1,1,1,1,1,1,1,1,1,1,1,1,1,1,1,1,1,1,1,1,1,1,1,1,1,1,1,1,1,1,1,1,1,1,1,1,1,1,1,1,1,1,1,1,1,1,1,1,1,1,1,1,1,1,1,1,1,1,1,1,1,1,1,1,1,1,1,1,1,1,1,1,1,1,1,1,1,1,1,1,1,1,1,1,1,1,1,1,1,1,1,1,1,1,1,1,1,1,1,1,1,1,1,1,1,1,1,1,1,1,1,1,1,1,1,1,1,1,1,1,1,1,1,1,1,1,1,1,1,1,1,1,1,1,1,1,1,1,1,1,1,1,1,1,1,1,1,1,1,1,1,1,1,1,1,1,1,1,1,1,1,1,1,1,1,1,1,1,1,1,1,1,1,1,1,1,1,1,1,1,1,1,1,1,1,1,1,1,1,1,1,1,1,1,1,1,1,1,1,1,1,1,1,1,1,1,1,1,1,1,1,1,1,1,1,1,1,1,1,1,1,1,1,1,1,1,1,1,1,1,1,1,1,1,1,1,1,1,1,1,1,1,1,1,1,1,1,1,1,1,1,1,1,1,1,1,1,1,1,1,1,1,1,1,1,1,1,1,1,1,1,1,1,1,1,1,1,1,1,1,1,1,1,1,1,1,1,1,1,1,1,1,1,1,1,1,1,1,1,1,1,1,1,1,1,1,1,1,1,1,1,1,1,1,1,1,1,1,1,1,1,1,1,1,1,1,1,1,1,1,1,1,1,1,1,1,1,1,1,1,1,1,1,1,1,1,1,1,1,1,1,1,1,1,1,1,1,1,1,1,1,1,1,1,1,1,1,1,1,1,1,1,1,1,1,1,1,1,1,1,1,1,1,1,1,1,1,1,1,1,1,1,1,1,1,1,1,1,1,1,1,1,1,1,1,1,1,1,1,1,1,1,1,1,1,1,1,1,1,1,1,1,1,1,1,1,1,1,1,1,1,1,1,1,1,1,1,1,1,1,1,1,1,1,1,1,1,1,1,1,1,1,1,1,1,1,1,1,1,1,1,1,1,1,1,1,1,1,1,1,1,1,1,1,1,1,1,1,1,1,1,1,1,1,1,1,1,1,1,1,1,1,1,1,1,1,1,1,1,1,1,1,1,1,1,1,1,1,1,1,1,1,1,1,1,1,1,1,1,1,1,1,1,1,1,1,1,1,1,1,1,1,1,1,1,1,1,1,1,1,1,1,1,1,1,1,1,1,1,1,1,1,1,1,1,1,1,1,1,1,1,1,1,1,1,1,1,1,1,1,1,1,1,1,1,1,1,1,1,1,1,1,1,1,1,1,1,1,1,1,1,1,1,1,1,1,1,1,1,1,1,1,1,1,1,1,1,1,1,1,1,1,1,1,1,1,1,1,1,1,1,1,1,1,1,1,1,1,1,1,1,1,1,1,1,1,1,1,1,1,1,1,1,1,1,1,1,1,1,1,1,1,1,1,1,1,1,1,1],\"x0\":\" \",\"xaxis\":\"x\",\"y\":[36.0,41.890396659707726,21.0,57.0,54.0,41.890396659707726,24.0,35.0,38.0,33.0,61.0,30.0,51.0,41.890396659707726,24.0,18.0,35.0,54.0,41.890396659707726,45.0,35.0,57.0,55.0,41.890396659707726,22.0,38.0,33.0,39.0,22.0,45.0,25.0,41.890396659707726,28.0,63.0,18.0,20.0,26.0,48.0,57.0,41.890396659707726,39.0,43.0,19.0,28.0,41.0,19.0,41.890396659707726,40.0,50.0,47.0,31.0,25.0,35.0,61.0,34.0,18.0,50.0,40.0,41.890396659707726,37.0,32.0,47.0,26.0,64.0,29.0,48.0,44.0,19.0,33.0,64.0,39.0,63.0,41.890396659707726,62.0,41.0,61.0,54.0,65.0,47.0,41.890396659707726,36.0,30.0,33.0,54.0,24.0,50.0,22.0,63.0,42.0,29.0,25.0,36.0,46.0,34.0,35.0,55.0,51.0,32.0,46.0,35.0,63.0,47.0,54.0,60.0,41.0,29.0,25.0,28.0,44.0,55.0,41.0,43.0,38.0,55.0,32.0,62.0,20.0,64.0,47.0,53.0,61.0,34.0,54.0,26.0,47.0,34.0,44.0,48.0,35.0,61.0,24.0,39.0,33.0,20.0,29.0,42.0,35.0,33.0,42.0,27.0,30.0,38.0,61.0,23.0,33.0,39.0,22.0,38.0,63.0,65.0,44.0,61.0,41.890396659707726,33.0,48.0,26.0,58.0,40.0,58.0,19.0,29.0,42.0,65.0,28.0,30.0,25.0,22.0,43.0,37.0,31.0,29.0,44.0,39.0,30.0,31.0,23.0,54.0,48.0,62.0,52.0,18.0,41.0,47.0,41.890396659707726,30.0,30.0,20.0,35.0,57.0,27.0,52.0,30.0,27.0,58.0,49.0,41.0,21.0,54.0,37.0,25.0,36.0,24.0,63.0,22.0,25.0,35.0,45.0,64.0,54.0,41.0,37.0,55.0,24.0,25.0,27.0,52.0,19.0,35.0,36.0,49.0,34.0,56.0,65.0,22.0,61.0,50.0,28.0,50.0,49.0,20.0,41.890396659707726,20.0,35.0,41.0,65.0,36.0,59.0,51.0,54.0,52.0,38.0,40.0,61.0,47.0,26.0,56.0,48.0,24.0,57.0,57.0,27.0,48.0,57.0,45.0,64.0,38.0,27.0,55.0,50.0,23.0,42.0,42.0,47.0,25.0,51.0,41.890396659707726,55.0,61.0,51.0,32.0,58.0,27.0,48.0,53.0,44.0,57.0,41.890396659707726,58.0,41.890396659707726,28.0,50.0,39.0,36.0,63.0,49.0,19.0,47.0,29.0,30.0,23.0,64.0,21.0,49.0,63.0,58.0,62.0,51.0,56.0,58.0,52.0,64.0,41.890396659707726,23.0,40.0,27.0,32.0,30.0,20.0,26.0,35.0,39.0,41.890396659707726,48.0,35.0,51.0,34.0,40.0,19.0,32.0,31.0,41.890396659707726,49.0,42.0,24.0,63.0,33.0,59.0,52.0,64.0,28.0,19.0,38.0,48.0,52.0,51.0,31.0,57.0,57.0,60.0,37.0,56.0,58.0,30.0,61.0,38.0,62.0,57.0,44.0,53.0,63.0,32.0,33.0,45.0,48.0,41.0,60.0,58.0,42.0,43.0,36.0,61.0,36.0,41.890396659707726,64.0,52.0,49.0,52.0,58.0,52.0,41.890396659707726,58.0,64.0,54.0,45.0,39.0,26.0,18.0,59.0,25.0,41.890396659707726,61.0,26.0,43.0,24.0,63.0,37.0,35.0,44.0,59.0,33.0,60.0,33.0,47.0,30.0,44.0,53.0,23.0,64.0,54.0,48.0,63.0,30.0,21.0,19.0,27.0,57.0,35.0,20.0,65.0,60.0,21.0,47.0,56.0,28.0,39.0,25.0,51.0,35.0,53.0,24.0,57.0,25.0,44.0,41.0,36.0,37.0,34.0,37.0,45.0,38.0,60.0,51.0,45.0,36.0,37.0,51.0,28.0,38.0,38.0,49.0,18.0,51.0,61.0,54.0,25.0,51.0,22.0,30.0,33.0,56.0,42.0,39.0,34.0,57.0,46.0,18.0,51.0,45.0,46.0,20.0,47.0,26.0,26.0,47.0,45.0,24.0,53.0,55.0,35.0,23.0,48.0,39.0,47.0,41.890396659707726,43.0,56.0,26.0,40.0,34.0,41.890396659707726,43.0,44.0,52.0,23.0,24.0,37.0,47.0,41.890396659707726,40.0,18.0,50.0,41.890396659707726,25.0,47.0,42.0,41.0,25.0,50.0,21.0,25.0,27.0,23.0,40.0,25.0,25.0,34.0,52.0,22.0,26.0,63.0,39.0,36.0,39.0,56.0,50.0,33.0,60.0,63.0,60.0,58.0,40.0,47.0,52.0,51.0,19.0,54.0,49.0,59.0,47.0,34.0,21.0,29.0,51.0,49.0,59.0,54.0,32.0,18.0,43.0,45.0,37.0,45.0,49.0,37.0,45.0,32.0,18.0,35.0,28.0,26.0,58.0,43.0,23.0,41.0,32.0,33.0,25.0,49.0,58.0,56.0,29.0,41.0,46.0,50.0,46.0,35.0,62.0,46.0,44.0,47.0,36.0,56.0,23.0,18.0,48.0,31.0,23.0,36.0,58.0,29.0,60.0,42.0,60.0,42.0,39.0,54.0,33.0,30.0,24.0,58.0,46.0,64.0,33.0,64.0,65.0,34.0,31.0,22.0,47.0,58.0,18.0,43.0,23.0,29.0,59.0,65.0,42.0,28.0,52.0,64.0,48.0,55.0,31.0,34.0,53.0,37.0,64.0,64.0,49.0,29.0,61.0,50.0,55.0,24.0,40.0,48.0,61.0,56.0,25.0,61.0,44.0,18.0,29.0,45.0,19.0,36.0,63.0,56.0,49.0,28.0,57.0,58.0,31.0,33.0,21.0,54.0,36.0,44.0,25.0,56.0,58.0,31.0,19.0,25.0,60.0,60.0,57.0,22.0,52.0,27.0,29.0,19.0,27.0,37.0,40.0,52.0,61.0,53.0,57.0,41.0,42.0,50.0,29.0,55.0,43.0,55.0,48.0,29.0,46.0,45.0,34.0,26.0,41.890396659707726,34.0,18.0,41.890396659707726,41.890396659707726,29.0,63.0,59.0,26.0,60.0,41.890396659707726,56.0,28.0,46.0,44.0,41.890396659707726,41.890396659707726,20.0,19.0,52.0,38.0,54.0,26.0,41.890396659707726,48.0,36.0,46.0,18.0,57.0,33.0,50.0,62.0,23.0,40.0,64.0,24.0,49.0,51.0,39.0,35.0,53.0,59.0,46.0,47.0,32.0,45.0,29.0,65.0,50.0,28.0,58.0,20.0,63.0,43.0,40.0,57.0,39.0,49.0,57.0,39.0,31.0,47.0,33.0,39.0,64.0,34.0,23.0,24.0,62.0,61.0,47.0,19.0,48.0,35.0,23.0,65.0,52.0,23.0,35.0,39.0,49.0,64.0,33.0,51.0,30.0,52.0,20.0,48.0,58.0,63.0,47.0,44.0,30.0,65.0,56.0,63.0,29.0,41.0,48.0,46.0,43.0,52.0,33.0,35.0,39.0,25.0,22.0,29.0,48.0,20.0,46.0,64.0,52.0,62.0,43.0,25.0,63.0,61.0,65.0,58.0,43.0,52.0,37.0,50.0,54.0,54.0,41.0,31.0,62.0,19.0,40.0,49.0,61.0,36.0,38.0,44.0,57.0,62.0,34.0,29.0,62.0,55.0,33.0,65.0,58.0,59.0,30.0,19.0,53.0,57.0,61.0,45.0,46.0,28.0,25.0,28.0,60.0,56.0,61.0,33.0,34.0,41.0,33.0,21.0,51.0,44.0,49.0,60.0,34.0,46.0,29.0,48.0,45.0,45.0,23.0,35.0,20.0,34.0,51.0,29.0,47.0,45.0,60.0,25.0,36.0,49.0,19.0,60.0,39.0,63.0,23.0,26.0,65.0,51.0,57.0,28.0,23.0,51.0,27.0,22.0,18.0,30.0,43.0,36.0,34.0,19.0,34.0,39.0,33.0,18.0,47.0,24.0,59.0,43.0,54.0,41.0,58.0,29.0,45.0,34.0,65.0,51.0,47.0,20.0,44.0,33.0,42.0,33.0,28.0,59.0,43.0,51.0,59.0,43.0,27.0,19.0,41.0,57.0,27.0,39.0,64.0,49.0,55.0,60.0,62.0,41.0,59.0,41.890396659707726,30.0,43.0,61.0,54.0,51.0,45.0,58.0,41.890396659707726,45.0,46.0,59.0,62.0,29.0,42.0,53.0,42.0,20.0,36.0,45.0,18.0,65.0,44.0,47.0,31.0,26.0,53.0,60.0,33.0,21.0,33.0,35.0,29.0,47.0,20.0,39.0,24.0,42.0,25.0,35.0,29.0,35.0,41.890396659707726,39.0,41.890396659707726,61.0,49.0,47.0,41.890396659707726,28.0,33.0,20.0,46.0,54.0,29.0,36.0,39.0,46.0,19.0,27.0,55.0,41.890396659707726,53.0,32.0,29.0,41.890396659707726,41.890396659707726,45.0],\"y0\":\" \",\"yaxis\":\"y\",\"type\":\"box\"},{\"alignmentgroup\":\"True\",\"hovertemplate\":\"Anomaly=%{x}\\u003cbr\\u003eAge=%{y}\\u003cextra\\u003e\\u003c\\u002fextra\\u003e\",\"legendgroup\":\"-1\",\"marker\":{\"color\":\"red\"},\"name\":\"-1\",\"notched\":false,\"offsetgroup\":\"-1\",\"orientation\":\"v\",\"showlegend\":true,\"x\":[-1,-1,-1],\"x0\":\" \",\"xaxis\":\"x\",\"y\":[150.0,0.0,90.0],\"y0\":\" \",\"yaxis\":\"y\",\"type\":\"box\"}],                        {\"template\":{\"data\":{\"histogram2dcontour\":[{\"type\":\"histogram2dcontour\",\"colorbar\":{\"outlinewidth\":0,\"ticks\":\"\"},\"colorscale\":[[0.0,\"#0d0887\"],[0.1111111111111111,\"#46039f\"],[0.2222222222222222,\"#7201a8\"],[0.3333333333333333,\"#9c179e\"],[0.4444444444444444,\"#bd3786\"],[0.5555555555555556,\"#d8576b\"],[0.6666666666666666,\"#ed7953\"],[0.7777777777777778,\"#fb9f3a\"],[0.8888888888888888,\"#fdca26\"],[1.0,\"#f0f921\"]]}],\"choropleth\":[{\"type\":\"choropleth\",\"colorbar\":{\"outlinewidth\":0,\"ticks\":\"\"}}],\"histogram2d\":[{\"type\":\"histogram2d\",\"colorbar\":{\"outlinewidth\":0,\"ticks\":\"\"},\"colorscale\":[[0.0,\"#0d0887\"],[0.1111111111111111,\"#46039f\"],[0.2222222222222222,\"#7201a8\"],[0.3333333333333333,\"#9c179e\"],[0.4444444444444444,\"#bd3786\"],[0.5555555555555556,\"#d8576b\"],[0.6666666666666666,\"#ed7953\"],[0.7777777777777778,\"#fb9f3a\"],[0.8888888888888888,\"#fdca26\"],[1.0,\"#f0f921\"]]}],\"heatmap\":[{\"type\":\"heatmap\",\"colorbar\":{\"outlinewidth\":0,\"ticks\":\"\"},\"colorscale\":[[0.0,\"#0d0887\"],[0.1111111111111111,\"#46039f\"],[0.2222222222222222,\"#7201a8\"],[0.3333333333333333,\"#9c179e\"],[0.4444444444444444,\"#bd3786\"],[0.5555555555555556,\"#d8576b\"],[0.6666666666666666,\"#ed7953\"],[0.7777777777777778,\"#fb9f3a\"],[0.8888888888888888,\"#fdca26\"],[1.0,\"#f0f921\"]]}],\"heatmapgl\":[{\"type\":\"heatmapgl\",\"colorbar\":{\"outlinewidth\":0,\"ticks\":\"\"},\"colorscale\":[[0.0,\"#0d0887\"],[0.1111111111111111,\"#46039f\"],[0.2222222222222222,\"#7201a8\"],[0.3333333333333333,\"#9c179e\"],[0.4444444444444444,\"#bd3786\"],[0.5555555555555556,\"#d8576b\"],[0.6666666666666666,\"#ed7953\"],[0.7777777777777778,\"#fb9f3a\"],[0.8888888888888888,\"#fdca26\"],[1.0,\"#f0f921\"]]}],\"contourcarpet\":[{\"type\":\"contourcarpet\",\"colorbar\":{\"outlinewidth\":0,\"ticks\":\"\"}}],\"contour\":[{\"type\":\"contour\",\"colorbar\":{\"outlinewidth\":0,\"ticks\":\"\"},\"colorscale\":[[0.0,\"#0d0887\"],[0.1111111111111111,\"#46039f\"],[0.2222222222222222,\"#7201a8\"],[0.3333333333333333,\"#9c179e\"],[0.4444444444444444,\"#bd3786\"],[0.5555555555555556,\"#d8576b\"],[0.6666666666666666,\"#ed7953\"],[0.7777777777777778,\"#fb9f3a\"],[0.8888888888888888,\"#fdca26\"],[1.0,\"#f0f921\"]]}],\"surface\":[{\"type\":\"surface\",\"colorbar\":{\"outlinewidth\":0,\"ticks\":\"\"},\"colorscale\":[[0.0,\"#0d0887\"],[0.1111111111111111,\"#46039f\"],[0.2222222222222222,\"#7201a8\"],[0.3333333333333333,\"#9c179e\"],[0.4444444444444444,\"#bd3786\"],[0.5555555555555556,\"#d8576b\"],[0.6666666666666666,\"#ed7953\"],[0.7777777777777778,\"#fb9f3a\"],[0.8888888888888888,\"#fdca26\"],[1.0,\"#f0f921\"]]}],\"mesh3d\":[{\"type\":\"mesh3d\",\"colorbar\":{\"outlinewidth\":0,\"ticks\":\"\"}}],\"scatter\":[{\"fillpattern\":{\"fillmode\":\"overlay\",\"size\":10,\"solidity\":0.2},\"type\":\"scatter\"}],\"parcoords\":[{\"type\":\"parcoords\",\"line\":{\"colorbar\":{\"outlinewidth\":0,\"ticks\":\"\"}}}],\"scatterpolargl\":[{\"type\":\"scatterpolargl\",\"marker\":{\"colorbar\":{\"outlinewidth\":0,\"ticks\":\"\"}}}],\"bar\":[{\"error_x\":{\"color\":\"#2a3f5f\"},\"error_y\":{\"color\":\"#2a3f5f\"},\"marker\":{\"line\":{\"color\":\"#E5ECF6\",\"width\":0.5},\"pattern\":{\"fillmode\":\"overlay\",\"size\":10,\"solidity\":0.2}},\"type\":\"bar\"}],\"scattergeo\":[{\"type\":\"scattergeo\",\"marker\":{\"colorbar\":{\"outlinewidth\":0,\"ticks\":\"\"}}}],\"scatterpolar\":[{\"type\":\"scatterpolar\",\"marker\":{\"colorbar\":{\"outlinewidth\":0,\"ticks\":\"\"}}}],\"histogram\":[{\"marker\":{\"pattern\":{\"fillmode\":\"overlay\",\"size\":10,\"solidity\":0.2}},\"type\":\"histogram\"}],\"scattergl\":[{\"type\":\"scattergl\",\"marker\":{\"colorbar\":{\"outlinewidth\":0,\"ticks\":\"\"}}}],\"scatter3d\":[{\"type\":\"scatter3d\",\"line\":{\"colorbar\":{\"outlinewidth\":0,\"ticks\":\"\"}},\"marker\":{\"colorbar\":{\"outlinewidth\":0,\"ticks\":\"\"}}}],\"scattermapbox\":[{\"type\":\"scattermapbox\",\"marker\":{\"colorbar\":{\"outlinewidth\":0,\"ticks\":\"\"}}}],\"scatterternary\":[{\"type\":\"scatterternary\",\"marker\":{\"colorbar\":{\"outlinewidth\":0,\"ticks\":\"\"}}}],\"scattercarpet\":[{\"type\":\"scattercarpet\",\"marker\":{\"colorbar\":{\"outlinewidth\":0,\"ticks\":\"\"}}}],\"carpet\":[{\"aaxis\":{\"endlinecolor\":\"#2a3f5f\",\"gridcolor\":\"white\",\"linecolor\":\"white\",\"minorgridcolor\":\"white\",\"startlinecolor\":\"#2a3f5f\"},\"baxis\":{\"endlinecolor\":\"#2a3f5f\",\"gridcolor\":\"white\",\"linecolor\":\"white\",\"minorgridcolor\":\"white\",\"startlinecolor\":\"#2a3f5f\"},\"type\":\"carpet\"}],\"table\":[{\"cells\":{\"fill\":{\"color\":\"#EBF0F8\"},\"line\":{\"color\":\"white\"}},\"header\":{\"fill\":{\"color\":\"#C8D4E3\"},\"line\":{\"color\":\"white\"}},\"type\":\"table\"}],\"barpolar\":[{\"marker\":{\"line\":{\"color\":\"#E5ECF6\",\"width\":0.5},\"pattern\":{\"fillmode\":\"overlay\",\"size\":10,\"solidity\":0.2}},\"type\":\"barpolar\"}],\"pie\":[{\"automargin\":true,\"type\":\"pie\"}]},\"layout\":{\"autotypenumbers\":\"strict\",\"colorway\":[\"#636efa\",\"#EF553B\",\"#00cc96\",\"#ab63fa\",\"#FFA15A\",\"#19d3f3\",\"#FF6692\",\"#B6E880\",\"#FF97FF\",\"#FECB52\"],\"font\":{\"color\":\"#2a3f5f\"},\"hovermode\":\"closest\",\"hoverlabel\":{\"align\":\"left\"},\"paper_bgcolor\":\"white\",\"plot_bgcolor\":\"#E5ECF6\",\"polar\":{\"bgcolor\":\"#E5ECF6\",\"angularaxis\":{\"gridcolor\":\"white\",\"linecolor\":\"white\",\"ticks\":\"\"},\"radialaxis\":{\"gridcolor\":\"white\",\"linecolor\":\"white\",\"ticks\":\"\"}},\"ternary\":{\"bgcolor\":\"#E5ECF6\",\"aaxis\":{\"gridcolor\":\"white\",\"linecolor\":\"white\",\"ticks\":\"\"},\"baxis\":{\"gridcolor\":\"white\",\"linecolor\":\"white\",\"ticks\":\"\"},\"caxis\":{\"gridcolor\":\"white\",\"linecolor\":\"white\",\"ticks\":\"\"}},\"coloraxis\":{\"colorbar\":{\"outlinewidth\":0,\"ticks\":\"\"}},\"colorscale\":{\"sequential\":[[0.0,\"#0d0887\"],[0.1111111111111111,\"#46039f\"],[0.2222222222222222,\"#7201a8\"],[0.3333333333333333,\"#9c179e\"],[0.4444444444444444,\"#bd3786\"],[0.5555555555555556,\"#d8576b\"],[0.6666666666666666,\"#ed7953\"],[0.7777777777777778,\"#fb9f3a\"],[0.8888888888888888,\"#fdca26\"],[1.0,\"#f0f921\"]],\"sequentialminus\":[[0.0,\"#0d0887\"],[0.1111111111111111,\"#46039f\"],[0.2222222222222222,\"#7201a8\"],[0.3333333333333333,\"#9c179e\"],[0.4444444444444444,\"#bd3786\"],[0.5555555555555556,\"#d8576b\"],[0.6666666666666666,\"#ed7953\"],[0.7777777777777778,\"#fb9f3a\"],[0.8888888888888888,\"#fdca26\"],[1.0,\"#f0f921\"]],\"diverging\":[[0,\"#8e0152\"],[0.1,\"#c51b7d\"],[0.2,\"#de77ae\"],[0.3,\"#f1b6da\"],[0.4,\"#fde0ef\"],[0.5,\"#f7f7f7\"],[0.6,\"#e6f5d0\"],[0.7,\"#b8e186\"],[0.8,\"#7fbc41\"],[0.9,\"#4d9221\"],[1,\"#276419\"]]},\"xaxis\":{\"gridcolor\":\"white\",\"linecolor\":\"white\",\"ticks\":\"\",\"title\":{\"standoff\":15},\"zerolinecolor\":\"white\",\"automargin\":true,\"zerolinewidth\":2},\"yaxis\":{\"gridcolor\":\"white\",\"linecolor\":\"white\",\"ticks\":\"\",\"title\":{\"standoff\":15},\"zerolinecolor\":\"white\",\"automargin\":true,\"zerolinewidth\":2},\"scene\":{\"xaxis\":{\"backgroundcolor\":\"#E5ECF6\",\"gridcolor\":\"white\",\"linecolor\":\"white\",\"showbackground\":true,\"ticks\":\"\",\"zerolinecolor\":\"white\",\"gridwidth\":2},\"yaxis\":{\"backgroundcolor\":\"#E5ECF6\",\"gridcolor\":\"white\",\"linecolor\":\"white\",\"showbackground\":true,\"ticks\":\"\",\"zerolinecolor\":\"white\",\"gridwidth\":2},\"zaxis\":{\"backgroundcolor\":\"#E5ECF6\",\"gridcolor\":\"white\",\"linecolor\":\"white\",\"showbackground\":true,\"ticks\":\"\",\"zerolinecolor\":\"white\",\"gridwidth\":2}},\"shapedefaults\":{\"line\":{\"color\":\"#2a3f5f\"}},\"annotationdefaults\":{\"arrowcolor\":\"#2a3f5f\",\"arrowhead\":0,\"arrowwidth\":1},\"geo\":{\"bgcolor\":\"white\",\"landcolor\":\"#E5ECF6\",\"subunitcolor\":\"white\",\"showland\":true,\"showlakes\":true,\"lakecolor\":\"white\"},\"title\":{\"x\":0.05},\"mapbox\":{\"style\":\"light\"}}},\"xaxis\":{\"anchor\":\"y\",\"domain\":[0.0,1.0],\"title\":{\"text\":\"Anomaly\"},\"categoryorder\":\"array\",\"categoryarray\":[1,-1],\"showgrid\":true,\"gridwidth\":1,\"gridcolor\":\"skyblue\"},\"yaxis\":{\"anchor\":\"x\",\"domain\":[0.0,1.0],\"title\":{\"text\":\"Age\"},\"showgrid\":true,\"gridwidth\":1,\"gridcolor\":\"skyblue\"},\"legend\":{\"title\":{\"text\":\"Anomaly\"},\"tracegroupgap\":0},\"margin\":{\"t\":60},\"boxmode\":\"overlay\",\"title\":{\"text\":\"Box Plot of Age with Anomalies Highlighted\"},\"showlegend\":true,\"plot_bgcolor\":\"rgba(0,0,0,0)\"},                        {\"responsive\": true}                    ).then(function(){\n",
              "                            \n",
              "var gd = document.getElementById('68f801cb-80d0-4881-aa2e-ed54dbcf9929');\n",
              "var x = new MutationObserver(function (mutations, observer) {{\n",
              "        var display = window.getComputedStyle(gd).display;\n",
              "        if (!display || display === 'none') {{\n",
              "            console.log([gd, 'removed!']);\n",
              "            Plotly.purge(gd);\n",
              "            observer.disconnect();\n",
              "        }}\n",
              "}});\n",
              "\n",
              "// Listen for the removal of the full notebook cells\n",
              "var notebookContainer = gd.closest('#notebook-container');\n",
              "if (notebookContainer) {{\n",
              "    x.observe(notebookContainer, {childList: true});\n",
              "}}\n",
              "\n",
              "// Listen for the clearing of the current output cell\n",
              "var outputEl = gd.closest('.output');\n",
              "if (outputEl) {{\n",
              "    x.observe(outputEl, {childList: true});\n",
              "}}\n",
              "\n",
              "                        })                };                            </script>        </div>\n",
              "</body>\n",
              "</html>"
            ]
          },
          "metadata": {}
        },
        {
          "output_type": "stream",
          "name": "stdout",
          "text": [
            "    firstname    age     resident  anomaly  lof_anomaly\n",
            "997     Ayaan  150.0  Pemba North       -1           -1\n",
            "998     Salif    0.0       Iringa       -1           -1\n",
            "999     Adama   90.0       Kagera       -1           -1\n"
          ]
        }
      ],
      "source": [
        "box_fig_lof = px.box(df, x='lof_anomaly', y='age', color='lof_anomaly',\n",
        "                     color_discrete_map={1: 'blue', -1: 'red'},\n",
        "                     labels={'lof_anomaly': 'Anomaly', 'age': 'Age'})\n",
        "box_fig_lof.update_layout(\n",
        "    title='Box Plot of Age with Anomalies Highlighted',\n",
        "    xaxis_title='Anomaly',\n",
        "    yaxis_title='Age',\n",
        "    showlegend=True,\n",
        "    plot_bgcolor='rgba(0,0,0,0)',  # Remove background color\n",
        "    xaxis=dict(showgrid=True, gridwidth=1, gridcolor='skyblue'),  # Add x-axis gridlines\n",
        "    yaxis=dict(showgrid=True, gridwidth=1, gridcolor='skyblue'),  # Add y-axis gridlines\n",
        ")\n",
        "box_fig_lof.show()\n",
        "print(lof_outliers)"
      ]
    },
    {
      "cell_type": "markdown",
      "id": "27408c2e-50a0-45cd-9db2-32fe9a9379c4",
      "metadata": {
        "id": "27408c2e-50a0-45cd-9db2-32fe9a9379c4"
      },
      "source": [
        "> # **5. PERCENTILE-BASED METHOD**\n"
      ]
    },
    {
      "cell_type": "code",
      "execution_count": 63,
      "id": "1bb3ad33-459f-4fd4-bb78-faae2a05b84e",
      "metadata": {
        "id": "1bb3ad33-459f-4fd4-bb78-faae2a05b84e"
      },
      "outputs": [],
      "source": [
        "# Define thresholds for top and bottom percentiles\n",
        "top_percentile = 95\n",
        "bottom_percentile = 5\n",
        "\n",
        "# Calculate percentile values\n",
        "top_threshold = np.percentile(df['age'], top_percentile)\n",
        "bottom_threshold = np.percentile(df['age'], bottom_percentile)\n",
        "\n",
        "# Identify outliers\n",
        "percentile_outliers_top = df[df['age'] > top_threshold]\n",
        "percentile_outliers_bottom = df[df['age'] < bottom_threshold]"
      ]
    },
    {
      "cell_type": "code",
      "execution_count": 64,
      "id": "f3d6f96f-dbe3-4b33-ad5a-5bfe3780fc58",
      "metadata": {
        "colab": {
          "base_uri": "https://localhost:8080/"
        },
        "id": "f3d6f96f-dbe3-4b33-ad5a-5bfe3780fc58",
        "outputId": "28f1ddb4-a8d8-412e-f9de-a01692b186aa"
      },
      "outputs": [
        {
          "output_type": "stream",
          "name": "stdout",
          "text": [
            "Top Percentile Outliers\n",
            "    firstname   age       resident  anomaly  lof_anomaly\n",
            "63       Lulu  64.0          Pwani        1            1\n",
            "69     Ifeoma  64.0          Tanga        1            1\n",
            "77       Dayo  65.0  Dar es Salaam        1            1\n",
            "117    Jelani  64.0      Shinyanga        1            1\n",
            "149      Yemi  65.0         Mwanza        1            1\n"
          ]
        }
      ],
      "source": [
        "# Print outliers\n",
        "print(\"Top Percentile Outliers\")\n",
        "print(percentile_outliers_top.head())"
      ]
    },
    {
      "cell_type": "code",
      "execution_count": 65,
      "id": "a955c2d5-cb46-463b-aa90-83d45e62d1a5",
      "metadata": {
        "colab": {
          "base_uri": "https://localhost:8080/"
        },
        "id": "a955c2d5-cb46-463b-aa90-83d45e62d1a5",
        "outputId": "2bfa2b22-7084-4a19-ffa7-9aed02348365"
      },
      "outputs": [
        {
          "output_type": "stream",
          "name": "stdout",
          "text": [
            "Bottom Percentile Outliers\n",
            "   firstname   age     resident  anomaly  lof_anomaly\n",
            "15   Achieng  18.0  Pemba South        1            1\n",
            "34     Gimba  18.0       Katavi        1            1\n",
            "42     Penda  19.0      Manyara        1            1\n",
            "45      Femi  19.0       Songwe        1            1\n",
            "55     Odera  18.0        Mbeya        1            1\n"
          ]
        }
      ],
      "source": [
        "print(\"Bottom Percentile Outliers\")\n",
        "print(percentile_outliers_bottom.head())"
      ]
    },
    {
      "cell_type": "markdown",
      "id": "4f2ee722-f6c9-4e18-9fe5-9aa42fb6a3c5",
      "metadata": {
        "id": "4f2ee722-f6c9-4e18-9fe5-9aa42fb6a3c5"
      },
      "source": [
        "# **SECTION C  OUTLIERS TREATMENT TECHNIQUES SECTION**\n",
        "<hr>\n"
      ]
    },
    {
      "cell_type": "markdown",
      "id": "7741c440-e9d5-4b8d-9a70-1bbf4040356f",
      "metadata": {
        "id": "7741c440-e9d5-4b8d-9a70-1bbf4040356f"
      },
      "source": [
        "> Winsorization, or winsorizing, is the process of transforming the data by limiting the extreme values, that is, the outliers, to a certain arbitrary value, closer to the mean of the distribution. Winsorizing is different from trimming because the extreme values are not removed, but are instead replaced by other values. A typical strategy involves setting outliers to a specified percentile\n"
      ]
    },
    {
      "cell_type": "code",
      "execution_count": 66,
      "id": "32d758f6-0d66-47f1-8dbe-b873e3e8718d",
      "metadata": {
        "colab": {
          "base_uri": "https://localhost:8080/"
        },
        "id": "32d758f6-0d66-47f1-8dbe-b873e3e8718d",
        "outputId": "b4bafe23-171b-493e-8118-968033e3c6c4"
      },
      "outputs": [
        {
          "output_type": "stream",
          "name": "stdout",
          "text": [
            "     Original Age  Winsorized Age\n",
            "0       36.000000       36.000000\n",
            "1       41.890397       41.890397\n",
            "2       21.000000       21.000000\n",
            "3       57.000000       57.000000\n",
            "4       54.000000       54.000000\n",
            "..            ...             ...\n",
            "995     41.890397       41.890397\n",
            "996     45.000000       45.000000\n",
            "997    150.000000       63.000000\n",
            "998      0.000000       20.000000\n",
            "999     90.000000       63.000000\n",
            "\n",
            "[1000 rows x 2 columns]\n"
          ]
        }
      ],
      "source": [
        "# Define the percentile values for Winsorization\n",
        "winsor_percentile = 5  # Set to 5th and 95th percentile for lower and upper bounds\n",
        "\n",
        "# Calculate Winsorization bounds\n",
        "lower_bound = np.percentile(df['age'], winsor_percentile)\n",
        "upper_bound = np.percentile(df['age'], 100 - winsor_percentile)\n",
        "\n",
        "# Winsorization\n",
        "df['age_winsorized'] = df['age'].clip(lower=lower_bound, upper=upper_bound)\n",
        "\n",
        "# Concatenate original and winsorized data along columns axis\n",
        "concatenated_df = pd.concat([df[['age']], df[['age_winsorized']]], axis=1)\n",
        "concatenated_df.columns = ['Original Age', 'Winsorized Age']\n",
        "\n",
        "# Display concatenated data\n",
        "print(concatenated_df)"
      ]
    }
  ],
  "metadata": {
    "kernelspec": {
      "display_name": "Python 3 (ipykernel)",
      "language": "python",
      "name": "python3"
    },
    "language_info": {
      "codemirror_mode": {
        "name": "ipython",
        "version": 3
      },
      "file_extension": ".py",
      "mimetype": "text/x-python",
      "name": "python",
      "nbconvert_exporter": "python",
      "pygments_lexer": "ipython3",
      "version": "3.11.7"
    },
    "colab": {
      "provenance": [],
      "collapsed_sections": [
        "wdWVWVAcGVm9"
      ],
      "include_colab_link": true
    }
  },
  "nbformat": 4,
  "nbformat_minor": 5
}